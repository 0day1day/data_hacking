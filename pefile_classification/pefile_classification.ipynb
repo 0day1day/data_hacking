{
 "metadata": {
  "name": ""
 },
 "nbformat": 3,
 "nbformat_minor": 0,
 "worksheets": [
  {
   "cells": [
    {
     "cell_type": "markdown",
     "metadata": {
      "slideshow": {
       "slide_type": "slide"
      }
     },
     "source": [
      "## PEFile Classification Exercise\n",
      "<div style=\"float: right; padding: 0px 0px 0px 50px;\"><img src=\"files/images/dr_perceptron.jpg\" width=\"300px\"></div>\n",
      "<font size=4>In this notebook we're going to explore, understand and classify PE (Portable Executable) Files as being 'benign' or 'malicious' The primary motivation is to explore the nexus of IPython, Pandas and scikit-learn with PE File classification as a vehicle for that exploration. The exercise intentionally shows what machine learning experts might call a naive approach, this is for clarity and conciseness. Recommendations for deeper materials and resources are given in the conclusion.</font>\n",
      "\n",
      "### Python Modules Used:\n",
      "<font size=4>\n",
      "<ul>\n",
      "<li>Pandas: Python Data Analysis Library (http://pandas.pydata.org)\n",
      "<li>Scikit Learn (http://scikit-learn.org) Scikit-learn: Machine Learning in Python, Pedregosa et al., JMLR 12, pp. 2825-2830, 2011.\n",
      "<li>Matplotlib: Python 2D plotting library (http://matplotlib.org)\n",
      "</ul>\n",
      "** Data Hacking Pipeline: **\n",
      "<ul>\n",
      "  <li> Raw Data\n",
      "  <li> Data Frame\n",
      "  <ul>\n",
      "    <li> Gisting and Statistics\n",
      "    <li> Visualization I\n",
      "  </ul>\n",
      "  <li> X Matrix, y Vector\n",
      "  <ul>\n",
      "    <li> Machine Learning\n",
      "    <li> Visualization II\n",
      "  </ul>\n",
      "</ul>\n",
      "**All Code and IPython Notebooks for this talk http://clicksecurity.github.io/data_hacking**\n",
      "</font>\n",
      "<br>"
     ]
    },
    {
     "cell_type": "markdown",
     "metadata": {
      "slideshow": {
       "slide_type": "slide"
      }
     },
     "source": [
      "### Imports and plot defaults"
     ]
    },
    {
     "cell_type": "code",
     "collapsed": false,
     "input": [
      "import os\n",
      "import sklearn.feature_extraction\n",
      "sklearn.__version__"
     ],
     "language": "python",
     "metadata": {
      "slideshow": {
       "slide_type": "fragment"
      }
     },
     "outputs": [
      {
       "metadata": {},
       "output_type": "pyout",
       "prompt_number": 4,
       "text": [
        "'0.14.1'"
       ]
      }
     ],
     "prompt_number": 4
    },
    {
     "cell_type": "code",
     "collapsed": false,
     "input": [
      "import pandas as pd\n",
      "pd.__version__"
     ],
     "language": "python",
     "metadata": {
      "slideshow": {
       "slide_type": "fragment"
      }
     },
     "outputs": [
      {
       "metadata": {},
       "output_type": "pyout",
       "prompt_number": 5,
       "text": [
        "'0.13.1'"
       ]
      }
     ],
     "prompt_number": 5
    },
    {
     "cell_type": "code",
     "collapsed": false,
     "input": [
      "import numpy as np\n",
      "np.__version__"
     ],
     "language": "python",
     "metadata": {},
     "outputs": [
      {
       "metadata": {},
       "output_type": "pyout",
       "prompt_number": 45,
       "text": [
        "'1.8.0'"
       ]
      }
     ],
     "prompt_number": 45
    },
    {
     "cell_type": "code",
     "collapsed": false,
     "input": [
      "# Plotting defaults\n",
      "import matplotlib.pyplot as plt\n",
      "%matplotlib inline\n",
      "plt.rcParams['font.size'] = 18.0\n",
      "plt.rcParams['figure.figsize'] = 12.0, 5.0"
     ],
     "language": "python",
     "metadata": {
      "slideshow": {
       "slide_type": "fragment"
      }
     },
     "outputs": [],
     "prompt_number": 6
    },
    {
     "cell_type": "code",
     "collapsed": false,
     "input": [
      "def plot_cm(cm, labels):\n",
      "    # Compute percentanges\n",
      "    percent = (cm*100.0)/np.array(np.matrix(cm.sum(axis=1)).T)  # Derp, I'm sure there's a better way   \n",
      "    print 'Confusion Matrix Stats'\n",
      "    for i, label_i in enumerate(labels):\n",
      "        for j, label_j in enumerate(labels):\n",
      "            print \"%s/%s: %.2f%% (%d/%d)\" % (label_i, label_j, (percent[i][j]), cm[i][j], cm[i].sum())\n",
      "\n",
      "    # Show confusion matrix\n",
      "    # Thanks kermit666 from stackoverflow :)\n",
      "    fig = plt.figure()\n",
      "    ax = fig.add_subplot(111)\n",
      "    ax.grid(b=False)\n",
      "    cax = ax.matshow(percent, cmap='coolwarm')\n",
      "    plt.title('Confusion matrix of the classifier')\n",
      "    fig.colorbar(cax)\n",
      "    ax.set_xticklabels([''] + labels)\n",
      "    ax.set_yticklabels([''] + labels)\n",
      "    plt.xlabel('Predicted')\n",
      "    plt.ylabel('True')\n",
      "    plt.show()"
     ],
     "language": "python",
     "metadata": {},
     "outputs": [],
     "prompt_number": 110
    },
    {
     "cell_type": "code",
     "collapsed": false,
     "input": [
      "import os, warnings\n",
      "warnings.filterwarnings(\"ignore\", category=DeprecationWarning)"
     ],
     "language": "python",
     "metadata": {},
     "outputs": [],
     "prompt_number": 111
    },
    {
     "cell_type": "markdown",
     "metadata": {
      "slideshow": {
       "slide_type": "slide"
      }
     },
     "source": [
      "<div style=\"float: left; margin: 0px 30px 0px 0px\"><img src=\"files/images/disk.jpg\" width=\"250px\"></div>\n",
      "# Read in the Raw Data\n",
      "<font size=4>In particular for PE Files we want to quickly go from the raw binary files to a Pandas DataFrame. Workbench is completely awesome for that kind of thing. </font>"
     ]
    },
    {
     "cell_type": "code",
     "collapsed": false,
     "input": [
      "# Okay a bit cheesy here, just run the pefile module on your files \n",
      "# (the workbench utility not available :(\n",
      "import zerorpc\n",
      "c = zerorpc.Client()\n",
      "c.connect(\"tcp://localhost:4242\")\n",
      "filename = 'data/bad/0cb9aa6fb9c4aa3afad7a303e21ac0f3'\n",
      "with open(filename,'rb') as f:\n",
      "    md5 = c.store_sample(filename, f.read(),'pe')\n",
      "c.work_request('pe_features', md5)"
     ],
     "language": "python",
     "metadata": {
      "slideshow": {
       "slide_type": "fragment"
      }
     },
     "outputs": [
      {
       "metadata": {},
       "output_type": "pyout",
       "prompt_number": 112,
       "text": [
        "{'pe_features': {'dense_features': {'check_sum': 0,\n",
        "   'compile_date': 1218437803,\n",
        "   'datadir_IMAGE_DIRECTORY_ENTRY_BASERELOC_size': 0,\n",
        "   'datadir_IMAGE_DIRECTORY_ENTRY_EXPORT_size': 0,\n",
        "   'datadir_IMAGE_DIRECTORY_ENTRY_IAT_size': 468,\n",
        "   'datadir_IMAGE_DIRECTORY_ENTRY_IMPORT_size': 100,\n",
        "   'datadir_IMAGE_DIRECTORY_ENTRY_RESOURCE_size': 1048,\n",
        "   'debug_size': 0,\n",
        "   'export_size': 0,\n",
        "   'generated_check_sum': 53913,\n",
        "   'iat_rva': 9256,\n",
        "   'major_version': 0,\n",
        "   'minor_version': 0,\n",
        "   'number_of_bound_import_symbols': 0,\n",
        "   'number_of_bound_imports': 0,\n",
        "   'number_of_export_symbols': 0,\n",
        "   'number_of_import_symbols': 113,\n",
        "   'number_of_imports': 4,\n",
        "   'number_of_rva_and_sizes': 16,\n",
        "   'number_of_sections': 4,\n",
        "   'pe_char': 271,\n",
        "   'pe_dll': 0,\n",
        "   'pe_driver': 0,\n",
        "   'pe_exe': 1,\n",
        "   'pe_i386': 1,\n",
        "   'pe_majorlink': 6,\n",
        "   'pe_minorlink': 0,\n",
        "   'pe_warnings': 0,\n",
        "   'sec_entropy_data': 0.4421475832668401,\n",
        "   'sec_entropy_rdata': 3.2064873564662046,\n",
        "   'sec_entropy_reloc': 0,\n",
        "   'sec_entropy_rsrc': 1.028676764457129,\n",
        "   'sec_entropy_text': 4.852962403013336,\n",
        "   'sec_raw_execsize': 16384,\n",
        "   'sec_rawptr_data': 12288,\n",
        "   'sec_rawptr_rdata': 8192,\n",
        "   'sec_rawptr_rsrc': 16384,\n",
        "   'sec_rawptr_text': 4096,\n",
        "   'sec_rawsize_data': 4096,\n",
        "   'sec_rawsize_rdata': 4096,\n",
        "   'sec_rawsize_rsrc': 4096,\n",
        "   'sec_rawsize_text': 4096,\n",
        "   'sec_va_execsize': 7044,\n",
        "   'sec_vasize_data': 468,\n",
        "   'sec_vasize_rdata': 2182,\n",
        "   'sec_vasize_rsrc': 1048,\n",
        "   'sec_vasize_text': 3346,\n",
        "   'size_code': 4096,\n",
        "   'size_image': 20480,\n",
        "   'size_initdata': 12288,\n",
        "   'size_uninit': 0,\n",
        "   'std_section_names': 1,\n",
        "   'total_size_pe': 20480,\n",
        "   'virtual_address': 4096,\n",
        "   'virtual_size': 3346,\n",
        "   'virtual_size_2': 2182},\n",
        "  'md5': '0cb9aa6fb9c4aa3afad7a303e21ac0f3',\n",
        "  'sparse_features': {'imported_symbols': ['mfc42.dll:ordinal=2514',\n",
        "    'mfc42.dll:ordinal=5163',\n",
        "    'mfc42.dll:ordinal=2396',\n",
        "    'mfc42.dll:ordinal=4673',\n",
        "    'mfc42.dll:ordinal=1089',\n",
        "    'kernel32.dll:name=getstartupinfoa',\n",
        "    'mfc42.dll:ordinal=5241',\n",
        "    'mfc42.dll:ordinal=815',\n",
        "    'msvcrt.dll:name=_controlfp',\n",
        "    'mfc42.dll:ordinal=4465',\n",
        "    'user32.dll:name=setcursorpos',\n",
        "    'mfc42.dll:ordinal=4837',\n",
        "    'user32.dll:name=iswindowvisible',\n",
        "    'mfc42.dll:ordinal=3825',\n",
        "    'mfc42.dll:ordinal=2554',\n",
        "    'mfc42.dll:ordinal=4274',\n",
        "    'mfc42.dll:ordinal=1168',\n",
        "    'mfc42.dll:ordinal=6052',\n",
        "    'msvcrt.dll:name=__getmainargs',\n",
        "    'mfc42.dll:ordinal=1576',\n",
        "    'mfc42.dll:ordinal=4079',\n",
        "    'mfc42.dll:ordinal=4078',\n",
        "    'mfc42.dll:ordinal=2385',\n",
        "    'user32.dll:name=mouse_event',\n",
        "    'mfc42.dll:ordinal=641',\n",
        "    'mfc42.dll:ordinal=3798',\n",
        "    'mfc42.dll:ordinal=2976',\n",
        "    'mfc42.dll:ordinal=5277',\n",
        "    'msvcrt.dll:name=__p__fmode',\n",
        "    'msvcrt.dll:name=_initterm',\n",
        "    'mfc42.dll:ordinal=2985',\n",
        "    'mfc42.dll:ordinal=2982',\n",
        "    'mfc42.dll:ordinal=537',\n",
        "    'mfc42.dll:ordinal=825',\n",
        "    'mfc42.dll:ordinal=5065',\n",
        "    'mfc42.dll:ordinal=3081',\n",
        "    'user32.dll:name=getclientrect',\n",
        "    'user32.dll:name=sendmessagea',\n",
        "    'user32.dll:name=findwindowa',\n",
        "    'mfc42.dll:ordinal=2055',\n",
        "    'mfc42.dll:ordinal=324',\n",
        "    'mfc42.dll:ordinal=1727',\n",
        "    'mfc42.dll:ordinal=4441',\n",
        "    'mfc42.dll:ordinal=5714',\n",
        "    'user32.dll:name=enablewindow',\n",
        "    'user32.dll:name=showwindow',\n",
        "    'mfc42.dll:ordinal=3262',\n",
        "    'mfc42.dll:ordinal=800',\n",
        "    'mfc42.dll:ordinal=3738',\n",
        "    'user32.dll:name=findwindowexa',\n",
        "    'mfc42.dll:ordinal=4627',\n",
        "    'mfc42.dll:ordinal=4622',\n",
        "    'mfc42.dll:ordinal=4424',\n",
        "    'mfc42.dll:ordinal=4425',\n",
        "    'mfc42.dll:ordinal=2725',\n",
        "    'mfc42.dll:ordinal=4353',\n",
        "    'mfc42.dll:ordinal=5265',\n",
        "    'mfc42.dll:ordinal=5261',\n",
        "    'mfc42.dll:ordinal=4698',\n",
        "    'mfc42.dll:ordinal=2446',\n",
        "    'user32.dll:name=enumchildwindows',\n",
        "    'mfc42.dll:ordinal=3147',\n",
        "    'mfc42.dll:ordinal=5289',\n",
        "    'mfc42.dll:ordinal=3259',\n",
        "    'mfc42.dll:ordinal=2512',\n",
        "    'user32.dll:name=enumwindows',\n",
        "    'mfc42.dll:ordinal=5280',\n",
        "    'user32.dll:name=getwindowrect',\n",
        "    'msvcrt.dll:name=_acmdln',\n",
        "    'mfc42.dll:ordinal=5199',\n",
        "    'msvcrt.dll:name=_setmbcp',\n",
        "    'mfc42.dll:ordinal=3749',\n",
        "    'mfc42.dll:ordinal=4486',\n",
        "    'msvcrt.dll:name=__p__commode',\n",
        "    'msvcrt.dll:name=_xcptfilter',\n",
        "    'msvcrt.dll:name=__dllonexit',\n",
        "    'mfc42.dll:ordinal=941',\n",
        "    'mfc42.dll:ordinal=3922',\n",
        "    'msvcrt.dll:name=_adjust_fdiv',\n",
        "    'mfc42.dll:ordinal=4407',\n",
        "    'mfc42.dll:ordinal=3597',\n",
        "    'user32.dll:name=settimer',\n",
        "    'msvcrt.dll:name=_except_handler3',\n",
        "    'mfc42.dll:ordinal=4080',\n",
        "    'mfc42.dll:ordinal=3136',\n",
        "    'mfc42.dll:ordinal=5731',\n",
        "    'msvcrt.dll:name=exit',\n",
        "    'mfc42.dll:ordinal=4710',\n",
        "    'mfc42.dll:ordinal=5300',\n",
        "    'mfc42.dll:ordinal=5302',\n",
        "    'mfc42.dll:ordinal=5307',\n",
        "    'msvcrt.dll:name=__set_app_type',\n",
        "    'mfc42.dll:ordinal=4853',\n",
        "    'mfc42.dll:ordinal=4998',\n",
        "    'msvcrt.dll:name=__setusermatherr',\n",
        "    'mfc42.dll:ordinal=561',\n",
        "    'mfc42.dll:ordinal=2124',\n",
        "    'mfc42.dll:ordinal=1775',\n",
        "    'kernel32.dll:name=getmodulehandlea',\n",
        "    'mfc42.dll:ordinal=3346',\n",
        "    'mfc42.dll:ordinal=3079',\n",
        "    'mfc42.dll:ordinal=2648',\n",
        "    'msvcrt.dll:name=_exit',\n",
        "    'msvcrt.dll:name=_onexit',\n",
        "    'mfc42.dll:ordinal=3830',\n",
        "    'mfc42.dll:ordinal=3831',\n",
        "    'user32.dll:name=getsystemmetrics',\n",
        "    'mfc42.dll:ordinal=4234',\n",
        "    'mfc42.dll:ordinal=6374',\n",
        "    'mfc42.dll:ordinal=6375',\n",
        "    'mfc42.dll:ordinal=6376',\n",
        "    'mfc42.dll:ordinal=4376',\n",
        "    'msvcrt.dll:name=__cxxframehandler'],\n",
        "   'pe_warning_strings': 0,\n",
        "   'section_names': ['.text', '.rdata', '.data', '.rsrc']}}}"
       ]
      }
     ],
     "prompt_number": 112
    },
    {
     "cell_type": "code",
     "collapsed": false,
     "input": [
      "# Load up all our files (files come from various places contagio, around the net...)\n",
      "def load_files(file_list):\n",
      "    md5_list = []\n",
      "    for filename in file_list:\n",
      "        with open(filename,'rb') as f:\n",
      "            md5_list.append(c.store_sample(filename, f.read(), 'pe'))\n",
      "    return md5_list"
     ],
     "language": "python",
     "metadata": {},
     "outputs": [],
     "prompt_number": 9
    },
    {
     "cell_type": "code",
     "collapsed": false,
     "input": [
      "# Bad (malicious) files\n",
      "file_list = [os.path.join('data/bad', child) for child in os.listdir('data/bad')]\n",
      "bad_md5s = load_files(file_list)\n",
      "print 'Loaded up %d malicious PE Files' % len(bad_md5s)"
     ],
     "language": "python",
     "metadata": {},
     "outputs": [
      {
       "output_type": "stream",
       "stream": "stdout",
       "text": [
        "Loaded up 49 malicious PE Files\n"
       ]
      }
     ],
     "prompt_number": 10
    },
    {
     "cell_type": "code",
     "collapsed": false,
     "input": [
      "# Good (benign) files\n",
      "file_list = [os.path.join('data/good', child) for child in os.listdir('data/good')]\n",
      "good_md5s = load_files(file_list)\n",
      "print 'Loaded up %d benign PE Files' % len(good_md5s)"
     ],
     "language": "python",
     "metadata": {},
     "outputs": [
      {
       "output_type": "stream",
       "stream": "stdout",
       "text": [
        "Loaded up 50 benign PE Files\n"
       ]
      }
     ],
     "prompt_number": 11
    },
    {
     "cell_type": "code",
     "collapsed": false,
     "input": [
      "# Grab features and put them into a pandas dataframe\n",
      "bad_features  = c.batch_work_request('pe_features', bad_md5s, 'dense_features')\n",
      "good_features = c.batch_work_request('pe_features', good_md5s, 'dense_features')\n",
      "\n",
      "import pandas as pd\n",
      "df_bad = pd.DataFrame.from_records(bad_features)\n",
      "df_bad['label'] = 'bad'\n",
      "df_good = pd.DataFrame.from_records(good_features)\n",
      "df_good['label'] = 'good'\n",
      "df_good.head()"
     ],
     "language": "python",
     "metadata": {},
     "outputs": [
      {
       "html": [
        "<div style=\"max-height:1000px;max-width:1500px;overflow:auto;\">\n",
        "<table border=\"1\" class=\"dataframe\">\n",
        "  <thead>\n",
        "    <tr style=\"text-align: right;\">\n",
        "      <th></th>\n",
        "      <th>check_sum</th>\n",
        "      <th>compile_date</th>\n",
        "      <th>datadir_IMAGE_DIRECTORY_ENTRY_BASERELOC_size</th>\n",
        "      <th>datadir_IMAGE_DIRECTORY_ENTRY_EXPORT_size</th>\n",
        "      <th>datadir_IMAGE_DIRECTORY_ENTRY_IAT_size</th>\n",
        "      <th>datadir_IMAGE_DIRECTORY_ENTRY_IMPORT_size</th>\n",
        "      <th>datadir_IMAGE_DIRECTORY_ENTRY_RESOURCE_size</th>\n",
        "      <th>debug_size</th>\n",
        "      <th>export_size</th>\n",
        "      <th>generated_check_sum</th>\n",
        "      <th>iat_rva</th>\n",
        "      <th>major_version</th>\n",
        "      <th>minor_version</th>\n",
        "      <th>number_of_bound_import_symbols</th>\n",
        "      <th>number_of_bound_imports</th>\n",
        "      <th>number_of_export_symbols</th>\n",
        "      <th>number_of_import_symbols</th>\n",
        "      <th>number_of_imports</th>\n",
        "      <th>number_of_rva_and_sizes</th>\n",
        "      <th>number_of_sections</th>\n",
        "      <th></th>\n",
        "    </tr>\n",
        "  </thead>\n",
        "  <tbody>\n",
        "    <tr>\n",
        "      <th>0</th>\n",
        "      <td>  97308</td>\n",
        "      <td> 1383744221</td>\n",
        "      <td> 3044</td>\n",
        "      <td> 0</td>\n",
        "      <td>  592</td>\n",
        "      <td> 140</td>\n",
        "      <td>  7368</td>\n",
        "      <td> 28</td>\n",
        "      <td> 0</td>\n",
        "      <td>  97308</td>\n",
        "      <td> 50424</td>\n",
        "      <td> 0</td>\n",
        "      <td> 0</td>\n",
        "      <td> 0</td>\n",
        "      <td> 0</td>\n",
        "      <td> 0</td>\n",
        "      <td> 142</td>\n",
        "      <td> 6</td>\n",
        "      <td> 16</td>\n",
        "      <td> 5</td>\n",
        "      <td>...</td>\n",
        "    </tr>\n",
        "    <tr>\n",
        "      <th>1</th>\n",
        "      <td> 103233</td>\n",
        "      <td> 1383102953</td>\n",
        "      <td>   60</td>\n",
        "      <td> 0</td>\n",
        "      <td> 1008</td>\n",
        "      <td>  60</td>\n",
        "      <td>   872</td>\n",
        "      <td> 28</td>\n",
        "      <td> 0</td>\n",
        "      <td> 103233</td>\n",
        "      <td> 53248</td>\n",
        "      <td> 5</td>\n",
        "      <td> 1</td>\n",
        "      <td> 0</td>\n",
        "      <td> 0</td>\n",
        "      <td> 0</td>\n",
        "      <td> 124</td>\n",
        "      <td> 2</td>\n",
        "      <td> 16</td>\n",
        "      <td> 8</td>\n",
        "      <td>...</td>\n",
        "    </tr>\n",
        "    <tr>\n",
        "      <th>2</th>\n",
        "      <td>  26573</td>\n",
        "      <td> 1386271379</td>\n",
        "      <td>  360</td>\n",
        "      <td> 0</td>\n",
        "      <td>  208</td>\n",
        "      <td> 100</td>\n",
        "      <td>  2588</td>\n",
        "      <td> 28</td>\n",
        "      <td> 0</td>\n",
        "      <td>  25971</td>\n",
        "      <td>  8804</td>\n",
        "      <td> 0</td>\n",
        "      <td> 0</td>\n",
        "      <td> 0</td>\n",
        "      <td> 0</td>\n",
        "      <td> 0</td>\n",
        "      <td>  48</td>\n",
        "      <td> 4</td>\n",
        "      <td> 16</td>\n",
        "      <td> 5</td>\n",
        "      <td>...</td>\n",
        "    </tr>\n",
        "    <tr>\n",
        "      <th>3</th>\n",
        "      <td>      0</td>\n",
        "      <td> 1373925025</td>\n",
        "      <td>   12</td>\n",
        "      <td> 0</td>\n",
        "      <td>    8</td>\n",
        "      <td>  83</td>\n",
        "      <td> 11904</td>\n",
        "      <td> 28</td>\n",
        "      <td> 0</td>\n",
        "      <td>  54015</td>\n",
        "      <td> 35064</td>\n",
        "      <td> 0</td>\n",
        "      <td> 0</td>\n",
        "      <td> 0</td>\n",
        "      <td> 0</td>\n",
        "      <td> 0</td>\n",
        "      <td>   1</td>\n",
        "      <td> 1</td>\n",
        "      <td> 16</td>\n",
        "      <td> 4</td>\n",
        "      <td>...</td>\n",
        "    </tr>\n",
        "    <tr>\n",
        "      <th>4</th>\n",
        "      <td>  50003</td>\n",
        "      <td> 1378865704</td>\n",
        "      <td>  360</td>\n",
        "      <td> 0</td>\n",
        "      <td>  208</td>\n",
        "      <td> 100</td>\n",
        "      <td>  2588</td>\n",
        "      <td> 28</td>\n",
        "      <td> 0</td>\n",
        "      <td>  59485</td>\n",
        "      <td>  8804</td>\n",
        "      <td> 0</td>\n",
        "      <td> 0</td>\n",
        "      <td> 0</td>\n",
        "      <td> 0</td>\n",
        "      <td> 0</td>\n",
        "      <td>  48</td>\n",
        "      <td> 4</td>\n",
        "      <td> 16</td>\n",
        "      <td> 5</td>\n",
        "      <td>...</td>\n",
        "    </tr>\n",
        "  </tbody>\n",
        "</table>\n",
        "<p>5 rows \u00d7 108 columns</p>\n",
        "</div>"
       ],
       "metadata": {},
       "output_type": "pyout",
       "prompt_number": 19,
       "text": [
        "   check_sum  compile_date  datadir_IMAGE_DIRECTORY_ENTRY_BASERELOC_size  \\\n",
        "0      97308    1383744221                                          3044   \n",
        "1     103233    1383102953                                            60   \n",
        "2      26573    1386271379                                           360   \n",
        "3          0    1373925025                                            12   \n",
        "4      50003    1378865704                                           360   \n",
        "\n",
        "   datadir_IMAGE_DIRECTORY_ENTRY_EXPORT_size  \\\n",
        "0                                          0   \n",
        "1                                          0   \n",
        "2                                          0   \n",
        "3                                          0   \n",
        "4                                          0   \n",
        "\n",
        "   datadir_IMAGE_DIRECTORY_ENTRY_IAT_size  \\\n",
        "0                                     592   \n",
        "1                                    1008   \n",
        "2                                     208   \n",
        "3                                       8   \n",
        "4                                     208   \n",
        "\n",
        "   datadir_IMAGE_DIRECTORY_ENTRY_IMPORT_size  \\\n",
        "0                                        140   \n",
        "1                                         60   \n",
        "2                                        100   \n",
        "3                                         83   \n",
        "4                                        100   \n",
        "\n",
        "   datadir_IMAGE_DIRECTORY_ENTRY_RESOURCE_size  debug_size  export_size  \\\n",
        "0                                         7368          28            0   \n",
        "1                                          872          28            0   \n",
        "2                                         2588          28            0   \n",
        "3                                        11904          28            0   \n",
        "4                                         2588          28            0   \n",
        "\n",
        "   generated_check_sum  iat_rva  major_version  minor_version  \\\n",
        "0                97308    50424              0              0   \n",
        "1               103233    53248              5              1   \n",
        "2                25971     8804              0              0   \n",
        "3                54015    35064              0              0   \n",
        "4                59485     8804              0              0   \n",
        "\n",
        "   number_of_bound_import_symbols  number_of_bound_imports  \\\n",
        "0                               0                        0   \n",
        "1                               0                        0   \n",
        "2                               0                        0   \n",
        "3                               0                        0   \n",
        "4                               0                        0   \n",
        "\n",
        "   number_of_export_symbols  number_of_import_symbols  number_of_imports  \\\n",
        "0                         0                       142                  6   \n",
        "1                         0                       124                  2   \n",
        "2                         0                        48                  4   \n",
        "3                         0                         1                  1   \n",
        "4                         0                        48                  4   \n",
        "\n",
        "   number_of_rva_and_sizes  number_of_sections      \n",
        "0                       16                   5 ...  \n",
        "1                       16                   8 ...  \n",
        "2                       16                   5 ...  \n",
        "3                       16                   4 ...  \n",
        "4                       16                   5 ...  \n",
        "\n",
        "[5 rows x 108 columns]"
       ]
      }
     ],
     "prompt_number": 19
    },
    {
     "cell_type": "code",
     "collapsed": false,
     "input": [
      "# Now we're set and we open up a a whole new world!\n",
      "\n",
      "# Gisting and statistics\n",
      "df_bad.describe()"
     ],
     "language": "python",
     "metadata": {},
     "outputs": [
      {
       "html": [
        "<div style=\"max-height:1000px;max-width:1500px;overflow:auto;\">\n",
        "<table border=\"1\" class=\"dataframe\">\n",
        "  <thead>\n",
        "    <tr style=\"text-align: right;\">\n",
        "      <th></th>\n",
        "      <th>check_sum</th>\n",
        "      <th>compile_date</th>\n",
        "      <th>datadir_IMAGE_DIRECTORY_ENTRY_BASERELOC_size</th>\n",
        "      <th>datadir_IMAGE_DIRECTORY_ENTRY_EXPORT_size</th>\n",
        "      <th>datadir_IMAGE_DIRECTORY_ENTRY_IAT_size</th>\n",
        "      <th>datadir_IMAGE_DIRECTORY_ENTRY_IMPORT_size</th>\n",
        "      <th>datadir_IMAGE_DIRECTORY_ENTRY_RESOURCE_size</th>\n",
        "      <th>debug_size</th>\n",
        "      <th>export_size</th>\n",
        "      <th>generated_check_sum</th>\n",
        "      <th>iat_rva</th>\n",
        "      <th>major_version</th>\n",
        "      <th>minor_version</th>\n",
        "      <th>number_of_bound_import_symbols</th>\n",
        "      <th>number_of_bound_imports</th>\n",
        "      <th>number_of_export_symbols</th>\n",
        "      <th>number_of_import_symbols</th>\n",
        "      <th>number_of_imports</th>\n",
        "      <th>number_of_rva_and_sizes</th>\n",
        "      <th>number_of_sections</th>\n",
        "      <th></th>\n",
        "    </tr>\n",
        "  </thead>\n",
        "  <tbody>\n",
        "    <tr>\n",
        "      <th>count</th>\n",
        "      <td>     49.000000</td>\n",
        "      <td> 4.900000e+01</td>\n",
        "      <td>   49.000000</td>\n",
        "      <td>  49.000000</td>\n",
        "      <td>  49.000000</td>\n",
        "      <td>   49.000000</td>\n",
        "      <td>    49.000000</td>\n",
        "      <td> 49.000000</td>\n",
        "      <td>  49.000000</td>\n",
        "      <td>     49.000000</td>\n",
        "      <td>     49.000000</td>\n",
        "      <td> 49.000000</td>\n",
        "      <td> 49.000000</td>\n",
        "      <td> 49.000000</td>\n",
        "      <td> 49.000000</td>\n",
        "      <td> 49.000000</td>\n",
        "      <td>  49.000000</td>\n",
        "      <td> 49.000000</td>\n",
        "      <td> 49</td>\n",
        "      <td> 49.000000</td>\n",
        "      <td>...</td>\n",
        "    </tr>\n",
        "    <tr>\n",
        "      <th>mean</th>\n",
        "      <td>  25750.673469</td>\n",
        "      <td> 1.044953e+09</td>\n",
        "      <td>  423.755102</td>\n",
        "      <td>  14.938776</td>\n",
        "      <td> 128.408163</td>\n",
        "      <td>  464.653061</td>\n",
        "      <td>  9811.877551</td>\n",
        "      <td>  4.000000</td>\n",
        "      <td>  14.938776</td>\n",
        "      <td>  86761.265306</td>\n",
        "      <td>  44522.734694</td>\n",
        "      <td>  0.979592</td>\n",
        "      <td>  0.122449</td>\n",
        "      <td>  0.142857</td>\n",
        "      <td>  0.755102</td>\n",
        "      <td>  0.244898</td>\n",
        "      <td>  45.265306</td>\n",
        "      <td>  3.795918</td>\n",
        "      <td> 16</td>\n",
        "      <td>  4.326531</td>\n",
        "      <td>...</td>\n",
        "    </tr>\n",
        "    <tr>\n",
        "      <th>std</th>\n",
        "      <td>  46030.822453</td>\n",
        "      <td> 3.168975e+08</td>\n",
        "      <td> 1070.445206</td>\n",
        "      <td>  56.447397</td>\n",
        "      <td> 182.196313</td>\n",
        "      <td> 1070.089123</td>\n",
        "      <td> 19208.462920</td>\n",
        "      <td>  9.899495</td>\n",
        "      <td>  56.447397</td>\n",
        "      <td>  30384.091090</td>\n",
        "      <td>  44842.234488</td>\n",
        "      <td>  2.155321</td>\n",
        "      <td>  0.331201</td>\n",
        "      <td>  0.408248</td>\n",
        "      <td>  2.046650</td>\n",
        "      <td>  0.902095</td>\n",
        "      <td>  46.622051</td>\n",
        "      <td>  3.457959</td>\n",
        "      <td>  0</td>\n",
        "      <td>  1.772331</td>\n",
        "      <td>...</td>\n",
        "    </tr>\n",
        "    <tr>\n",
        "      <th>min</th>\n",
        "      <td>      0.000000</td>\n",
        "      <td> 2.099200e+06</td>\n",
        "      <td>    0.000000</td>\n",
        "      <td>   0.000000</td>\n",
        "      <td>   0.000000</td>\n",
        "      <td>    0.000000</td>\n",
        "      <td>     0.000000</td>\n",
        "      <td>  0.000000</td>\n",
        "      <td>   0.000000</td>\n",
        "      <td>  26104.000000</td>\n",
        "      <td>      0.000000</td>\n",
        "      <td>  0.000000</td>\n",
        "      <td>  0.000000</td>\n",
        "      <td>  0.000000</td>\n",
        "      <td>  0.000000</td>\n",
        "      <td>  0.000000</td>\n",
        "      <td>   0.000000</td>\n",
        "      <td>  0.000000</td>\n",
        "      <td> 16</td>\n",
        "      <td>  1.000000</td>\n",
        "      <td>...</td>\n",
        "    </tr>\n",
        "    <tr>\n",
        "      <th>25%</th>\n",
        "      <td>      0.000000</td>\n",
        "      <td> 9.537628e+08</td>\n",
        "      <td>    0.000000</td>\n",
        "      <td>   0.000000</td>\n",
        "      <td>   0.000000</td>\n",
        "      <td>   40.000000</td>\n",
        "      <td>     0.000000</td>\n",
        "      <td>  0.000000</td>\n",
        "      <td>   0.000000</td>\n",
        "      <td>  67946.000000</td>\n",
        "      <td>  14228.000000</td>\n",
        "      <td>  0.000000</td>\n",
        "      <td>  0.000000</td>\n",
        "      <td>  0.000000</td>\n",
        "      <td>  0.000000</td>\n",
        "      <td>  0.000000</td>\n",
        "      <td>   9.000000</td>\n",
        "      <td>  1.000000</td>\n",
        "      <td> 16</td>\n",
        "      <td>  3.000000</td>\n",
        "      <td>...</td>\n",
        "    </tr>\n",
        "    <tr>\n",
        "      <th>50%</th>\n",
        "      <td>      0.000000</td>\n",
        "      <td> 1.172916e+09</td>\n",
        "      <td>    0.000000</td>\n",
        "      <td>   0.000000</td>\n",
        "      <td>  44.000000</td>\n",
        "      <td>  100.000000</td>\n",
        "      <td>  1256.000000</td>\n",
        "      <td>  0.000000</td>\n",
        "      <td>   0.000000</td>\n",
        "      <td>  82168.000000</td>\n",
        "      <td>  26624.000000</td>\n",
        "      <td>  0.000000</td>\n",
        "      <td>  0.000000</td>\n",
        "      <td>  0.000000</td>\n",
        "      <td>  0.000000</td>\n",
        "      <td>  0.000000</td>\n",
        "      <td>  30.000000</td>\n",
        "      <td>  3.000000</td>\n",
        "      <td> 16</td>\n",
        "      <td>  4.000000</td>\n",
        "      <td>...</td>\n",
        "    </tr>\n",
        "    <tr>\n",
        "      <th>75%</th>\n",
        "      <td>  48556.000000</td>\n",
        "      <td> 1.220108e+09</td>\n",
        "      <td>   16.000000</td>\n",
        "      <td>   0.000000</td>\n",
        "      <td> 232.000000</td>\n",
        "      <td>  188.000000</td>\n",
        "      <td>  6144.000000</td>\n",
        "      <td>  0.000000</td>\n",
        "      <td>   0.000000</td>\n",
        "      <td> 109159.000000</td>\n",
        "      <td>  56848.000000</td>\n",
        "      <td>  0.000000</td>\n",
        "      <td>  0.000000</td>\n",
        "      <td>  0.000000</td>\n",
        "      <td>  0.000000</td>\n",
        "      <td>  0.000000</td>\n",
        "      <td>  71.000000</td>\n",
        "      <td>  5.000000</td>\n",
        "      <td> 16</td>\n",
        "      <td>  5.000000</td>\n",
        "      <td>...</td>\n",
        "    </tr>\n",
        "    <tr>\n",
        "      <th>max</th>\n",
        "      <td> 150326.000000</td>\n",
        "      <td> 1.382647e+09</td>\n",
        "      <td> 4612.000000</td>\n",
        "      <td> 313.000000</td>\n",
        "      <td> 748.000000</td>\n",
        "      <td> 6234.000000</td>\n",
        "      <td> 84152.000000</td>\n",
        "      <td> 28.000000</td>\n",
        "      <td> 313.000000</td>\n",
        "      <td> 164776.000000</td>\n",
        "      <td> 189824.000000</td>\n",
        "      <td> 10.000000</td>\n",
        "      <td>  1.000000</td>\n",
        "      <td>  2.000000</td>\n",
        "      <td>  8.000000</td>\n",
        "      <td>  4.000000</td>\n",
        "      <td> 180.000000</td>\n",
        "      <td> 18.000000</td>\n",
        "      <td> 16</td>\n",
        "      <td>  9.000000</td>\n",
        "      <td>...</td>\n",
        "    </tr>\n",
        "  </tbody>\n",
        "</table>\n",
        "<p>8 rows \u00d7 199 columns</p>\n",
        "</div>"
       ],
       "metadata": {},
       "output_type": "pyout",
       "prompt_number": 20,
       "text": [
        "           check_sum  compile_date  \\\n",
        "count      49.000000  4.900000e+01   \n",
        "mean    25750.673469  1.044953e+09   \n",
        "std     46030.822453  3.168975e+08   \n",
        "min         0.000000  2.099200e+06   \n",
        "25%         0.000000  9.537628e+08   \n",
        "50%         0.000000  1.172916e+09   \n",
        "75%     48556.000000  1.220108e+09   \n",
        "max    150326.000000  1.382647e+09   \n",
        "\n",
        "       datadir_IMAGE_DIRECTORY_ENTRY_BASERELOC_size  \\\n",
        "count                                     49.000000   \n",
        "mean                                     423.755102   \n",
        "std                                     1070.445206   \n",
        "min                                        0.000000   \n",
        "25%                                        0.000000   \n",
        "50%                                        0.000000   \n",
        "75%                                       16.000000   \n",
        "max                                     4612.000000   \n",
        "\n",
        "       datadir_IMAGE_DIRECTORY_ENTRY_EXPORT_size  \\\n",
        "count                                  49.000000   \n",
        "mean                                   14.938776   \n",
        "std                                    56.447397   \n",
        "min                                     0.000000   \n",
        "25%                                     0.000000   \n",
        "50%                                     0.000000   \n",
        "75%                                     0.000000   \n",
        "max                                   313.000000   \n",
        "\n",
        "       datadir_IMAGE_DIRECTORY_ENTRY_IAT_size  \\\n",
        "count                               49.000000   \n",
        "mean                               128.408163   \n",
        "std                                182.196313   \n",
        "min                                  0.000000   \n",
        "25%                                  0.000000   \n",
        "50%                                 44.000000   \n",
        "75%                                232.000000   \n",
        "max                                748.000000   \n",
        "\n",
        "       datadir_IMAGE_DIRECTORY_ENTRY_IMPORT_size  \\\n",
        "count                                  49.000000   \n",
        "mean                                  464.653061   \n",
        "std                                  1070.089123   \n",
        "min                                     0.000000   \n",
        "25%                                    40.000000   \n",
        "50%                                   100.000000   \n",
        "75%                                   188.000000   \n",
        "max                                  6234.000000   \n",
        "\n",
        "       datadir_IMAGE_DIRECTORY_ENTRY_RESOURCE_size  debug_size  export_size  \\\n",
        "count                                    49.000000   49.000000    49.000000   \n",
        "mean                                   9811.877551    4.000000    14.938776   \n",
        "std                                   19208.462920    9.899495    56.447397   \n",
        "min                                       0.000000    0.000000     0.000000   \n",
        "25%                                       0.000000    0.000000     0.000000   \n",
        "50%                                    1256.000000    0.000000     0.000000   \n",
        "75%                                    6144.000000    0.000000     0.000000   \n",
        "max                                   84152.000000   28.000000   313.000000   \n",
        "\n",
        "       generated_check_sum        iat_rva  major_version  minor_version  \\\n",
        "count            49.000000      49.000000      49.000000      49.000000   \n",
        "mean          86761.265306   44522.734694       0.979592       0.122449   \n",
        "std           30384.091090   44842.234488       2.155321       0.331201   \n",
        "min           26104.000000       0.000000       0.000000       0.000000   \n",
        "25%           67946.000000   14228.000000       0.000000       0.000000   \n",
        "50%           82168.000000   26624.000000       0.000000       0.000000   \n",
        "75%          109159.000000   56848.000000       0.000000       0.000000   \n",
        "max          164776.000000  189824.000000      10.000000       1.000000   \n",
        "\n",
        "       number_of_bound_import_symbols  number_of_bound_imports  \\\n",
        "count                       49.000000                49.000000   \n",
        "mean                         0.142857                 0.755102   \n",
        "std                          0.408248                 2.046650   \n",
        "min                          0.000000                 0.000000   \n",
        "25%                          0.000000                 0.000000   \n",
        "50%                          0.000000                 0.000000   \n",
        "75%                          0.000000                 0.000000   \n",
        "max                          2.000000                 8.000000   \n",
        "\n",
        "       number_of_export_symbols  number_of_import_symbols  number_of_imports  \\\n",
        "count                 49.000000                 49.000000          49.000000   \n",
        "mean                   0.244898                 45.265306           3.795918   \n",
        "std                    0.902095                 46.622051           3.457959   \n",
        "min                    0.000000                  0.000000           0.000000   \n",
        "25%                    0.000000                  9.000000           1.000000   \n",
        "50%                    0.000000                 30.000000           3.000000   \n",
        "75%                    0.000000                 71.000000           5.000000   \n",
        "max                    4.000000                180.000000          18.000000   \n",
        "\n",
        "       number_of_rva_and_sizes  number_of_sections      \n",
        "count                       49           49.000000 ...  \n",
        "mean                        16            4.326531 ...  \n",
        "std                          0            1.772331 ...  \n",
        "min                         16            1.000000 ...  \n",
        "25%                         16            3.000000 ...  \n",
        "50%                         16            4.000000 ...  \n",
        "75%                         16            5.000000 ...  \n",
        "max                         16            9.000000 ...  \n",
        "\n",
        "[8 rows x 199 columns]"
       ]
      }
     ],
     "prompt_number": 20
    },
    {
     "cell_type": "code",
     "collapsed": false,
     "input": [
      "# Visualization I\n",
      "df_bad['check_sum'].hist()"
     ],
     "language": "python",
     "metadata": {},
     "outputs": [
      {
       "metadata": {},
       "output_type": "pyout",
       "prompt_number": 21,
       "text": [
        "<matplotlib.axes.AxesSubplot at 0x1115ea4d0>"
       ]
      },
      {
       "metadata": {},
       "output_type": "display_data",
       "png": "[encoded data removed]",
       "text": [
        "<matplotlib.figure.Figure at 0x111564b10>"
       ]
      }
     ],
     "prompt_number": 21
    },
    {
     "cell_type": "code",
     "collapsed": false,
     "input": [
      "# Concatenate the info into a big pile!\n",
      "df = pd.concat([df_bad, df_good], ignore_index=True)"
     ],
     "language": "python",
     "metadata": {},
     "outputs": [],
     "prompt_number": 93
    },
    {
     "cell_type": "code",
     "collapsed": false,
     "input": [
      "# Boxplots show you the distribution of the data (spread).\n",
      "# http://en.wikipedia.org/wiki/Box_plot\n",
      "\n",
      "# Get some quick descriptive stats and plot it!\n",
      "df.boxplot('number_of_import_symbols','label')\n",
      "plt.xlabel('bad vs. good files')\n",
      "plt.ylabel('# Import Symbols')\n",
      "plt.title('Comparision of # Import Symbols')\n",
      "plt.suptitle(\"\")"
     ],
     "language": "python",
     "metadata": {},
     "outputs": [
      {
       "metadata": {},
       "output_type": "pyout",
       "prompt_number": 87,
       "text": [
        "<matplotlib.text.Text at 0x112bb59d0>"
       ]
      },
      {
       "metadata": {},
       "output_type": "display_data",
       "png": "[encoded data removed]",
       "text": [
        "<matplotlib.figure.Figure at 0x112bb7990>"
       ]
      }
     ],
     "prompt_number": 87
    },
    {
     "cell_type": "code",
     "collapsed": false,
     "input": [
      "# Get some quick descriptive stats and plot it!\n",
      "df.boxplot('number_of_sections','label')\n",
      "plt.xlabel('bad vs. good files')\n",
      "plt.ylabel('Num Sections')\n",
      "plt.title('Comparision of Number of Sections')\n",
      "plt.suptitle(\"\")"
     ],
     "language": "python",
     "metadata": {},
     "outputs": [
      {
       "metadata": {},
       "output_type": "pyout",
       "prompt_number": 88,
       "text": [
        "<matplotlib.text.Text at 0x1131e83d0>"
       ]
      },
      {
       "metadata": {},
       "output_type": "display_data",
       "png": "[encoded data removed]",
       "text": [
        "<matplotlib.figure.Figure at 0x113db8510>"
       ]
      }
     ],
     "prompt_number": 88
    },
    {
     "cell_type": "code",
     "collapsed": false,
     "input": [
      "# Split the classes up so we can set colors, size, labels\n",
      "cond = df['label'] == 'good'\n",
      "good = df[cond]\n",
      "bad  = df[~cond]\n",
      "plt.scatter(good['number_of_import_symbols'], good['number_of_sections'], \n",
      "            s=140, c='#aaaaff', label='Good', alpha=.4)\n",
      "plt.scatter(bad['number_of_import_symbols'], bad['number_of_sections'], \n",
      "            s=40, c='r', label='Bad', alpha=.5)\n",
      "plt.legend()\n",
      "plt.xlabel('Import Symbols')\n",
      "plt.ylabel('Num Sections')"
     ],
     "language": "python",
     "metadata": {},
     "outputs": [
      {
       "metadata": {},
       "output_type": "pyout",
       "prompt_number": 89,
       "text": [
        "<matplotlib.text.Text at 0x113201990>"
       ]
      },
      {
       "metadata": {},
       "output_type": "display_data",
       "png": "[encoded data removed]",
       "text": [
        "<matplotlib.figure.Figure at 0x113dc8450>"
       ]
      }
     ],
     "prompt_number": 89
    },
    {
     "cell_type": "code",
     "collapsed": false,
     "input": [
      "# In preparation for using scikit learn we're just going to use\n",
      "# some handles that help take us from pandas land to scikit land\n",
      "\n",
      "# List of feature vectors (scikit learn uses 'X' for the matrix of feature vectors)\n",
      "X = df.as_matrix(['number_of_import_symbols', 'number_of_sections'])\n",
      "\n",
      "# Labels (scikit learn uses 'y' for classification labels)\n",
      "y = np.array(df['label'].tolist())"
     ],
     "language": "python",
     "metadata": {},
     "outputs": [],
     "prompt_number": 144
    },
    {
     "cell_type": "code",
     "collapsed": false,
     "input": [
      "# Random Forest is a popular ensemble machine learning classifier.\n",
      "# http://scikit-learn.org/dev/modules/generated/sklearn.ensemble.RandomForestClassifier.html\n",
      "#\n",
      "import sklearn.ensemble\n",
      "clf = sklearn.ensemble.RandomForestClassifier(n_estimators=20, compute_importances=True)"
     ],
     "language": "python",
     "metadata": {},
     "outputs": [],
     "prompt_number": 145
    },
    {
     "cell_type": "code",
     "collapsed": false,
     "input": [
      "# Now we can use scikit learn's cross validation to assess predictive performance.\n",
      "scores = sklearn.cross_validation.cross_val_score(clf, X, y, cv=10, n_jobs=4)\n",
      "print scores"
     ],
     "language": "python",
     "metadata": {},
     "outputs": [
      {
       "output_type": "stream",
       "stream": "stdout",
       "text": [
        "[ 0.9         0.9         0.9         0.6         0.8         0.7         0.7\n",
        "  0.6         0.5         0.77777778]\n"
       ]
      }
     ],
     "prompt_number": 146
    },
    {
     "cell_type": "code",
     "collapsed": false,
     "input": [
      "# Support Vector Machine with Radial Basis Function\n",
      "from sklearn.svm import SVC\n",
      "clf_svm = SVC(gamma=2, C=1)\n",
      "scores = sklearn.cross_validation.cross_val_score(clf_svm, X, y, cv=10, n_jobs=4)\n",
      "print scores"
     ],
     "language": "python",
     "metadata": {},
     "outputs": [
      {
       "output_type": "stream",
       "stream": "stdout",
       "text": [
        "[ 0.8         0.7         0.8         0.7         0.8         0.7         0.7\n",
        "  0.7         0.7         0.77777778]\n"
       ]
      }
     ],
     "prompt_number": 151
    },
    {
     "cell_type": "code",
     "collapsed": false,
     "input": [
      "no_label = list(df.columns.values)\n",
      "no_label.remove('label')\n",
      "df.replace(np.nan, 0, inplace=True)\n",
      "X = df.as_matrix(no_label)"
     ],
     "language": "python",
     "metadata": {},
     "outputs": [],
     "prompt_number": 153
    },
    {
     "cell_type": "code",
     "collapsed": false,
     "input": [
      "# Now we can use scikit learn's cross validation to assess predictive performance.\n",
      "sklearn.cross_validation.cross_val_score(clf_svm, X, y, cv=10, n_jobs=1)"
     ],
     "language": "python",
     "metadata": {},
     "outputs": [
      {
       "metadata": {},
       "output_type": "pyout",
       "prompt_number": 154,
       "text": [
        "array([ 0.5       ,  0.5       ,  0.5       ,  0.5       ,  0.5       ,\n",
        "        0.5       ,  0.5       ,  0.5       ,  0.5       ,  0.55555556])"
       ]
      }
     ],
     "prompt_number": 154
    },
    {
     "cell_type": "code",
     "collapsed": false,
     "input": [
      "# Train on a 80/20 split\n",
      "from sklearn.cross_validation import train_test_split\n",
      "X_train, X_test, y_train, y_test = train_test_split(X, y, test_size=0.4)\n",
      "clf.fit(X_train, y_train)\n",
      "y_pred = clf.predict(X_test)"
     ],
     "language": "python",
     "metadata": {},
     "outputs": [],
     "prompt_number": 156
    },
    {
     "cell_type": "code",
     "collapsed": false,
     "input": [
      "# Now plot the results of the 80/20 split in a confusion matrix\n",
      "from sklearn.metrics import confusion_matrix\n",
      "labels = ['good', 'bad']\n",
      "cm = confusion_matrix(y_test, y_pred, labels)\n",
      "plot_cm(cm, labels)"
     ],
     "language": "python",
     "metadata": {},
     "outputs": [
      {
       "output_type": "stream",
       "stream": "stdout",
       "text": [
        "Confusion Matrix Stats\n",
        "good/good: 87.50% (21/24)\n",
        "good/bad: 12.50% (3/24)\n",
        "bad/good: 0.00% (0/16)\n",
        "bad/bad: 100.00% (16/16)\n"
       ]
      },
      {
       "metadata": {},
       "output_type": "display_data",
       "png": "[encoded data removed]",
       "text": [
        "<matplotlib.figure.Figure at 0x11347c610>"
       ]
      }
     ],
     "prompt_number": 157
    },
    {
     "cell_type": "code",
     "collapsed": false,
     "input": [
      "importances = zip(no_label, clf.feature_importances_)\n",
      "importances.sort(key=lambda k:k[1], reverse=True)\n",
      "importances[:10]"
     ],
     "language": "python",
     "metadata": {},
     "outputs": [
      {
       "metadata": {},
       "output_type": "pyout",
       "prompt_number": 140,
       "text": [
        "[('pe_minorlink', 0.06424271817108472),\n",
        " ('number_of_sections', 0.055915540199873034),\n",
        " ('pe_majorlink', 0.051444565659154048),\n",
        " ('datadir_IMAGE_DIRECTORY_ENTRY_EXPORT_size', 0.03518663739797414),\n",
        " ('datadir_IMAGE_DIRECTORY_ENTRY_RESOURCE_size', 0.03327480535275127),\n",
        " ('datadir_IMAGE_DIRECTORY_ENTRY_IMPORT_size', 0.031973571690686979),\n",
        " ('sec_entropy_data', 0.030789786186682239),\n",
        " ('sec_entropy_hfacczp', 0.029969301885460015),\n",
        " ('sec_entropy_data3', 0.029910709192774214),\n",
        " ('compile_date', 0.029660195346119016)]"
       ]
      }
     ],
     "prompt_number": 140
    },
    {
     "cell_type": "code",
     "collapsed": false,
     "input": [
      "X = df.as_matrix([item[0] for item in importances])\n",
      "X_train, X_test, y_train, y_test = train_test_split(X, y, test_size=0.4)\n",
      "clf.fit(X_train, y_train)\n",
      "y_pred = clf.predict(X_test)\n",
      "cm = confusion_matrix(y_test, y_pred, labels)\n",
      "plot_cm(cm, labels)"
     ],
     "language": "python",
     "metadata": {},
     "outputs": [
      {
       "output_type": "stream",
       "stream": "stdout",
       "text": [
        "Confusion Matrix Stats\n",
        "good/good: 85.71% (18/21)\n",
        "good/bad: 14.29% (3/21)\n",
        "bad/good: 0.00% (0/19)\n",
        "bad/bad: 100.00% (19/19)\n"
       ]
      },
      {
       "metadata": {},
       "output_type": "display_data",
       "png": "[encoded data removed]",
       "text": [
        "<matplotlib.figure.Figure at 0x113a59910>"
       ]
      }
     ],
     "prompt_number": 155
    },
    {
     "cell_type": "code",
     "collapsed": false,
     "input": [],
     "language": "python",
     "metadata": {},
     "outputs": []
    }
   ],
   "metadata": {}
  }
 ]
}