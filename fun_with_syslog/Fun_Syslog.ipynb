{
 "metadata": {
  "name": ""
 },
 "nbformat": 3,
 "nbformat_minor": 0,
 "worksheets": [
  {
   "cells": [
    {
     "cell_type": "markdown",
     "metadata": {},
     "source": [
      "## Having Fun with Syslog.\n",
      "<div style=\"float: right;\"> <figure style=\"margin:0px 0px 0px 10px; padding:0\">\n",
      "<img src=\"http://www.sharielf.com/gifs/zz032411pony.jpg\" width=\"150px\">\n",
      "<figcaption>Shari Elf: www.sharielf.com</figcaption>\n",
      "</figure></div>\n",
      "In the next exercise we're going look at some syslog data. We'll take it up a notch by computing similarities with 'Banded MinHash' and running a hierarchical clustering algorithm.\n",
      "\n",
      "Systems logs are particularly challenging because they often lack any kind of structure as all. For this exercise we're going to be looking at the /var/log/system.log of a typical Mac OSX Laptop. The first steps will be standard data inspection and plots, after that we'll pull out the big guns!"
     ]
    },
    {
     "cell_type": "code",
     "collapsed": false,
     "input": [
      "# This exercise is mostly for us to understand what kind of data we have and then\n",
      "# run some simple stats on the fields/values in the data. Pandas will be great for that\n",
      "import pandas as pd\n",
      "pd.__version__"
     ],
     "language": "python",
     "metadata": {},
     "outputs": [
      {
       "metadata": {},
       "output_type": "pyout",
       "prompt_number": 3,
       "text": [
        "'0.12.0'"
       ]
      }
     ],
     "prompt_number": 3
    },
    {
     "cell_type": "code",
     "collapsed": false,
     "input": [
      "# Set default figure sizes\n",
      "pylab.rcParams['figure.figsize'] = (16.0, 5.0)"
     ],
     "language": "python",
     "metadata": {},
     "outputs": [],
     "prompt_number": 70
    },
    {
     "cell_type": "code",
     "collapsed": false,
     "input": [
      "# Lets take a peek at our system.log, with iPython you\n",
      "# can execute system commands with '!' (also see %alias)"
     ],
     "language": "python",
     "metadata": {},
     "outputs": [],
     "prompt_number": 5
    },
    {
     "cell_type": "code",
     "collapsed": false,
     "input": [
      "!head /var/log/system.log"
     ],
     "language": "python",
     "metadata": {},
     "outputs": [
      {
       "output_type": "stream",
       "stream": "stdout",
       "text": [
        "Oct 31 00:37:37 voltron newsyslog[76545]: logfile turned over\r\n",
        "Oct 31 00:37:38 Voltron.local configd[17]: setting hostname to \"Voltron.local\"\r\n",
        "Oct 31 00:37:38 Voltron.local configd[17]: network changed: v4(en0-:192.168.1.117) v6(en0-:fe80::cad7:19ff:fe30:ed4d) DNS- Proxy- SMB\r\n",
        "Oct 31 00:37:38 Voltron.local Things[197]: network reachability has changed: not reachable\r\n",
        "Oct 31 00:37:38 Voltron kernel[0]: MacAuthEvent en0   Auth result for: c8:d7:19:30:ed:51  MAC AUTH succeeded\r\n",
        "Oct 31 00:37:38 Voltron kernel[0]: wlEvent: en0 en0 Link UP virtIf = 0\r\n",
        "Oct 31 00:37:38 Voltron kernel[0]: AirPort: Link Up on en0\r\n",
        "Oct 31 00:37:38 Voltron kernel[0]: en0: BSSID changed to c8:d7:19:30:ed:51\r\n",
        "Oct 31 00:37:38 Voltron kernel[0]: en0::IO80211Interface::postMessage bssid changed\r\n",
        "Oct 31 00:37:38 Voltron kernel[0]: AirPort: RSN handshake complete on en0\r\n"
       ]
      }
     ],
     "prompt_number": 6
    },
    {
     "cell_type": "code",
     "collapsed": false,
     "input": [
      "# Okay so weird timestamp, machine name and then random stuff...\n",
      "import dateutil.parser"
     ],
     "language": "python",
     "metadata": {},
     "outputs": [],
     "prompt_number": 7
    },
    {
     "cell_type": "code",
     "collapsed": false,
     "input": [
      "# Helper function to make compact, composite labels for the syslog rows\n",
      "def make_label(features):\n",
      "    raw = ':'.join( [f[:6] for f in features] )\n",
      "    return unicode(raw, 'utf8', 'ignore')\n",
      "\n",
      "# Now process the syslog file, part of the challenge is parsing the darn thing.\n",
      "# Typically each row in a syslog will have a timestamp first and then some random\n",
      "# set of other fields split on whitespace. We're going to carefully pull out the\n",
      "# timestamp but then just treat everything else as bag of tokens (sparse data).\n",
      "date_index = []\n",
      "with open('/var/log/system.log') as syslog:\n",
      "    syslog_rows = syslog.readlines()\n",
      "    syslog_events = []\n",
      "    for row in syslog_rows:\n",
      "        split_list = row.split()\n",
      "        tmp = ' '.join(split_list[:3])\n",
      "        try:\n",
      "            date = dateutil.parser.parse(' '.join(split_list[:3]))\n",
      "        except ValueError:\n",
      "            continue # Going to skip rows where we can't get a timestamp\n",
      "        features = split_list[4:]\n",
      "        syslog_events.append({'features': features, 'label': make_label(features), 'type': features[0].split('[')[0]})\n",
      "        date_index.append(date)\n",
      "    dataframe = pd.DataFrame(syslog_events, index=date_index)"
     ],
     "language": "python",
     "metadata": {},
     "outputs": [],
     "prompt_number": 8
    },
    {
     "cell_type": "code",
     "collapsed": false,
     "input": [
      "# Make sure our timestamp got pulled/parsed/converted correctly\n",
      "type(dataframe.index[0])"
     ],
     "language": "python",
     "metadata": {},
     "outputs": [
      {
       "metadata": {},
       "output_type": "pyout",
       "prompt_number": 9,
       "text": [
        "pandas.tslib.Timestamp"
       ]
      }
     ],
     "prompt_number": 9
    },
    {
     "cell_type": "code",
     "collapsed": false,
     "input": [
      "dataframe.head(5)\n",
      "\n",
      "# So what do we have? Datetime is our index, features is just the \n",
      "# syslog row split by whitespace and placed into a list. The label\n",
      "# is just the features (truncated) and flattened with : separators.\n",
      "# 'type' is just the syslog identifier right after the datetime and machine.\n",
      "# Note: The parsing of the syslog is more art than science and syslogs\n",
      "#       can vary greatly, but we haven't done any super magic here,\n",
      "#       just basically thrown the row data into some bins..."
     ],
     "language": "python",
     "metadata": {},
     "outputs": [
      {
       "html": [
        "<div style=\"max-height:1000px;max-width:1500px;overflow:auto;\">\n",
        "<table border=\"1\" class=\"dataframe\">\n",
        "  <thead>\n",
        "    <tr style=\"text-align: right;\">\n",
        "      <th></th>\n",
        "      <th>features</th>\n",
        "      <th>label</th>\n",
        "      <th>type</th>\n",
        "    </tr>\n",
        "  </thead>\n",
        "  <tbody>\n",
        "    <tr>\n",
        "      <th>2013-10-31 00:37:37</th>\n",
        "      <td>        [newsyslog[76545]:, logfile, turned, over]</td>\n",
        "      <td>                         newsys:logfil:turned:over</td>\n",
        "      <td> newsyslog</td>\n",
        "    </tr>\n",
        "    <tr>\n",
        "      <th>2013-10-31 00:37:38</th>\n",
        "      <td> [configd[17]:, setting, hostname, to, \"Voltron...</td>\n",
        "      <td>                    config:settin:hostna:to:\"Voltr</td>\n",
        "      <td>   configd</td>\n",
        "    </tr>\n",
        "    <tr>\n",
        "      <th>2013-10-31 00:37:38</th>\n",
        "      <td> [configd[17]:, network, changed:, v4(en0-:192....</td>\n",
        "      <td> config:networ:change:v4(en0:v6(en0:DNS-:Proxy-...</td>\n",
        "      <td>   configd</td>\n",
        "    </tr>\n",
        "    <tr>\n",
        "      <th>2013-10-31 00:37:38</th>\n",
        "      <td> [Things[197]:, network, reachability, has, cha...</td>\n",
        "      <td>        Things:networ:reacha:has:change:not:reacha</td>\n",
        "      <td>    Things</td>\n",
        "    </tr>\n",
        "    <tr>\n",
        "      <th>2013-10-31 00:37:38</th>\n",
        "      <td> [kernel[0]:, MacAuthEvent, en0, Auth, result, ...</td>\n",
        "      <td> kernel:MacAut:en0:Auth:result:for::c8:d7::MAC:...</td>\n",
        "      <td>    kernel</td>\n",
        "    </tr>\n",
        "  </tbody>\n",
        "</table>\n",
        "</div>"
       ],
       "metadata": {},
       "output_type": "pyout",
       "prompt_number": 10,
       "text": [
        "                                                              features  \\\n",
        "2013-10-31 00:37:37         [newsyslog[76545]:, logfile, turned, over]   \n",
        "2013-10-31 00:37:38  [configd[17]:, setting, hostname, to, \"Voltron...   \n",
        "2013-10-31 00:37:38  [configd[17]:, network, changed:, v4(en0-:192....   \n",
        "2013-10-31 00:37:38  [Things[197]:, network, reachability, has, cha...   \n",
        "2013-10-31 00:37:38  [kernel[0]:, MacAuthEvent, en0, Auth, result, ...   \n",
        "\n",
        "                                                                 label  \\\n",
        "2013-10-31 00:37:37                          newsys:logfil:turned:over   \n",
        "2013-10-31 00:37:38                     config:settin:hostna:to:\"Voltr   \n",
        "2013-10-31 00:37:38  config:networ:change:v4(en0:v6(en0:DNS-:Proxy-...   \n",
        "2013-10-31 00:37:38         Things:networ:reacha:has:change:not:reacha   \n",
        "2013-10-31 00:37:38  kernel:MacAut:en0:Auth:result:for::c8:d7::MAC:...   \n",
        "\n",
        "                          type  \n",
        "2013-10-31 00:37:37  newsyslog  \n",
        "2013-10-31 00:37:38    configd  \n",
        "2013-10-31 00:37:38    configd  \n",
        "2013-10-31 00:37:38     Things  \n",
        "2013-10-31 00:37:38     kernel  "
       ]
      }
     ],
     "prompt_number": 10
    },
    {
     "cell_type": "code",
     "collapsed": false,
     "input": [
      "dataframe.tail(5)"
     ],
     "language": "python",
     "metadata": {},
     "outputs": [
      {
       "html": [
        "<div style=\"max-height:1000px;max-width:1500px;overflow:auto;\">\n",
        "<table border=\"1\" class=\"dataframe\">\n",
        "  <thead>\n",
        "    <tr style=\"text-align: right;\">\n",
        "      <th></th>\n",
        "      <th>features</th>\n",
        "      <th>label</th>\n",
        "      <th>type</th>\n",
        "    </tr>\n",
        "  </thead>\n",
        "  <tbody>\n",
        "    <tr>\n",
        "      <th>2013-10-31 20:08:21</th>\n",
        "      <td> [kernel[0]:, SMC::smcReadKeyAction, ERROR, TC0...</td>\n",
        "      <td> kernel:SMC::s:ERROR:TC0D:kSMCBa:fKeyHa</td>\n",
        "      <td> kernel</td>\n",
        "    </tr>\n",
        "    <tr>\n",
        "      <th>2013-10-31 20:08:51</th>\n",
        "      <td>         [last, message, repeated, 24, times, ---]</td>\n",
        "      <td>        last:messag:repeat:24:times:---</td>\n",
        "      <td>   last</td>\n",
        "    </tr>\n",
        "    <tr>\n",
        "      <th>2013-10-31 20:08:51</th>\n",
        "      <td> [kernel[0]:, SMC::smcReadKeyAction, ERROR, TC0...</td>\n",
        "      <td> kernel:SMC::s:ERROR:TC0D:kSMCBa:fKeyHa</td>\n",
        "      <td> kernel</td>\n",
        "    </tr>\n",
        "    <tr>\n",
        "      <th>2013-10-31 20:09:21</th>\n",
        "      <td>         [last, message, repeated, 24, times, ---]</td>\n",
        "      <td>        last:messag:repeat:24:times:---</td>\n",
        "      <td>   last</td>\n",
        "    </tr>\n",
        "    <tr>\n",
        "      <th>2013-10-31 20:09:21</th>\n",
        "      <td> [kernel[0]:, SMC::smcReadKeyAction, ERROR, TC0...</td>\n",
        "      <td> kernel:SMC::s:ERROR:TC0D:kSMCBa:fKeyHa</td>\n",
        "      <td> kernel</td>\n",
        "    </tr>\n",
        "  </tbody>\n",
        "</table>\n",
        "</div>"
       ],
       "metadata": {},
       "output_type": "pyout",
       "prompt_number": 11,
       "text": [
        "                                                              features  \\\n",
        "2013-10-31 20:08:21  [kernel[0]:, SMC::smcReadKeyAction, ERROR, TC0...   \n",
        "2013-10-31 20:08:51          [last, message, repeated, 24, times, ---]   \n",
        "2013-10-31 20:08:51  [kernel[0]:, SMC::smcReadKeyAction, ERROR, TC0...   \n",
        "2013-10-31 20:09:21          [last, message, repeated, 24, times, ---]   \n",
        "2013-10-31 20:09:21  [kernel[0]:, SMC::smcReadKeyAction, ERROR, TC0...   \n",
        "\n",
        "                                                      label    type  \n",
        "2013-10-31 20:08:21  kernel:SMC::s:ERROR:TC0D:kSMCBa:fKeyHa  kernel  \n",
        "2013-10-31 20:08:51         last:messag:repeat:24:times:---    last  \n",
        "2013-10-31 20:08:51  kernel:SMC::s:ERROR:TC0D:kSMCBa:fKeyHa  kernel  \n",
        "2013-10-31 20:09:21         last:messag:repeat:24:times:---    last  \n",
        "2013-10-31 20:09:21  kernel:SMC::s:ERROR:TC0D:kSMCBa:fKeyHa  kernel  "
       ]
      }
     ],
     "prompt_number": 11
    },
    {
     "cell_type": "code",
     "collapsed": false,
     "input": [
      "# We can get a count of all the unique values by running value_counts()\n",
      "dataframe['label'].value_counts()\n",
      "\n",
      "# Okay the breakout below gives us a sense for our challenge..."
     ],
     "language": "python",
     "metadata": {},
     "outputs": [
      {
       "metadata": {},
       "output_type": "pyout",
       "prompt_number": 12,
       "text": [
        "Window:kCGErr:_CGXAd:error:settin:window:proper               2058\n",
        "kernel:SMC::s:ERROR:TC0D:kSMCBa:fKeyHa                        1231\n",
        "last:messag:repeat:24:times:---                                766\n",
        "coreau:Disabl:automa:stack:shots:becaus:audio:IO:is:active      93\n",
        "coreau:Enable:automa:stack:shots:becaus:audio:IO:is:inacti      93\n",
        "netbio:name:server:down?                                        85\n",
        "last:messag:repeat:1:time:---                                   67\n",
        "iTunes:Entere:mux-de                                            37\n",
        "kernel:en0::I:bssid:change                                      33\n",
        "last:messag:repeat:25:times:---                                 31\n",
        "Things:networ:reacha:has:change:not:reacha                      30\n",
        "Window:CGXSet:Invali:window:0x4ad7                              28\n",
        "Window:CGXSet:Invali:window:0x4ad6                              28\n",
        "Window:CGXSet:Invali:window:0x69d0                              28\n",
        "Window:CGXSet:Invali:window:0x69cf                              28\n",
        "...\n",
        "com.ap:Sessio:100342:destro                                     1\n",
        "Window:Create:shield:window:0x6b19:for:displa:0x0424            1\n",
        "MDCras:77011::ERROR::Error:callin:connec:Socket:AMDevi:data:object:in:info:dictio:is:invali    1\n",
        "Window:Create:shield:window:0x6b36:for:displa:0x003f            1\n",
        "Window:Create:shield:window:0x6b41:for:displa:0x003f            1\n",
        "MDCras:_TurnO:(threa:0x1005:Could:not:perfor:SSL:handsh         1\n",
        "Window:Create:shield:window:0x6b67:for:displa:0x0424            1\n",
        "MDCras:AMDevi:(threa:0x1005:Could:not:connec:to:lockdo:port:(62078:on:device:683:-:d8a67f:0xe800    1\n",
        "com.ap:_heart:heartb:detect:detach:for:device:0x2b5-            1\n",
        "com.ap:CGSGet:Invali:window:0x6b0c                              1\n",
        "Window:Create:shield:window:0x6b61:for:displa:0x003f            1\n",
        "MDCras:lockss:(threa:0x1005:SSL:handsh:contro:failur:0::SSL_ER:(Early:EOF:reache    1\n",
        "Viscos:Networ:reset:finish                                      1\n",
        "kernel:CODE:SIGNIN:cs_inv:p=7712:cleari:CS_VAL                  1\n",
        "com.ap:_heart:heartb:detect:detach:for:device:0x2b4-            1\n",
        "Length: 397, dtype: int64"
       ]
      }
     ],
     "prompt_number": 12
    },
    {
     "cell_type": "code",
     "collapsed": false,
     "input": [
      "# Realize that we don't want the 'last message' events\n",
      "dataframe = dataframe[dataframe['type'] != 'last']"
     ],
     "language": "python",
     "metadata": {},
     "outputs": [],
     "prompt_number": 13
    },
    {
     "cell_type": "markdown",
     "metadata": {},
     "source": [
      "### Lets do standard histogram and event volume over time plots"
     ]
    },
    {
     "cell_type": "code",
     "collapsed": false,
     "input": [
      "# Now prepare the data for plotting by pivoting on the \n",
      "# feature to create a new column (series) for each value\n",
      "\n",
      "# Only pull out the top 7 syslog event types\n",
      "topN = dataframe['type'].value_counts()[:7].index\n",
      "subset = dataframe[dataframe['type'].isin(topN)]\n",
      "print 'Subset: %d rows %d columns' % subset.shape\n",
      "\n",
      "# We're going to add a new column called value (needed for pivot). This\n",
      "# is a bit dorky, but needed as the new columns that get created should\n",
      "# really have a value in them, also we can use this as our value to sum over.\n",
      "subset['count'] = 1\n",
      "pivot = pd.pivot_table(subset, values='count', rows=subset.index, cols=['type'], fill_value=.01)\n",
      "by = lambda x: lambda y: getattr(y, x)\n",
      "grouped = pivot.groupby([by('hour')]).sum()\n",
      "grouped.plot(kind='bar', stacked=True)\n",
      "grouped.plot()"
     ],
     "language": "python",
     "metadata": {},
     "outputs": [
      {
       "output_type": "stream",
       "stream": "stdout",
       "text": [
        "Subset: 6527 rows 3 columns\n"
       ]
      },
      {
       "metadata": {},
       "output_type": "pyout",
       "prompt_number": 14,
       "text": [
        "<matplotlib.axes.AxesSubplot at 0x1055c46d0>"
       ]
      },
      {
       "metadata": {},
       "output_type": "display_data",
       "png": "[encoded data removed]",
       "text": [
        "<matplotlib.figure.Figure at 0x1054671d0>"
       ]
      },
      {
       "metadata": {},
       "output_type": "display_data",
       "png": "[encoded data removed]",
       "text": [
        "<matplotlib.figure.Figure at 0x105469e50>"
       ]
      }
     ],
     "prompt_number": 14
    },
    {
     "cell_type": "markdown",
     "metadata": {},
     "source": [
      "<div style=\"float: right; margin: 20px 20px 150px 20px\"><img src=\"files/images/spice_weasel.jpg\" width=\"300px\" style=\"margin: 10px\">\n",
      "<div><span style=\"font-size: 9px;\">\u00a9 Some super nice person who's not going to sue me</span></div></div>\n",
      "#### Well besides learning we have lots of kernel syslog messages, kinda boring...<br><br>So, lets take is up a notch with the good 'ol spice weasel! Bam!\n",
      "1. **Compute similarities between all rows within the system log using LSH**\n",
      "    Unlike conventional hash functions the goal of LSH (Locality Sensitive Hashing) is to maximize probability of \"collision\" of similar items rather than avoid collisions.\n",
      "    * http://en.wikipedia.org/wiki/MinHash\n",
      "    * http://en.wikipedia.org/wiki/Locality_sensitive_hashing\n",
      "    * http://infolab.stanford.edu/~ullman/mmds/ch3.pdf (Mining of Massive Datasets)\n",
      "2. **Use those similarities as the basis of a Hierarchical Clustering Algorithm**\n",
      "    Single-linkage clustering is one of several methods for agglomerative \n",
      "    hierarchical clustering.\n",
      "    - http://en.wikipedia.org/wiki/Single-linkage_clustering\n",
      "    - http://en.wikipedia.org/wiki/Hierarchical_clustering\n",
      "    \n",
      "    Other popular online clustering algorithms\n",
      "    - http://en.wikipedia.org/wiki/DBSCAN\n",
      "    - http://en.wikipedia.org/wiki/OPTICS_algorithm"
     ]
    },
    {
     "cell_type": "code",
     "collapsed": false,
     "input": [
      "# Even for small syslogs the number of similarity pairs to compute quickly\n",
      "# becomes quite large O(N**2), so for 100k rows that's 10 billion possible\n",
      "# pairs. Using Banded MinHash will drastically reduce the number of \n",
      "# candidates that we have to compute.\n",
      "import lsh_sims\n",
      "\n",
      "# Note: The parameters here are setup for feeding the results into a Hierarchical\n",
      "#       Clustering algorithm, which needs as many similarities as you can get.\n",
      "#       In general you'd parameters like num_hashes:20, lsh_bands:5 lsh_rows:4  \n",
      "#       Note: lsh_bands*lsh_rows ^must^ equal num_hashes\n",
      "params = {'num_hashes':20, 'lsh_bands':20, 'lsh_rows':1, 'drop_duplicates':True}\n",
      "lsh = lsh_sims.LSHSimilarities(dataframe['features'], mh_params=params)\n",
      "sims = lsh.batch_compute_similarities(distance_metric='jaccard', threshold=.01)"
     ],
     "language": "python",
     "metadata": {},
     "outputs": [
      {
       "output_type": "stream",
       "stream": "stdout",
       "text": [
        "Adding 6815 samples to minhash...\n",
        "Adding 6815 samples to minhash..."
       ]
      },
      {
       "output_type": "stream",
       "stream": "stdout",
       "text": [
        "\n",
        "Computing All Candidate Matches..."
       ]
      },
      {
       "output_type": "stream",
       "stream": "stdout",
       "text": [
        "\n",
        "\tComputing All to All Candidates Matches...\n",
        "\t\tCollapsing Candidate Pairs...\n",
        "17984 (0.04% out of 46444225) pairs returned from MinHash"
       ]
      },
      {
       "output_type": "stream",
       "stream": "stdout",
       "text": [
        "\n",
        "LSH: 17984 matches out of 17984 candidates (adjust parameters if needed)"
       ]
      },
      {
       "output_type": "stream",
       "stream": "stdout",
       "text": [
        "\n"
       ]
      }
     ],
     "prompt_number": 15
    },
    {
     "cell_type": "markdown",
     "metadata": {},
     "source": [
      "#### The LSH Sims python class has two distance metrics\n",
      "\n",
      "1) Jaccard Index: a set based distance metric (overlaps in sets of elements)\n",
      "  \n",
      "   - http://en.wikipedia.org/wiki/Jaccard_index\n",
      "\n",
      "2) Levenshtein Distance: based on the edit distance of the elements (so order matters).\n",
      "  \n",
      "   - http://en.wikipedia.org/wiki/Levenshtein_distance"
     ]
    },
    {
     "cell_type": "code",
     "collapsed": false,
     "input": [
      "# Lets look at the difference between Jaccard Similarity and Levenshtein Similarity\n",
      "# So here similarity is a normalized measure of inverse distance...\n",
      "print 'Jaccard Index (Sim): %f ' % lsh.jaccard_sim(['a','b','c','d'], ['a','b','d','c'])\n",
      "print 'Levenshtein Distance: %f ' % lsh.levenshtein(['a','b','c','d'], ['a','b','d','c'])\n",
      "print 'Levenshtein (Sim): %f ' % lsh.l_sim(['a','b','c','d'], ['a','b','d','c'])"
     ],
     "language": "python",
     "metadata": {},
     "outputs": [
      {
       "output_type": "stream",
       "stream": "stdout",
       "text": [
        "Jaccard Index (Sim): 1.000000 \n",
        "Levenshtein Distance: 2.000000 \n",
        "Levenshtein (Sim): 0.500000 \n"
       ]
      }
     ],
     "prompt_number": 16
    },
    {
     "cell_type": "code",
     "collapsed": false,
     "input": [
      "# One more example for intuition (also note they don't have to be the same size)\n",
      "print 'Jaccard Index (Sim): %f ' % lsh.jaccard_sim(['a','b','c'], ['a','b','c','x'])\n",
      "print 'Levenshtein Distance: %f ' % lsh.levenshtein(['a','b','c'], ['a','b','c','x'])\n",
      "print 'Levenshtein (Sim): %f ' % lsh.l_sim(['a','b','c'], ['a','b','c','x'])"
     ],
     "language": "python",
     "metadata": {},
     "outputs": [
      {
       "output_type": "stream",
       "stream": "stdout",
       "text": [
        "Jaccard Index (Sim): 0.750000 \n",
        "Levenshtein Distance: 1.000000 \n",
        "Levenshtein (Sim): 0.750000 \n"
       ]
      }
     ],
     "prompt_number": 17
    },
    {
     "cell_type": "code",
     "collapsed": false,
     "input": [
      "# Okay now that we have the similarities between all the rows in our syslog\n",
      "# we can start to investigate the results.\n",
      "sims.sort(reverse=True)\n",
      "print '*** Top sims ***'\n",
      "sims[:10]\n",
      "#sims[-10:]"
     ],
     "language": "python",
     "metadata": {},
     "outputs": [
      {
       "output_type": "stream",
       "stream": "stdout",
       "text": [
        "*** Top sims ***\n"
       ]
      },
      {
       "metadata": {},
       "output_type": "pyout",
       "prompt_number": 18,
       "text": [
        "[(0.9444444444444444, 3731, 3732),\n",
        " (0.9285714285714286, 27, 28),\n",
        " (0.9285714285714286, 25, 28),\n",
        " (0.9285714285714286, 25, 27),\n",
        " (0.9285714285714286, 24, 28),\n",
        " (0.9285714285714286, 24, 27),\n",
        " (0.9285714285714286, 24, 25),\n",
        " (0.9166666666666666, 37, 38),\n",
        " (0.9166666666666666, 36, 38),\n",
        " (0.9166666666666666, 36, 37)]"
       ]
      }
     ],
     "prompt_number": 18
    },
    {
     "cell_type": "code",
     "collapsed": false,
     "input": [
      "print dataframe.iloc[27]['features']"
     ],
     "language": "python",
     "metadata": {},
     "outputs": [
      {
       "output_type": "stream",
       "stream": "stdout",
       "text": [
        "['kernel[0]:', 'IOThunderboltSwitch<0xffffff803f8bfa00>(0x0)::listenerCallback', '-', 'Thunderbolt', 'HPD', 'packet', 'for', 'route', '=', '0x0', 'port', '=', '1', 'unplug', '=', '0']\n"
       ]
      }
     ],
     "prompt_number": 19
    },
    {
     "cell_type": "code",
     "collapsed": false,
     "input": [
      "print dataframe.iloc[25]['features']"
     ],
     "language": "python",
     "metadata": {},
     "outputs": [
      {
       "output_type": "stream",
       "stream": "stdout",
       "text": [
        "['kernel[0]:', 'IOThunderboltSwitch<0xffffff803f8bfa00>(0x0)::listenerCallback', '-', 'Thunderbolt', 'HPD', 'packet', 'for', 'route', '=', '0x0', 'port', '=', '12', 'unplug', '=', '0']\n"
       ]
      }
     ],
     "prompt_number": 20
    },
    {
     "cell_type": "code",
     "collapsed": false,
     "input": [
      "print dataframe['features'][1413]"
     ],
     "language": "python",
     "metadata": {},
     "outputs": [
      {
       "output_type": "stream",
       "stream": "stdout",
       "text": [
        "['mDNSResponderHelper[77074]:', 'do_mDNSInterfaceAdvtIoctl:', 'ioctl', 'call', 'SIOCGIFINFO_IN6', 'failed', '-', 'error', '(22)', 'Invalid', 'argument']\n"
       ]
      }
     ],
     "prompt_number": 21
    },
    {
     "cell_type": "code",
     "collapsed": false,
     "input": [
      "# The two feature sets should look quite similar (recall that this\n",
      "# is just our syslog row split on white space and thrown into a list)\n",
      "\n",
      "# So now for any row in our syslog we can see what rows are highly\n",
      "# similar to that row.\n",
      "query_item = ['mDNSResponderHelper[77074]:', 'do_mDNSInterfaceAdvtIoctl:', 'ioctl', 'call', 'SIOCGIFINFO_IN6', 'failed', '-', 'error', '(22)', 'Invalid', 'argument']\n",
      "lsh.top_N(query_item,dataframe['label'], 5)\n"
     ],
     "language": "python",
     "metadata": {},
     "outputs": [
      {
       "metadata": {},
       "output_type": "pyout",
       "prompt_number": 22,
       "text": [
        "[{'label': u'mDNSRe:do_mDN:ioctl:call:SIOCGI:failed:-:error:(22):Invali:argume',\n",
        "  'sim': 1.0},\n",
        " {'label': u'mDNSRe:do_mDN:ioctl:call:SIOCGI:failed:-:error:(22):Invali:argume',\n",
        "  'sim': 0.9090909090909091},\n",
        " {'label': u'mDNSRe:do_mDN:ioctl:call:SIOCGI:failed:-:error:(22):Invali:argume',\n",
        "  'sim': 0.9090909090909091},\n",
        " {'label': u'mDNSRe:do_mDN:ioctl:call:SIOCGI:failed:-:error:(22):Invali:argume',\n",
        "  'sim': 0.9090909090909091},\n",
        " {'label': u'mDNSRe:do_mDN:ioctl:call:SIOCGI:failed:-:error:(22):Invali:argume',\n",
        "  'sim': 0.9090909090909091}]"
       ]
      }
     ],
     "prompt_number": 22
    },
    {
     "cell_type": "code",
     "collapsed": false,
     "input": [
      "# Note the query object doesn't have all the original features\n",
      "query_item = ['ioctl', 'call', 'SIOCGIFINFO_IN6', 'failed', '-', 'error', '(22)', 'Invalid', 'argument']\n",
      "lsh.top_N(query_item,dataframe['label'], 5)"
     ],
     "language": "python",
     "metadata": {},
     "outputs": [
      {
       "metadata": {},
       "output_type": "pyout",
       "prompt_number": 23,
       "text": [
        "[{'label': u'mDNSRe:do_mDN:ioctl:call:SIOCGI:failed:-:error:(22):Invali:argume',\n",
        "  'sim': 0.8181818181818182},\n",
        " {'label': u'mDNSRe:do_mDN:ioctl:call:SIOCGI:failed:-:error:(22):Invali:argume',\n",
        "  'sim': 0.8181818181818182},\n",
        " {'label': u'mDNSRe:do_mDN:ioctl:call:SIOCGI:failed:-:error:(22):Invali:argume',\n",
        "  'sim': 0.8181818181818182},\n",
        " {'label': u'mDNSRe:do_mDN:ioctl:call:SIOCGI:failed:-:error:(22):Invali:argume',\n",
        "  'sim': 0.8181818181818182},\n",
        " {'label': u'mDNSRe:do_mDN:ioctl:call:SIOCGI:failed:-:error:(22):Invali:argume',\n",
        "  'sim': 0.8181818181818182}]"
       ]
      }
     ],
     "prompt_number": 23
    },
    {
     "cell_type": "markdown",
     "metadata": {},
     "source": [
      "<div style=\"float: right; margin: 20px 20px 20px 20px\"><img src=\"files/images/agg.jpg\" style=\"margin: 10px\"></div>\n",
      "### Hierarchical Clustering \n",
      "Now we can use those similarities as the basis of a Hierarchical Clustering Algorithm. Single-linkage clustering is one of several methods for agglomerative hierarchical clustering. The image on the right is an example of how this works. \n",
      "\n",
      "We're using a bottom up method (image is flipped :), you simply sort the similarities and start building your tree from the bottom. If B and C are the most similar you link them, then D/E and so on until you complete the tree. The devil is **definitely** in the details on the implementation of this, so luckily we have a python class that does it for us."
     ]
    },
    {
     "cell_type": "code",
     "collapsed": false,
     "input": [
      "# A simple example for illustration\n",
      "reload(hcluster)\n",
      "import hcluster\n",
      "\n",
      "toy_data = [['a','b','c','d'],['a','b','d'],['a','b','e','d'],['a','b','f'],\n",
      "            ['w','x','y','z'],['x','y','z'],['w','x','q','z','y'],\n",
      "            ['r','s','t'],['u','s','t']]\n",
      "\n",
      "toy_lsh = lsh_sims.LSHSimilarities(toy_data, mh_params=params)\n",
      "toy_sims = toy_lsh.batch_compute_similarities(distance_metric='jaccard', threshold=.01)\n",
      "    \n",
      "# Compute a hierarchical clustering from the similarity list\n",
      "toy_h_clustering = hcluster.HCluster()\n",
      "toy_h_clustering.set_sim_method(_lsh.jaccard_sim)\n",
      "toy_h_graph, toy_h_tree = toy_h_clustering.sims_to_hcluster(toy_sims, toy_data)\n",
      "\n",
      "# Plot the hierarchical tree\n",
      "toy_h_clustering.plot_htree(toy_h_tree, prog='dot')\n"
     ],
     "language": "python",
     "metadata": {},
     "outputs": [
      {
       "output_type": "stream",
       "stream": "stdout",
       "text": [
        "Adding 9 samples to minhash...\n",
        "Adding 9 samples to minhash...\n",
        "Computing All Candidate Matches...\n",
        "\tComputing All to All Candidates Matches...\n",
        "\t\tCollapsing Candidate Pairs...\n",
        "10 (12.35% out of 81) pairs returned from MinHash\n",
        "LSH: 10 matches out of 10 candidates (adjust parameters if needed)\n",
        "set(['a', 'b'])\n",
        "set(['y', 'x', 'z'])\n",
        "set(['s', 't'])\n",
        "Computing similarity on 3 exemplars\n",
        "Created exemplar set (3)\n",
        "Sorting 2 exemplar sim\n",
        "Wiring up 0 exemplar sims\n",
        "Computing Maximal Spanning Tree...\n",
        "Adding labels to graph...\n",
        "Root node = Root\n"
       ]
      },
      {
       "metadata": {},
       "output_type": "display_data",
       "png": "[encoded data removed]",
       "text": [
        "<matplotlib.figure.Figure at 0x105757b90>"
       ]
      }
     ],
     "prompt_number": 75
    },
    {
     "cell_type": "code",
     "collapsed": false,
     "input": [
      "# Now we'll do the same thing for our syslog data\n",
      "\n",
      "# Compute a hierarchical clustering from the similarity list\n",
      "h_clustering = hcluster.HCluster()\n",
      "h_clustering.set_sim_method(lsh.jaccard_sim)\n",
      "h_graph, h_tree = h_clustering.sims_to_hcluster(sims, dataframe['features'], dataframe['label'])"
     ],
     "language": "python",
     "metadata": {},
     "outputs": [
      {
       "output_type": "stream",
       "stream": "stdout",
       "text": [
        "set([''])\n",
        "set(['IO', 'is', 'becaus', 'shots', 'automa', 'coreau', 'audio', 'stack'])\n",
        "Computing similarity on 2 exemplars\n",
        "Created exemplar set (2)\n",
        "Sorting 1 exemplar sim\n",
        "Wiring up 0 exemplar sims\n",
        "Computing Maximal Spanning Tree...\n"
       ]
      }
     ],
     "prompt_number": 92
    },
    {
     "cell_type": "code",
     "collapsed": false,
     "input": [
      "# Flipping pylab out of inline mode so we can have a GUI zoom/pan for\n",
      "# our plot, you can do %pylab inline to return to inline plot mode.\n",
      "%pylab osx"
     ],
     "language": "python",
     "metadata": {},
     "outputs": [
      {
       "output_type": "stream",
       "stream": "stdout",
       "text": [
        "Populating the interactive namespace from numpy and matplotlib\n"
       ]
      }
     ],
     "prompt_number": 93
    },
    {
     "cell_type": "code",
     "collapsed": false,
     "input": [
      "# Plot the hierarchical tree\n",
      "h_clustering.plot_htree(h_tree, node_size=100,figsize=(20,12))"
     ],
     "language": "python",
     "metadata": {},
     "outputs": [
      {
       "output_type": "stream",
       "stream": "stdout",
       "text": [
        "Adding labels to graph...\n",
        "Root node = Root\n"
       ]
      }
     ],
     "prompt_number": 94
    },
    {
     "cell_type": "code",
     "collapsed": false,
     "input": [
      "# Here's an image for those folks not looking at it interactively"
     ],
     "language": "python",
     "metadata": {},
     "outputs": []
    },
    {
     "cell_type": "markdown",
     "metadata": {},
     "source": [
      "<img src=\"files/h_cluster.png\">"
     ]
    },
    {
     "cell_type": "markdown",
     "metadata": {},
     "source": [
      "### ToDo\n",
      "Really want to do an interactive D3 based Hierarchical Tree Visualization (http://d3js.org)\n",
      "\n",
      "### Conclusions\n",
      "We pulled in some syslog data into a Pandas dataframe, made some plots, computed row similarities with 'Banded MinHash' and used single-linkage clustering to build an agglomerative hierarchical cluster. Lots of possibilities from here, you could use just the LSH datastructure or the H-Cluster...\n",
      "\n",
      "  - LogFile Viewer\n",
      "    - Click on a row, filter out everything that's similar\n",
      "    - Click on a row, color code all the other rows based on similarity\n",
      "  - Super fancy D3 zoom in/filter awesomeness..."
     ]
    }
   ],
   "metadata": {}
  }
 ]
}