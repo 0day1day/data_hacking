{
 "metadata": {
  "name": ""
 },
 "nbformat": 3,
 "nbformat_minor": 0,
 "worksheets": [
  {
   "cells": [
    {
     "cell_type": "markdown",
     "metadata": {},
     "source": [
      "## Having Fun with Syslog.\n",
      "<div style=\"float: right;\"> <figure style=\"margin:0px 0px 0px 10px; padding:0\">\n",
      "<img src=\"http://www.sharielf.com/gifs/zz032411pony.jpg\" width=\"150px\">\n",
      "<figcaption>Shari Elf: www.sharielf.com</figcaption>\n",
      "</figure></div>\n",
      "In the next exercise we're going look at some syslog data. We'll take it up a notch by computing similarities with 'Banded MinHash' and running a hierarchical clustering algorithm.\n",
      "\n",
      "Systems logs are particularly challenging because they often lack any kind of structure as all. For this exercise we're going to be looking at the /var/log/system.log of a typical Mac OSX Laptop. The first steps will be standard data inspection and plots, after that we'll pull out the big guns!"
     ]
    },
    {
     "cell_type": "code",
     "collapsed": false,
     "input": [
      "# This exercise is mostly for us to understand what kind of data we have and then\n",
      "# run some simple stats on the fields/values in the data. Pandas will be great for that\n",
      "import pandas as pd\n",
      "pd.__version__"
     ],
     "language": "python",
     "metadata": {},
     "outputs": [
      {
       "metadata": {},
       "output_type": "pyout",
       "prompt_number": 211,
       "text": [
        "'0.12.0'"
       ]
      }
     ],
     "prompt_number": 211
    },
    {
     "cell_type": "code",
     "collapsed": false,
     "input": [
      "# Set default figure sizes\n",
      "pylab.rcParams['figure.figsize'] = (16.0, 5.0)"
     ],
     "language": "python",
     "metadata": {},
     "outputs": [],
     "prompt_number": 212
    },
    {
     "cell_type": "code",
     "collapsed": false,
     "input": [
      "# Lets take a peek at our system.log, with iPython you\n",
      "# can execute system commands with '!' (also see %alias)"
     ],
     "language": "python",
     "metadata": {},
     "outputs": [],
     "prompt_number": 213
    },
    {
     "cell_type": "code",
     "collapsed": false,
     "input": [
      "!head /var/log/system.log"
     ],
     "language": "python",
     "metadata": {},
     "outputs": [
      {
       "output_type": "stream",
       "stream": "stdout",
       "text": [
        "Nov  1 00:31:08 voltron newsyslog[78187]: logfile turned over\r\n",
        "Nov  1 00:31:08 --- last message repeated 16 times ---\r\n",
        "Nov  1 00:31:08 voltron kernel[0]: CODE SIGNING: cs_invalid_page(0x1000): p=78186[GoogleSoftwareUp] clearing CS_VALID\r\n",
        "Nov  1 00:31:08 voltron kernel[0]: SMC::smcReadKeyAction ERROR TC0D kSMCBadArgumentError(0x89) fKeyHashTable=0x0xffffff8041019000\r\n",
        "Nov  1 00:31:09 voltron kernel[0]: SMC::smcReadKeyAction ERROR TC0D kSMCBadArgumentError(0x89) fKeyHashTable=0x0xffffff8041019000\r\n",
        "Nov  1 00:31:39 --- last message repeated 24 times ---\r\n",
        "Nov  1 00:31:39 voltron kernel[0]: SMC::smcReadKeyAction ERROR TC0D kSMCBadArgumentError(0x89) fKeyHashTable=0x0xffffff8041019000\r\n",
        "Nov  1 00:32:09 --- last message repeated 24 times ---\r\n",
        "Nov  1 00:32:09 voltron kernel[0]: SMC::smcReadKeyAction ERROR TC0D kSMCBadArgumentError(0x89) fKeyHashTable=0x0xffffff8041019000\r\n",
        "Nov  1 00:32:39 --- last message repeated 24 times ---\r\n"
       ]
      }
     ],
     "prompt_number": 214
    },
    {
     "cell_type": "code",
     "collapsed": false,
     "input": [
      "# Okay so weird timestamp, machine name and then random stuff...\n",
      "import dateutil.parser"
     ],
     "language": "python",
     "metadata": {},
     "outputs": [],
     "prompt_number": 215
    },
    {
     "cell_type": "code",
     "collapsed": false,
     "input": [
      "# Helper function to make compact, composite labels for the syslog rows\n",
      "def make_label(features):\n",
      "    return unicode(':'.join([f[:4] for f in features]), 'utf-8').encode('ascii','ignore')\n",
      "    # wtf is wrong with this? return unicode(raw, 'utf8', 'ignore')\n",
      "    # return u_text.encode('utf-8', 'ignore')\n",
      "\n",
      "# Now process the syslog file, part of the challenge is parsing the darn thing.\n",
      "# Typically each row in a syslog will have a timestamp first and then some random\n",
      "# set of other fields split on whitespace. We're going to carefully pull out the\n",
      "# timestamp but then just treat everything else as bag of tokens (sparse data).\n",
      "date_index = []\n",
      "with open('/var/log/system.log') as syslog:\n",
      "    syslog_rows = syslog.readlines()\n",
      "    syslog_events = []\n",
      "    for row in syslog_rows:\n",
      "        split_list = row.split()\n",
      "        tmp = ' '.join(split_list[:3])\n",
      "        try:\n",
      "            date = dateutil.parser.parse(' '.join(split_list[:3]))\n",
      "        except ValueError:\n",
      "            continue # Going to skip rows where we can't get a timestamp\n",
      "        features = split_list[4:]\n",
      "        syslog_events.append({'features': features, 'label': make_label(features), 'type': features[0].split('[')[0]})\n",
      "        date_index.append(date)\n",
      "    dataframe = pd.DataFrame(syslog_events, index=date_index)"
     ],
     "language": "python",
     "metadata": {},
     "outputs": [],
     "prompt_number": 255
    },
    {
     "cell_type": "code",
     "collapsed": false,
     "input": [
      "# Make sure our timestamp got pulled/parsed/converted correctly\n",
      "type(dataframe.index[0])"
     ],
     "language": "python",
     "metadata": {},
     "outputs": [
      {
       "metadata": {},
       "output_type": "pyout",
       "prompt_number": 256,
       "text": [
        "pandas.tslib.Timestamp"
       ]
      }
     ],
     "prompt_number": 256
    },
    {
     "cell_type": "code",
     "collapsed": false,
     "input": [
      "dataframe.head(5)\n",
      "\n",
      "# So what do we have? Datetime is our index, features is just the \n",
      "# syslog row split by whitespace and placed into a list. The label\n",
      "# is just the features (truncated) and flattened with : separators.\n",
      "# 'type' is just the syslog identifier right after the datetime and machine.\n",
      "# Note: The parsing of the syslog is more art than science and syslogs\n",
      "#       can vary greatly, but we haven't done any super magic here,\n",
      "#       just basically thrown the row data into some bins..."
     ],
     "language": "python",
     "metadata": {},
     "outputs": [
      {
       "html": [
        "<div style=\"max-height:1000px;max-width:1500px;overflow:auto;\">\n",
        "<table border=\"1\" class=\"dataframe\">\n",
        "  <thead>\n",
        "    <tr style=\"text-align: right;\">\n",
        "      <th></th>\n",
        "      <th>features</th>\n",
        "      <th>label</th>\n",
        "      <th>type</th>\n",
        "    </tr>\n",
        "  </thead>\n",
        "  <tbody>\n",
        "    <tr>\n",
        "      <th>2013-11-01 00:31:08</th>\n",
        "      <td>        [newsyslog[78187]:, logfile, turned, over]</td>\n",
        "      <td>                news:logf:turn:over</td>\n",
        "      <td> newsyslog</td>\n",
        "    </tr>\n",
        "    <tr>\n",
        "      <th>2013-11-01 00:31:08</th>\n",
        "      <td>         [last, message, repeated, 16, times, ---]</td>\n",
        "      <td>         last:mess:repe:16:time:---</td>\n",
        "      <td>      last</td>\n",
        "    </tr>\n",
        "    <tr>\n",
        "      <th>2013-11-01 00:31:08</th>\n",
        "      <td> [kernel[0]:, CODE, SIGNING:, cs_invalid_page(0...</td>\n",
        "      <td> kern:CODE:SIGN:cs_i:p=78:clea:CS_V</td>\n",
        "      <td>    kernel</td>\n",
        "    </tr>\n",
        "    <tr>\n",
        "      <th>2013-11-01 00:31:08</th>\n",
        "      <td> [kernel[0]:, SMC::smcReadKeyAction, ERROR, TC0...</td>\n",
        "      <td>      kern:SMC::ERRO:TC0D:kSMC:fKey</td>\n",
        "      <td>    kernel</td>\n",
        "    </tr>\n",
        "    <tr>\n",
        "      <th>2013-11-01 00:31:09</th>\n",
        "      <td> [kernel[0]:, SMC::smcReadKeyAction, ERROR, TC0...</td>\n",
        "      <td>      kern:SMC::ERRO:TC0D:kSMC:fKey</td>\n",
        "      <td>    kernel</td>\n",
        "    </tr>\n",
        "  </tbody>\n",
        "</table>\n",
        "</div>"
       ],
       "metadata": {},
       "output_type": "pyout",
       "prompt_number": 257,
       "text": [
        "                                                              features  \\\n",
        "2013-11-01 00:31:08         [newsyslog[78187]:, logfile, turned, over]   \n",
        "2013-11-01 00:31:08          [last, message, repeated, 16, times, ---]   \n",
        "2013-11-01 00:31:08  [kernel[0]:, CODE, SIGNING:, cs_invalid_page(0...   \n",
        "2013-11-01 00:31:08  [kernel[0]:, SMC::smcReadKeyAction, ERROR, TC0...   \n",
        "2013-11-01 00:31:09  [kernel[0]:, SMC::smcReadKeyAction, ERROR, TC0...   \n",
        "\n",
        "                                                  label       type  \n",
        "2013-11-01 00:31:08                 news:logf:turn:over  newsyslog  \n",
        "2013-11-01 00:31:08          last:mess:repe:16:time:---       last  \n",
        "2013-11-01 00:31:08  kern:CODE:SIGN:cs_i:p=78:clea:CS_V     kernel  \n",
        "2013-11-01 00:31:08       kern:SMC::ERRO:TC0D:kSMC:fKey     kernel  \n",
        "2013-11-01 00:31:09       kern:SMC::ERRO:TC0D:kSMC:fKey     kernel  "
       ]
      }
     ],
     "prompt_number": 257
    },
    {
     "cell_type": "code",
     "collapsed": false,
     "input": [
      "dataframe.tail(5)"
     ],
     "language": "python",
     "metadata": {},
     "outputs": [
      {
       "html": [
        "<div style=\"max-height:1000px;max-width:1500px;overflow:auto;\">\n",
        "<table border=\"1\" class=\"dataframe\">\n",
        "  <thead>\n",
        "    <tr style=\"text-align: right;\">\n",
        "      <th></th>\n",
        "      <th>features</th>\n",
        "      <th>label</th>\n",
        "      <th>type</th>\n",
        "    </tr>\n",
        "  </thead>\n",
        "  <tbody>\n",
        "    <tr>\n",
        "      <th>2013-11-01 18:47:53</th>\n",
        "      <td> [kernel[0]:, SMC::smcReadKeyAction, ERROR, TC0...</td>\n",
        "      <td> kern:SMC::ERRO:TC0D:kSMC:fKey</td>\n",
        "      <td> kernel</td>\n",
        "    </tr>\n",
        "    <tr>\n",
        "      <th>2013-11-01 18:47:55</th>\n",
        "      <td> [kernel[0]:, SMC::smcReadKeyAction, ERROR, TC0...</td>\n",
        "      <td> kern:SMC::ERRO:TC0D:kSMC:fKey</td>\n",
        "      <td> kernel</td>\n",
        "    </tr>\n",
        "    <tr>\n",
        "      <th>2013-11-01 18:48:26</th>\n",
        "      <td>         [last, message, repeated, 25, times, ---]</td>\n",
        "      <td>    last:mess:repe:25:time:---</td>\n",
        "      <td>   last</td>\n",
        "    </tr>\n",
        "    <tr>\n",
        "      <th>2013-11-01 18:48:26</th>\n",
        "      <td> [kernel[0]:, SMC::smcReadKeyAction, ERROR, TC0...</td>\n",
        "      <td> kern:SMC::ERRO:TC0D:kSMC:fKey</td>\n",
        "      <td> kernel</td>\n",
        "    </tr>\n",
        "    <tr>\n",
        "      <th>2013-11-01 18:48:27</th>\n",
        "      <td> [kernel[0]:, SMC::smcReadKeyAction, ERROR, TC0...</td>\n",
        "      <td> kern:SMC::ERRO:TC0D:kSMC:fKey</td>\n",
        "      <td> kernel</td>\n",
        "    </tr>\n",
        "  </tbody>\n",
        "</table>\n",
        "</div>"
       ],
       "metadata": {},
       "output_type": "pyout",
       "prompt_number": 258,
       "text": [
        "                                                              features  \\\n",
        "2013-11-01 18:47:53  [kernel[0]:, SMC::smcReadKeyAction, ERROR, TC0...   \n",
        "2013-11-01 18:47:55  [kernel[0]:, SMC::smcReadKeyAction, ERROR, TC0...   \n",
        "2013-11-01 18:48:26          [last, message, repeated, 25, times, ---]   \n",
        "2013-11-01 18:48:26  [kernel[0]:, SMC::smcReadKeyAction, ERROR, TC0...   \n",
        "2013-11-01 18:48:27  [kernel[0]:, SMC::smcReadKeyAction, ERROR, TC0...   \n",
        "\n",
        "                                             label    type  \n",
        "2013-11-01 18:47:53  kern:SMC::ERRO:TC0D:kSMC:fKey  kernel  \n",
        "2013-11-01 18:47:55  kern:SMC::ERRO:TC0D:kSMC:fKey  kernel  \n",
        "2013-11-01 18:48:26     last:mess:repe:25:time:---    last  \n",
        "2013-11-01 18:48:26  kern:SMC::ERRO:TC0D:kSMC:fKey  kernel  \n",
        "2013-11-01 18:48:27  kern:SMC::ERRO:TC0D:kSMC:fKey  kernel  "
       ]
      }
     ],
     "prompt_number": 258
    },
    {
     "cell_type": "code",
     "collapsed": false,
     "input": [
      "# We can get a count of all the unique values by running value_counts()\n",
      "dataframe['label'].value_counts()\n",
      "\n",
      "# Okay the breakout below gives us a sense for our challenge..."
     ],
     "language": "python",
     "metadata": {},
     "outputs": [
      {
       "metadata": {},
       "output_type": "pyout",
       "prompt_number": 259,
       "text": [
        "kern:SMC::ERRO:TC0D:kSMC:fKey                                   903\n",
        "last:mess:repe:24:time:---                                      550\n",
        "Wind:kCGE:_CGX:erro:sett:wind:prop                              183\n",
        "Wind:CGXS:Inva:wind:0x69                                         78\n",
        "core:Enab:auto:stac:shot:beca:audi:IO:is:inac                    66\n",
        "core:Disa:auto:stac:shot:beca:audi:IO:is:acti                    65\n",
        "last:mess:repe:1:time:---                                        62\n",
        "netb:name:serv:down                                              49\n",
        "Wind:CGXS:Inva:wind:0x6d                                         48\n",
        "iTun:Ente:mux-                                                   33\n",
        "kern:en0::bssi:chan                                              32\n",
        "kern:IOPP:Sent:cpu-:last:valu:0:(rou:time:weig:aver:0)           28\n",
        "kern:Appl:-:kDPP:-:NFC:[src:int=:dst=:Init:Cred:[src:int=:dst=     27\n",
        "Drop:_NXG:erro:gett:disp:boun:(100                               26\n",
        "Drop:CGSG:Inva:disp:0x04                                         26\n",
        "...\n",
        "Wind:post:::Time:out:wait:for:repl:from:\"Pre:for:noti:type:100:(CID:0x13:PID:7844    1\n",
        "kern:RTC::Slee:2013:10:1:slee:2013:09:1                         1\n",
        "loca:NOTI:requ:0,:0,:0,:8,:item:fQue:3,:fLas:4050               1\n",
        "conf:netw:chan:v6(e:DNS+:Prox:SMB                               1\n",
        "kern:HID:tick:83:ms                                             1\n",
        "kern:Grap:supp:425:ms                                           1\n",
        "kern:RTC::Slee:2013:12:1:slee:2013:11:1                         1\n",
        "kern:Appl:-:retr:=:45                                           1\n",
        "User:Capt:en0::Prob:'Sou                                        1\n",
        "MDCr:7701:ERRO:Coul:not:conn:to:devi:This:devi:is:no:long:conn:(132    1\n",
        "loca:NOTI:requ:0,:0,:0,:8,:item:fQue:1,:fLas:4050               1\n",
        "logi:in:od_r:retv:0                                             1\n",
        "loca:NOTI:requ:0,:0,:0,:45,:item:fQue:2,:fLas:4050              1\n",
        "conf:netw:chan:v4(e:DNS+:Prox:SMB+                              1\n",
        "com.:Devi:fail:0xe0                                             1\n",
        "Length: 415, dtype: int64"
       ]
      }
     ],
     "prompt_number": 259
    },
    {
     "cell_type": "code",
     "collapsed": false,
     "input": [
      "# Realize that we don't want the 'last message' events\n",
      "dataframe = dataframe[dataframe['type'] != 'last']"
     ],
     "language": "python",
     "metadata": {},
     "outputs": [],
     "prompt_number": 260
    },
    {
     "cell_type": "markdown",
     "metadata": {},
     "source": [
      "### Lets do standard histogram and event volume over time plots"
     ]
    },
    {
     "cell_type": "code",
     "collapsed": false,
     "input": [
      "# Now prepare the data for plotting by pivoting on the \n",
      "# feature to create a new column (series) for each value\n",
      "\n",
      "# Only pull out the top 7 syslog event types\n",
      "topN = dataframe['type'].value_counts()[:7].index\n",
      "subset = dataframe[dataframe['type'].isin(topN)]\n",
      "print 'Subset: %d rows %d columns' % subset.shape\n",
      "\n",
      "# We're going to add a new column called value (needed for pivot). This\n",
      "# is a bit dorky, but needed as the new columns that get created should\n",
      "# really have a value in them, also we can use this as our value to sum over.\n",
      "subset['count'] = 1\n",
      "pivot = pd.pivot_table(subset, values='count', rows=subset.index, cols=['type'], fill_value=.01)\n",
      "by = lambda x: lambda y: getattr(y, x)\n",
      "grouped = pivot.groupby([by('hour')]).sum()\n",
      "grouped.plot(kind='bar', stacked=True)\n",
      "grouped.plot()"
     ],
     "language": "python",
     "metadata": {},
     "outputs": [
      {
       "output_type": "stream",
       "stream": "stdout",
       "text": [
        "Subset: 2519 rows 3 columns\n"
       ]
      },
      {
       "metadata": {},
       "output_type": "pyout",
       "prompt_number": 261,
       "text": [
        "<matplotlib.axes.AxesSubplot at 0x116278410>"
       ]
      }
     ],
     "prompt_number": 261
    },
    {
     "cell_type": "markdown",
     "metadata": {},
     "source": [
      "<div style=\"float: right; margin: 20px 20px 150px 20px\"><img src=\"files/images/spice_weasel.jpg\" width=\"300px\" style=\"margin: 10px\">\n",
      "<div><span style=\"font-size: 9px;\">\u00a9 Some super nice person who's not going to sue me</span></div></div>\n",
      "#### Well besides learning we have lots of kernel syslog messages, kinda boring...<br><br>So, lets take is up a notch with the good 'ol spice weasel! Bam!\n",
      "1. **Compute similarities between all rows within the system log using LSH**\n",
      "    Unlike conventional hash functions the goal of LSH (Locality Sensitive Hashing) is to maximize probability of \"collision\" of similar items rather than avoid collisions.\n",
      "    * [MinHash](http://en.wikipedia.org/wiki/MinHash)\n",
      "    * [Locality Sensitive Hashing](http://en.wikipedia.org/wiki/Locality_sensitive_hashing)\n",
      "    * [Mining of Massive Datasets](http://infolab.stanford.edu/~ullman/mmds/ch3.pdf)\n",
      "2. **Use those similarities as the basis of a Hierarchical Clustering Algorithm**\n",
      "    Single-linkage clustering is one of several methods for agglomerative \n",
      "    hierarchical clustering.\n",
      "    - [Single Linkage Clustering](http://en.wikipedia.org/wiki/Single-linkage_clustering)\n",
      "    - [Hierarchical Clustering](http://en.wikipedia.org/wiki/Hierarchical_clustering)\n",
      "    \n",
      "    Other popular online clustering algorithms\n",
      "    - [DBSCAN](http://en.wikipedia.org/wiki/DBSCAN)\n",
      "    - [OPTICS Algorithms](http://en.wikipedia.org/wiki/OPTICS_algorithm)"
     ]
    },
    {
     "cell_type": "code",
     "collapsed": false,
     "input": [
      "# Even for small syslogs the number of similarity pairs to compute quickly\n",
      "# becomes quite large O(N**2), so for 100k rows that's 10 billion possible\n",
      "# pairs. Using Banded MinHash will drastically reduce the number of \n",
      "# candidates that we have to compute.\n",
      "import lsh_sims\n",
      "\n",
      "# Note: The parameters here are setup for feeding the results into a Hierarchical\n",
      "#       Clustering algorithm, which needs as many similarities as you can get.\n",
      "#       In general you'd parameters like num_hashes:20, lsh_bands:5 lsh_rows:4  \n",
      "#       Note: lsh_bands*lsh_rows ^must^ equal num_hashes\n",
      "params = {'num_hashes':20, 'lsh_bands':20, 'lsh_rows':1, 'drop_duplicates':True}\n",
      "lsh = lsh_sims.LSHSimilarities(dataframe['features'], mh_params=params)\n",
      "sims = lsh.batch_compute_similarities(distance_metric='jaccard', threshold=.2)"
     ],
     "language": "python",
     "metadata": {},
     "outputs": [
      {
       "output_type": "stream",
       "stream": "stdout",
       "text": [
        "Adding 3075 samples to minhash...\n",
        "Adding 3075 samples to minhash..."
       ]
      },
      {
       "output_type": "stream",
       "stream": "stdout",
       "text": [
        "\n",
        "Computing All Candidate Matches..."
       ]
      },
      {
       "output_type": "stream",
       "stream": "stdout",
       "text": [
        "\n",
        "\tComputing All to All Candidates Matches...\n",
        "\t\tCollapsing Candidate Pairs...\n",
        "46133 (0.49% out of 9455625) pairs returned from MinHash"
       ]
      },
      {
       "output_type": "stream",
       "stream": "stdout",
       "text": [
        "\n",
        "LSH: 13828 matches out of 46133 candidates (adjust parameters if needed)"
       ]
      },
      {
       "output_type": "stream",
       "stream": "stdout",
       "text": [
        "\n"
       ]
      }
     ],
     "prompt_number": 262
    },
    {
     "cell_type": "markdown",
     "metadata": {},
     "source": [
      "#### The LSH Sims python class has two distance metrics\n",
      "\n",
      "1) Jaccard Index: a set based distance metric (overlaps in sets of elements)\n",
      "  \n",
      "   - [Jaccard Index](http://en.wikipedia.org/wiki/Jaccard_index)\n",
      "\n",
      "2) Levenshtein Distance: based on the edit distance of the elements (so order matters).\n",
      "  \n",
      "   - [Levenshtein Distance](http://en.wikipedia.org/wiki/Levenshtein_distance)"
     ]
    },
    {
     "cell_type": "code",
     "collapsed": false,
     "input": [
      "# Lets look at the difference between Jaccard Similarity and Levenshtein Similarity\n",
      "# So here similarity is a normalized measure of inverse distance...\n",
      "print 'Jaccard Index (Sim): %f ' % lsh.jaccard_sim(['a','b','c','d'], ['a','b','d','c'])\n",
      "print 'Levenshtein Distance: %f ' % lsh.levenshtein(['a','b','c','d'], ['a','b','d','c'])\n",
      "print 'Levenshtein (Sim): %f ' % lsh.l_sim(['a','b','c','d'], ['a','b','d','c'])"
     ],
     "language": "python",
     "metadata": {},
     "outputs": [
      {
       "output_type": "stream",
       "stream": "stdout",
       "text": [
        "Jaccard Index (Sim): 1.000000 \n",
        "Levenshtein Distance: 2.000000 \n",
        "Levenshtein (Sim): 0.500000 \n"
       ]
      }
     ],
     "prompt_number": 263
    },
    {
     "cell_type": "code",
     "collapsed": false,
     "input": [
      "# One more example for intuition (also note they don't have to be the same size)\n",
      "print 'Jaccard Index (Sim): %f ' % lsh.jaccard_sim(['a','b','c'], ['a','b','c','x'])\n",
      "print 'Levenshtein Distance: %f ' % lsh.levenshtein(['a','b','c'], ['a','b','c','x'])\n",
      "print 'Levenshtein (Sim): %f ' % lsh.l_sim(['a','b','c'], ['a','b','c','x'])"
     ],
     "language": "python",
     "metadata": {},
     "outputs": [
      {
       "output_type": "stream",
       "stream": "stdout",
       "text": [
        "Jaccard Index (Sim): 0.750000 \n",
        "Levenshtein Distance: 1.000000 \n",
        "Levenshtein (Sim): 0.750000 \n"
       ]
      }
     ],
     "prompt_number": 264
    },
    {
     "cell_type": "code",
     "collapsed": false,
     "input": [
      "# Okay now that we have the similarities between all the rows in our syslog\n",
      "# we can start to investigate the results.\n",
      "sims.sort(reverse=True)\n",
      "print '*** Top sims ***'\n",
      "sims[:10]\n",
      "#sims[-10:]"
     ],
     "language": "python",
     "metadata": {},
     "outputs": [
      {
       "output_type": "stream",
       "stream": "stdout",
       "text": [
        "*** Top sims ***\n"
       ]
      },
      {
       "metadata": {},
       "output_type": "pyout",
       "prompt_number": 265,
       "text": [
        "[(0.9615384615384616, 1389, 2665),\n",
        " (0.95, 1828, 2547),\n",
        " (0.95, 1203, 1718),\n",
        " (0.95, 374, 2547),\n",
        " (0.95, 374, 1828),\n",
        " (0.9473684210526315, 2588, 2591),\n",
        " (0.9444444444444444, 1813, 2162),\n",
        " (0.9444444444444444, 1739, 2586),\n",
        " (0.9444444444444444, 356, 2162),\n",
        " (0.9444444444444444, 356, 1813)]"
       ]
      }
     ],
     "prompt_number": 265
    },
    {
     "cell_type": "code",
     "collapsed": false,
     "input": [
      "print dataframe.iloc[370]['features']"
     ],
     "language": "python",
     "metadata": {},
     "outputs": [
      {
       "output_type": "stream",
       "stream": "stdout",
       "text": [
        "['usbmuxd[1440]:', 'AMDeviceConnect', '(thread', '0x100781000):', 'Could', 'not', 'connect', 'to', 'lockdown', 'port', '(62078)', 'on', 'device', '719', '-', 'd8a67fcdfff5627548efa1295c5f7aef3f6c579f:', '0xe8000084.']\n"
       ]
      }
     ],
     "prompt_number": 266
    },
    {
     "cell_type": "code",
     "collapsed": false,
     "input": [
      "print dataframe.iloc[384]['features']"
     ],
     "language": "python",
     "metadata": {},
     "outputs": [
      {
       "output_type": "stream",
       "stream": "stdout",
       "text": [
        "['usbmuxd[1440]:', 'AMDeviceConnect', '(thread', '0x100781000):', 'Could', 'not', 'connect', 'to', 'lockdown', 'port', '(62078)', 'on', 'device', '720', '-', 'd8a67fcdfff5627548efa1295c5f7aef3f6c579f:', '0xe8000084.']\n"
       ]
      }
     ],
     "prompt_number": 267
    },
    {
     "cell_type": "code",
     "collapsed": false,
     "input": [
      "# The two feature sets should look quite similar (recall that this\n",
      "# is just our syslog row split on white space and thrown into a list)\n",
      "\n",
      "# So now for any row in our syslog we can see what rows are highly\n",
      "# similar to that row.\n",
      "query_item = ['mDNSResponderHelper[77074]:', 'do_mDNSInterfaceAdvtIoctl:', 'ioctl', 'call', 'SIOCGIFINFO_IN6', 'failed', '-', 'error', '(22)', 'Invalid', 'argument']\n",
      "lsh.top_N(query_item,dataframe['label'], 5)\n"
     ],
     "language": "python",
     "metadata": {},
     "outputs": [
      {
       "metadata": {},
       "output_type": "pyout",
       "prompt_number": 268,
       "text": [
        "[{'label': 'mDNS:do_m:ioct:call:SIOC:fail:-:erro:(22):Inva:argu',\n",
        "  'sim': 0.9090909090909091},\n",
        " {'label': 'mDNS:do_m:ioct:call:SIOC:fail:-:erro:(22):Inva:argu',\n",
        "  'sim': 0.9090909090909091},\n",
        " {'label': 'mDNS:do_m:ioct:call:SIOC:fail:-:erro:(22):Inva:argu',\n",
        "  'sim': 0.9090909090909091},\n",
        " {'label': 'mDNS:do_m:ioct:call:SIOC:fail:-:erro:(22):Inva:argu',\n",
        "  'sim': 0.9090909090909091},\n",
        " {'label': 'mDNS:do_m:ioct:call:SIOC:fail:-:erro:(22):Inva:argu',\n",
        "  'sim': 0.9090909090909091}]"
       ]
      }
     ],
     "prompt_number": 268
    },
    {
     "cell_type": "code",
     "collapsed": false,
     "input": [
      "# Note the query object doesn't have all the original features\n",
      "query_item = ['ioctl', 'call', 'SIOCGIFINFO_IN6', 'failed', '-', 'error', '(22)', 'Invalid', 'argument']\n",
      "lsh.top_N(query_item,dataframe['label'], 5)"
     ],
     "language": "python",
     "metadata": {},
     "outputs": [
      {
       "metadata": {},
       "output_type": "pyout",
       "prompt_number": 269,
       "text": [
        "[{'label': 'mDNS:do_m:ioct:call:SIOC:fail:-:erro:(22):Inva:argu',\n",
        "  'sim': 0.8181818181818182},\n",
        " {'label': 'mDNS:do_m:ioct:call:SIOC:fail:-:erro:(22):Inva:argu',\n",
        "  'sim': 0.8181818181818182},\n",
        " {'label': 'mDNS:do_m:ioct:call:SIOC:fail:-:erro:(22):Inva:argu',\n",
        "  'sim': 0.8181818181818182},\n",
        " {'label': 'mDNS:do_m:ioct:call:SIOC:fail:-:erro:(22):Inva:argu',\n",
        "  'sim': 0.8181818181818182},\n",
        " {'label': 'mDNS:do_m:ioct:call:SIOC:fail:-:erro:(22):Inva:argu',\n",
        "  'sim': 0.8181818181818182}]"
       ]
      }
     ],
     "prompt_number": 269
    },
    {
     "cell_type": "markdown",
     "metadata": {},
     "source": [
      "<div style=\"float: right; margin: 20px 20px 20px 20px\"><img src=\"files/images/agg.jpg\" style=\"margin: 10px\"></div>\n",
      "### Hierarchical Clustering \n",
      "Now we can use those similarities as the basis of a Hierarchical Clustering Algorithm. Single-linkage clustering is one of several methods for agglomerative hierarchical clustering. The image on the right is an example of how this works. \n",
      "\n",
      "We're using a bottom up method (image is flipped :), you simply sort the similarities and start building your tree from the bottom. If B and C are the most similar you link them, then D/E and so on until you complete the tree. The devil is **definitely** in the details on the implementation of this, so luckily we have a python class that does it for us."
     ]
    },
    {
     "cell_type": "code",
     "collapsed": false,
     "input": [
      "# A simple example for illustration\n",
      "reload(hcluster)\n",
      "import hcluster\n",
      "\n",
      "toy_data = [['a','b','c','d'],['a','b','d'],['a','b','e','d'],['a','b','f'],\n",
      "            ['w','x','y','z'],['x','y','z'],['w','x','q','z','y'],\n",
      "            ['r','s','t'],['u','s','t']]\n",
      "\n",
      "toy_lsh = lsh_sims.LSHSimilarities(toy_data, mh_params=params)\n",
      "toy_sims = toy_lsh.batch_compute_similarities(distance_metric='jaccard', threshold=.2)\n",
      "    \n",
      "# Compute a hierarchical clustering from the similarity list\n",
      "toy_h_clustering = hcluster.HCluster()\n",
      "toy_h_clustering.set_sim_method(toy_lsh.jaccard_sim)\n",
      "toy_h_graph, toy_h_tree = toy_h_clustering.sims_to_hcluster(toy_sims, toy_data)\n",
      "\n",
      "# Plot the hierarchical tree\n",
      "toy_h_clustering.plot_htree(toy_h_tree, prog='dot')\n"
     ],
     "language": "python",
     "metadata": {},
     "outputs": [
      {
       "output_type": "stream",
       "stream": "stdout",
       "text": [
        "Adding 9 samples to minhash...\n",
        "Adding 9 samples to minhash...\n",
        "Computing All Candidate Matches...\n",
        "\tComputing All to All Candidates Matches...\n",
        "\t\tCollapsing Candidate Pairs...\n",
        "10 (12.35% out of 81) pairs returned from MinHash\n",
        "LSH: 10 matches out of 10 candidates (adjust parameters if needed)\n",
        "set(['a', 'b'])\n",
        "set(['y', 'x', 'z'])\n",
        "set(['s', 't'])\n",
        "Computing similarity on 3 exemplars\n",
        "Created exemplar set (3)\n",
        "Sorting 2 exemplar sim\n",
        "Wiring up 0 exemplar sims\n",
        "Computing Maximal Spanning Tree...\n",
        "Adding labels to graph...\n",
        "Root node = Root\n"
       ]
      }
     ],
     "prompt_number": 270
    },
    {
     "cell_type": "code",
     "collapsed": false,
     "input": [
      "# Now we'll do the same thing for our syslog data\n",
      "\n",
      "# Compute a hierarchical clustering from the similarity list\n",
      "h_clustering = hcluster.HCluster()\n",
      "h_clustering.set_sim_method(lsh.jaccard_sim)\n",
      "h_graph, h_tree = h_clustering.sims_to_hcluster(sims, dataframe['features'], \n",
      "                                                dataframe['label'],agg_sim=.4)"
     ],
     "language": "python",
     "metadata": {},
     "outputs": [
      {
       "output_type": "stream",
       "stream": "stdout",
       "text": [
        "set([''])\n",
        "set(['kern'])\n",
        "set(['Goog', '-[KS'])\n",
        "set(['', 'tid', 'iTun', '-'])\n",
        "set([''])\n",
        "set(['iTun', 'mux-', 'Ente'])\n",
        "set(['loca', 'NOTI'])\n",
        "set(['netw', 'chan'])\n",
        "set(['dige'])\n",
        "set(['Goog', 'kern', '(pid', 'time', 'Chro', 'noti', 'He)', 'PM'])\n",
        "set(['Goog', '-[KS', 'KSUp', 'upda'])\n",
        "set(['Disp', 'boun', '0)[1', '0x00', 'mask', '1', 'mode', 'avai', 'x', 'GL', 'Wind', '1],'])\n",
        "set(['mDNS', 'erro', '(22)', 'do_m', '-', 'ioct', 'argu', 'call', 'fail', 'SIOC', 'Inva'])\n",
        "set(['Code', 'Erro', 'Doma', 'User', '{NSU', '\"The', 'NSEr', 'NSLo'])\n",
        "set(['Goog', '[com', 'for', '-[KS', 'whil', 'fetc', 'time', 'wait'])\n",
        "set(['Goog', '-[Ke'])\n",
        "set(['not', 'to', 'devi', 'conn'])\n",
        "set(['righ', 'for', \"'/Sy\", 'auth', 'Succ', 'clie', '(100', 'com.', 'crea', 'by'])\n",
        "set(['kern', 'act', 'spec', 'inac'])\n",
        "set(['dst=', 'NFC', 'kDPP', '-', 'kern', 'Init', 'Appl', 'int=', '[src', 'Cred'])\n",
        "set(['ERRO', 'MDCr', './Di', 'at', 'remo', 'not', 'path', 'copy', 'Coul'])\n",
        "set(['CS_V', 'CODE', 'SIGN', 'kern', 'clea', 'cs_i'])\n",
        "set(['1.00', 'them', 'forc', 'seco', 're-e', 'appl', 'UI', 'Wind', 'were', 'by', 'upda'])\n",
        "set(['Sess', 'com.'])\n",
        "set(['devi', 'for', '0x2d', 'com.'])\n",
        "set(['Disp', '0x04', 'Mapp', 'Wind', 'Unit'])\n",
        "set(['for', 'No'])\n",
        "set(['and', 'late', 'is', 'in', 'WARN', 'inst', '***', 'depr'])\n",
        "set(['serv', 'loca', 'devi', 'one', 'defa', 'so', 'HALD', 'pick', 'the'])\n",
        "set(['in'])\n",
        "set(['fail', '(44e', 'boot', 'time'])\n",
        "set(['', 'RTC', 'Slee', 'kern', 'slee', '2013'])\n",
        "set(['on', 'asso', '_doA', 'Bail', 'airp', 'to', 'auto', 'Alre'])\n",
        "set(['kern', 'Wake', 'reas'])\n",
        "set(['', '\"Sky', '0x28', 'from', 'for', '(CID', 'type', 'PID', 'repl', '7667', 'Time', 'post', 'out', 'noti', 'Wind', 'wait'])\n",
        "set(['', 'icha', 'for', '_inc', 'Mess', '-[Ch', '[War', '_loa', 'nil', 'call', 'url', 'with'])\n",
        "set(['IOPP', '(rou', 'last', 'aver', 'kern', '0', 'Sent', 'time', 'weig', '0)', 'valu'])\n",
        "set(['19', 'devi', 'kern', 'PCI', 'conf', '[', ']', 'end,', 'brid'])\n",
        "set(['a', '1', 'USB', 'Hub', 'may', 'of', 'devi', '0x40', '(Por', 'wake', 'issu', 'have', 'remo', 'kern', 'The', 'caus', 'by', 'at'])\n",
        "set(['', '0x00', 'TBT', 'kern', '(2)', 'W', '['])\n",
        "set(['oper', 'be', 'comp', 'Oper', 'retu', 'time', 'The', 'Subm', 'CFRe', 'coul', 'out'])\n",
        "set(['cont', '1,', '<dic', '0x7f', 'com.', 'fail', '{', 'Subm', '=', '<OS_', 'coun'])\n",
        "set(['no', 'requ', 'devi', 'Hand', 'to', 'Clie', 'atta', 'com.', 'fail', 'such', '0x10'])\n",
        "set(['Inte', 'is', 'seco', '(spe', 'com.', 'valu'])\n",
        "set(['iden', 'bund', '\"/Li', 'Syst', 'is', 'Pref', 'miss'])\n",
        "set(['core', 'shot', 'auto', 'is', 'stac', 'IO', 'beca', 'audi'])\n",
        "set(['sett', 'to', 'host', 'conf'])\n",
        "set(['', '00', 'wl0', 'bssi', 'chan', 'kern', 'Roam', 'swit', 'or', '#2,', 'reas'])\n",
        "set(['scal', 'tsc', 'rest', '0x12', 'kern', 'ms,', 'time', '0x62'])\n",
        "set(['@', 'bitm', '0x3f', 'kern', 'writ', 'prev', 'page'])\n",
        "set(['stat', 'imag', 'next', 'kern', 'hibe', 'conf', '2,', 'was', 'sum', 'page'])\n",
        "set(['comp', 'time', 'cryp', 'sum2', 'kern', 'hibe', 'ms,', 'ms', 'Mb/s', 'byte', 'page'])\n",
        "set(['disp', 'on', 'Set', '0x04', 'devi', 'isBa', 'flip', 'up', 'numD', '3', '1', 'mode', 'numC', '0x10', 'MPAc', 'page', 'Wind'])\n",
        "set(['sand', 'rpcs', 'succ', 'com.'])\n",
        "set(['Syst', 'Pref', 'ERRO', 'file', '****'])\n",
        "set(['kern', '0xff', 'hibe', '0)', 'star'])\n",
        "set(['leng', 'bina', 'of', '-', 'rece', 'kern', 'Appl', 'mode', 'in', 'not', 'path', 'data', 'pack'])\n",
        "set(['kern', 'hibe', 'imag'])\n",
        "set(['Disp', 'Wind'])\n",
        "set(['', 'offs', 'cont', 'glID', 'Pape', '--Im', 'an', 'Erro', 'retu', '506', 'erro', '(sub', 'glPi', 'upda'])\n",
        "Computing similarity on 60 exemplars\n",
        "Created exemplar set (60)\n",
        "Sorting 59 exemplar sim\n",
        "Wiring up 8 exemplar sims\n",
        "Computing Maximal Spanning Tree...\n"
       ]
      }
     ],
     "prompt_number": 279
    },
    {
     "cell_type": "code",
     "collapsed": false,
     "input": [
      "# Flipping pylab out of inline mode so we can have a GUI zoom/pan for\n",
      "# our plot, you can do %pylab inline to return to inline plot mode.\n",
      "%pylab osx"
     ],
     "language": "python",
     "metadata": {},
     "outputs": [
      {
       "output_type": "stream",
       "stream": "stdout",
       "text": [
        "Populating the interactive namespace from numpy and matplotlib\n"
       ]
      }
     ],
     "prompt_number": 277
    },
    {
     "cell_type": "code",
     "collapsed": false,
     "input": [
      "# Plot the hierarchical tree\n",
      "h_clustering.plot_htree(h_tree, node_size=100,figsize=(20,12))"
     ],
     "language": "python",
     "metadata": {},
     "outputs": [
      {
       "output_type": "stream",
       "stream": "stdout",
       "text": [
        "Adding labels to graph...\n",
        "Root node = 486_2988_2781_2782_1169_2968_266_1322_597_650_1805_1843_1222_1223_1710_1711_1289_1290\n"
       ]
      }
     ],
     "prompt_number": 273
    },
    {
     "cell_type": "code",
     "collapsed": false,
     "input": [
      "%pylab inline\n",
      "# Here's an image for those folks not looking at it interactively"
     ],
     "language": "python",
     "metadata": {},
     "outputs": [
      {
       "output_type": "stream",
       "stream": "stdout",
       "text": [
        "Populating the interactive namespace from numpy and matplotlib\n"
       ]
      }
     ],
     "prompt_number": 274
    },
    {
     "cell_type": "markdown",
     "metadata": {},
     "source": [
      "<img src=\"files/images/h_cluster.png\">"
     ]
    },
    {
     "cell_type": "code",
     "collapsed": false,
     "input": [
      "# Even better save the graph out to json format and visualize it with D3 (D3js.org)\n",
      "import networkx.readwrite.json_graph\n",
      "import json\n",
      "graph_json = networkx.readwrite.json_graph.tree_data(h_tree, root='Root')\n",
      "json.dump(graph_json, open('h_tree.json','w'))"
     ],
     "language": "python",
     "metadata": {},
     "outputs": [],
     "prompt_number": 280
    },
    {
     "cell_type": "markdown",
     "metadata": {},
     "source": [
      "### ToDo\n",
      "Really want to do an interactive D3 based Hierarchical Tree Visualization [D3 Data Driven Documents](http://d3js.org)\n",
      "\n",
      "### Conclusions\n",
      "We pulled in some syslog data into a Pandas dataframe, made some plots, computed row similarities with 'Banded MinHash' and used single-linkage clustering to build an agglomerative hierarchical cluster. Lots of possibilities from here, you could use just the LSH datastructure or the H-Cluster...\n",
      "\n",
      "  - LogFile Viewer\n",
      "    - Click on a row, filter out everything that's similar\n",
      "    - Click on a row, color code all the other rows based on similarity\n",
      "  - Super fancy D3 zoom in/filter awesomeness..."
     ]
    },
    {
     "cell_type": "code",
     "collapsed": false,
     "input": [],
     "language": "python",
     "metadata": {},
     "outputs": []
    }
   ],
   "metadata": {}
  }
 ]
}