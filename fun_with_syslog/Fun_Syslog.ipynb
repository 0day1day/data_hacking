{
 "metadata": {
  "name": ""
 },
 "nbformat": 3,
 "nbformat_minor": 0,
 "worksheets": [
  {
   "cells": [
    {
     "cell_type": "markdown",
     "metadata": {},
     "source": [
      "## Having Fun with Syslog.\n",
      "<div style=\"float: right;\"> <figure style=\"margin:0px 0px 0px 10px; padding:0\">\n",
      "<img src=\"http://www.sharielf.com/gifs/zz032411pony.jpg\" width=\"150px\">\n",
      "<figcaption>Shari Elf: www.sharielf.com</figcaption>\n",
      "</figure></div>\n",
      "In the next exercise we're going look at some syslog data. We'll take it up a notch by computing similarities with 'Banded MinHash' and running a hierarchical clustering algorithm.\n",
      "\n",
      "Systems logs are particularly challenging because they often lack any kind of structure as all. For this exercise we're going to be looking at the /var/log/system.log of a typical Mac OSX Laptop. The first steps will be standard data inspection and plots, after that we'll pull out the big guns!"
     ]
    },
    {
     "cell_type": "code",
     "collapsed": false,
     "input": [
      "# This exercise is mostly for us to understand what kind of data we have and then\n",
      "# run some simple stats on the fields/values in the data. Pandas will be great for that\n",
      "import pandas as pd\n",
      "pd.__version__"
     ],
     "language": "python",
     "metadata": {},
     "outputs": [
      {
       "metadata": {},
       "output_type": "pyout",
       "prompt_number": 2,
       "text": [
        "'0.12.0'"
       ]
      }
     ],
     "prompt_number": 2
    },
    {
     "cell_type": "code",
     "collapsed": false,
     "input": [
      "# Set default figure sizes\n",
      "pylab.rcParams['figure.figsize'] = (16.0, 5.0)"
     ],
     "language": "python",
     "metadata": {},
     "outputs": [],
     "prompt_number": 3
    },
    {
     "cell_type": "code",
     "collapsed": false,
     "input": [
      "# Lets take a peek at our system.log, with iPython you\n",
      "# can execute system commands with '!' (also see %alias)"
     ],
     "language": "python",
     "metadata": {},
     "outputs": [],
     "prompt_number": 4
    },
    {
     "cell_type": "code",
     "collapsed": false,
     "input": [
      "!head /var/log/system.log"
     ],
     "language": "python",
     "metadata": {},
     "outputs": [
      {
       "output_type": "stream",
       "stream": "stdout",
       "text": [
        "Nov  7 00:55:33 voltron kernel[0]: Wake reason: RTC (Alarm)\r\n",
        "Nov  7 00:55:33 voltron kernel[0]: RTC: SleepService 2013/11/7 07:55:31, sleep 2013/11/7 06:55:37\r\n",
        "Nov  7 00:55:33 voltron kernel[0]: AirPort_Brcm43xx::powerChange: System Wake - Full Wake/ Dark Wake / Maintenance wake\r\n",
        "Nov  7 00:55:33 voltron kernel[0]: Previous Sleep Cause: 5\r\n",
        "Nov  7 00:55:33 voltron kernel[0]: [ PCI configuration begin ]\r\n",
        "Nov  7 00:55:33 voltron kernel[0]: [ PCI configuration end, bridges 20, devices 19 ]\r\n",
        "Nov  7 00:55:33 voltron.hsd1.nm.comcast.net com.apple.usbmuxd[9077]: DeviceRequestAsync failed: 0xe0004057\r\n",
        "Nov  7 00:55:33 voltron.hsd1.nm.comcast.net coreaudiod[538]: 2013-11-06 11:55:38.638974 PM [AsyncConnection] ### Connect 1 to 192.168.1.122:1024 failed: 50/0x32 ENETDOWN\r\n",
        "Nov  7 00:55:33 voltron kernel[0]: wlEvent: en0 en0 Link DOWN virtIf = 0\r\n",
        "Nov  7 00:55:33 voltron kernel[0]: AirPort: Link Down on en0. Reason 8 (Disassociated because station leaving).\r\n"
       ]
      }
     ],
     "prompt_number": 5
    },
    {
     "cell_type": "code",
     "collapsed": false,
     "input": [
      "# Okay so weird timestamp, machine name and then random stuff...\n",
      "import dateutil.parser"
     ],
     "language": "python",
     "metadata": {},
     "outputs": [],
     "prompt_number": 6
    },
    {
     "cell_type": "code",
     "collapsed": false,
     "input": [
      "# Helper function to make compact, composite labels for the syslog rows\n",
      "def make_label(features):\n",
      "    return unicode(':'.join([f[:6] for f in features]), 'utf-8').encode('ascii','ignore')\n",
      "\n",
      "# Now process the syslog file, part of the challenge is parsing the darn thing.\n",
      "# Typically each row in a syslog will have a timestamp first and then some random\n",
      "# set of other fields split on whitespace. We're going to carefully pull out the\n",
      "# timestamp but then just treat everything else as bag of tokens (sparse data).\n",
      "date_index = []\n",
      "with open('/var/log/system.log') as syslog:\n",
      "    syslog_rows = syslog.readlines()\n",
      "    syslog_events = []\n",
      "    for row in syslog_rows:\n",
      "        split_list = row.split()\n",
      "        date_string = ' '.join(split_list[:3])\n",
      "        try:\n",
      "            if (not date_string): continue\n",
      "            date = dateutil.parser.parse(date_string)\n",
      "        except ValueError:\n",
      "            continue # Going to skip rows where we can't get a timestamp\n",
      "        features = split_list[4:]\n",
      "        syslog_events.append({'features': features, 'label': make_label(features), 'type': features[0].split('[')[0]})\n",
      "        date_index.append(date)\n",
      "    dataframe = pd.DataFrame(syslog_events, index=date_index)"
     ],
     "language": "python",
     "metadata": {},
     "outputs": [],
     "prompt_number": 7
    },
    {
     "cell_type": "code",
     "collapsed": false,
     "input": [
      "# Make sure our timestamp got pulled/parsed/converted correctly\n",
      "type(dataframe.index[0])"
     ],
     "language": "python",
     "metadata": {},
     "outputs": [
      {
       "metadata": {},
       "output_type": "pyout",
       "prompt_number": 8,
       "text": [
        "pandas.tslib.Timestamp"
       ]
      }
     ],
     "prompt_number": 8
    },
    {
     "cell_type": "code",
     "collapsed": false,
     "input": [
      "dataframe.head(5)\n",
      "\n",
      "# So what do we have? Datetime is our index, features is just the \n",
      "# syslog row split by whitespace and placed into a list. The label\n",
      "# is just the features (truncated) and flattened with : separators.\n",
      "# 'type' is just the syslog identifier right after the datetime and machine.\n",
      "# Note: The parsing of the syslog is more art than science and syslogs\n",
      "#       can vary greatly, but we haven't done any super magic here,\n",
      "#       just basically thrown the row data into some bins..."
     ],
     "language": "python",
     "metadata": {},
     "outputs": [
      {
       "html": [
        "<div style=\"max-height:1000px;max-width:1500px;overflow:auto;\">\n",
        "<table border=\"1\" class=\"dataframe\">\n",
        "  <thead>\n",
        "    <tr style=\"text-align: right;\">\n",
        "      <th></th>\n",
        "      <th>features</th>\n",
        "      <th>label</th>\n",
        "      <th>type</th>\n",
        "    </tr>\n",
        "  </thead>\n",
        "  <tbody>\n",
        "    <tr>\n",
        "      <th>2013-11-07 00:55:33</th>\n",
        "      <td>         [kernel[0]:, Wake, reason:, RTC, (Alarm)]</td>\n",
        "      <td>                     kernel:Wake:reason:RTC:(Alarm</td>\n",
        "      <td> kernel</td>\n",
        "    </tr>\n",
        "    <tr>\n",
        "      <th>2013-11-07 00:55:33</th>\n",
        "      <td> [kernel[0]:, RTC:, SleepService, 2013/11/7, 07...</td>\n",
        "      <td> kernel:RTC::SleepS:2013/1:07:55::sleep:2013/1:...</td>\n",
        "      <td> kernel</td>\n",
        "    </tr>\n",
        "    <tr>\n",
        "      <th>2013-11-07 00:55:33</th>\n",
        "      <td> [kernel[0]:, AirPort_Brcm43xx::powerChange:, S...</td>\n",
        "      <td> kernel:AirPor:System:Wake:-:Full:Wake/:Dark:Wa...</td>\n",
        "      <td> kernel</td>\n",
        "    </tr>\n",
        "    <tr>\n",
        "      <th>2013-11-07 00:55:33</th>\n",
        "      <td>          [kernel[0]:, Previous, Sleep, Cause:, 5]</td>\n",
        "      <td>                      kernel:Previo:Sleep:Cause::5</td>\n",
        "      <td> kernel</td>\n",
        "    </tr>\n",
        "    <tr>\n",
        "      <th>2013-11-07 00:55:33</th>\n",
        "      <td>     [kernel[0]:, [, PCI, configuration, begin, ]]</td>\n",
        "      <td>                       kernel:[:PCI:config:begin:]</td>\n",
        "      <td> kernel</td>\n",
        "    </tr>\n",
        "  </tbody>\n",
        "</table>\n",
        "</div>"
       ],
       "metadata": {},
       "output_type": "pyout",
       "prompt_number": 9,
       "text": [
        "                                                              features  \\\n",
        "2013-11-07 00:55:33          [kernel[0]:, Wake, reason:, RTC, (Alarm)]   \n",
        "2013-11-07 00:55:33  [kernel[0]:, RTC:, SleepService, 2013/11/7, 07...   \n",
        "2013-11-07 00:55:33  [kernel[0]:, AirPort_Brcm43xx::powerChange:, S...   \n",
        "2013-11-07 00:55:33           [kernel[0]:, Previous, Sleep, Cause:, 5]   \n",
        "2013-11-07 00:55:33      [kernel[0]:, [, PCI, configuration, begin, ]]   \n",
        "\n",
        "                                                                 label    type  \n",
        "2013-11-07 00:55:33                      kernel:Wake:reason:RTC:(Alarm  kernel  \n",
        "2013-11-07 00:55:33  kernel:RTC::SleepS:2013/1:07:55::sleep:2013/1:...  kernel  \n",
        "2013-11-07 00:55:33  kernel:AirPor:System:Wake:-:Full:Wake/:Dark:Wa...  kernel  \n",
        "2013-11-07 00:55:33                       kernel:Previo:Sleep:Cause::5  kernel  \n",
        "2013-11-07 00:55:33                        kernel:[:PCI:config:begin:]  kernel  "
       ]
      }
     ],
     "prompt_number": 9
    },
    {
     "cell_type": "code",
     "collapsed": false,
     "input": [
      "dataframe.tail(5)"
     ],
     "language": "python",
     "metadata": {},
     "outputs": [
      {
       "html": [
        "<div style=\"max-height:1000px;max-width:1500px;overflow:auto;\">\n",
        "<table border=\"1\" class=\"dataframe\">\n",
        "  <thead>\n",
        "    <tr style=\"text-align: right;\">\n",
        "      <th></th>\n",
        "      <th>features</th>\n",
        "      <th>label</th>\n",
        "      <th>type</th>\n",
        "    </tr>\n",
        "  </thead>\n",
        "  <tbody>\n",
        "    <tr>\n",
        "      <th>2013-11-07 14:54:28</th>\n",
        "      <td>         [last, message, repeated, 24, times, ---]</td>\n",
        "      <td>                   last:messag:repeat:24:times:---</td>\n",
        "      <td>     last</td>\n",
        "    </tr>\n",
        "    <tr>\n",
        "      <th>2013-11-07 14:54:28</th>\n",
        "      <td> [kernel[0]:, SMC::smcReadKeyAction, ERROR, TC0...</td>\n",
        "      <td>            kernel:SMC::s:ERROR:TC0D:kSMCBa:fKeyHa</td>\n",
        "      <td>   kernel</td>\n",
        "    </tr>\n",
        "    <tr>\n",
        "      <th>2013-11-07 14:54:46</th>\n",
        "      <td>         [last, message, repeated, 14, times, ---]</td>\n",
        "      <td>                   last:messag:repeat:14:times:---</td>\n",
        "      <td>     last</td>\n",
        "    </tr>\n",
        "    <tr>\n",
        "      <th>2013-11-07 14:54:46</th>\n",
        "      <td> [spindump[11617]:, Python, [11606], didn't, ga...</td>\n",
        "      <td> spindu:Python:[11606:didn't:gather:any:sample:...</td>\n",
        "      <td> spindump</td>\n",
        "    </tr>\n",
        "    <tr>\n",
        "      <th>2013-11-07 14:54:46</th>\n",
        "      <td> [kernel[0]:, SMC::smcReadKeyAction, ERROR, TC0...</td>\n",
        "      <td>            kernel:SMC::s:ERROR:TC0D:kSMCBa:fKeyHa</td>\n",
        "      <td>   kernel</td>\n",
        "    </tr>\n",
        "  </tbody>\n",
        "</table>\n",
        "</div>"
       ],
       "metadata": {},
       "output_type": "pyout",
       "prompt_number": 10,
       "text": [
        "                                                              features  \\\n",
        "2013-11-07 14:54:28          [last, message, repeated, 24, times, ---]   \n",
        "2013-11-07 14:54:28  [kernel[0]:, SMC::smcReadKeyAction, ERROR, TC0...   \n",
        "2013-11-07 14:54:46          [last, message, repeated, 14, times, ---]   \n",
        "2013-11-07 14:54:46  [spindump[11617]:, Python, [11606], didn't, ga...   \n",
        "2013-11-07 14:54:46  [kernel[0]:, SMC::smcReadKeyAction, ERROR, TC0...   \n",
        "\n",
        "                                                                 label  \\\n",
        "2013-11-07 14:54:28                    last:messag:repeat:24:times:---   \n",
        "2013-11-07 14:54:28             kernel:SMC::s:ERROR:TC0D:kSMCBa:fKeyHa   \n",
        "2013-11-07 14:54:46                    last:messag:repeat:14:times:---   \n",
        "2013-11-07 14:54:46  spindu:Python:[11606:didn't:gather:any:sample:...   \n",
        "2013-11-07 14:54:46             kernel:SMC::s:ERROR:TC0D:kSMCBa:fKeyHa   \n",
        "\n",
        "                         type  \n",
        "2013-11-07 14:54:28      last  \n",
        "2013-11-07 14:54:28    kernel  \n",
        "2013-11-07 14:54:46      last  \n",
        "2013-11-07 14:54:46  spindump  \n",
        "2013-11-07 14:54:46    kernel  "
       ]
      }
     ],
     "prompt_number": 10
    },
    {
     "cell_type": "code",
     "collapsed": false,
     "input": [
      "# We can get a count of all the unique values by running value_counts()\n",
      "dataframe['label'].value_counts()\n",
      "\n",
      "# Okay the breakout below gives us a sense for our challenge..."
     ],
     "language": "python",
     "metadata": {},
     "outputs": [
      {
       "metadata": {},
       "output_type": "pyout",
       "prompt_number": 11,
       "text": [
        "kernel:SMC::s:ERROR:TC0D:kSMCBa:fKeyHa                          777\n",
        "last:messag:repeat:24:times:---                                 566\n",
        "last:messag:repeat:1:time:---                                    53\n",
        "Google:Chrome:Helper:Intern:of:CFAllo:not:known;:out-of:failur:via:CFAllo:will:not:result:in:termin:http:/     46\n",
        "Google:Chrome:Helper:Proces:unable:to:create:connec:becaus:the:sandbo:denied:the:right:to:lookup:com.ap:and:so:this:proces:cannot:talk:to:launch:::LSXPCC:#426:___ZN2:q=com.     39\n",
        "Google:Chrome:Helper:CGSLoo:Failed:to:look:up:the:port:for:\"com.a:(1100)     39\n",
        "Google:Chrome:Helper:Proces:unable:to:create:connec:becaus:the:sandbo:denied:the:right:to:lookup:com.ap:and:so:this:proces:cannot:talk:to:launch     39\n",
        "Dock[5:uuid_c:failed:to:retrie:UUID:for:displa:0x0424:(1001):(invar:failur     34\n",
        "Dock[5:CGSCop:Invali:displa:0x0424                               34\n",
        "config:networ:change:v4(en0:v6(en0:DNS!:Proxy:SMB                31\n",
        "Google:Chrome:Helper:CoreTe:CopyFo:receiv:mig:IPC:error:(FFFFF:from:font:server     21\n",
        "last:messag:repeat:2:times:---                                   19\n",
        "last:messag:repeat:3:times:---                                   19\n",
        "Things:networ:reacha:has:change:not:reacha                       18\n",
        "Things:networ:reacha:has:change:reacha                           17\n",
        "...\n",
        "AirPla:2013-1:09:38::AM:[AirPl:Ignori:route:away:when:AirPla:not:curren    1\n",
        "kernel:RTC::SleepS:2013/1:12:59::sleep:2013/1:11:59:            1\n",
        "com.ap:main:Failed:to:compos:image:for:bindin:Varian:[0x277:flags::0x8:bindin:FileIn:[0x119:-:extens:xhtml,:UTI::public:fileTy:????.    1\n",
        "login[:USER_P:9996:tty??                                        1\n",
        "kernel:FireWi:(OHCI):Lucent:ID:5901:PCI:now:active:GUID:000a27:max:speed:s800.    1\n",
        "AirPla:2013-1:07:07::AM:[AirPl:AirPla:became:the:defaul:audio:device    1\n",
        "ntpd[1:freque:error:-544:PPM:exceed:tolera:500:PPM              1\n",
        "Skype[:***:State:restor:failed:on:<QCPat:=:0x157d:\"(null        1\n",
        "com.ap:Bogus:event:receiv:by:listen:connec                      1\n",
        "quickl:Warnin:Cache:image:return:by:the:server:has:size:range:coveri:all:valid:image:sizes.:Bindin:Varian:[0x403:flags::0x8:bindin:FileIn:[0x303:-:extens:py,:UTI::public:fileTy:????:reques:size:1:scale::1    1\n",
        "kernel:full:wake:(reaso:1):106:ms                               1\n",
        "Window:Found:1:modes:for:displa:0x0424:[1,:0]                   1\n",
        "login[:USER_P:10379:ttys00                                      1\n",
        "coreau:2013-1:09:38::AM:[AirPl:###:Stop:taking:too:long..:asynch    1\n",
        "1Passw:Databa:(AGHtm:load:time:[NSOpe:0.008+:(65:object         1\n",
        "Length: 417, dtype: int64"
       ]
      }
     ],
     "prompt_number": 11
    },
    {
     "cell_type": "code",
     "collapsed": false,
     "input": [
      "# Realize that we don't want the 'last message' events\n",
      "dataframe = dataframe[dataframe['type'] != 'last']"
     ],
     "language": "python",
     "metadata": {},
     "outputs": [],
     "prompt_number": 12
    },
    {
     "cell_type": "markdown",
     "metadata": {},
     "source": [
      "### Lets do standard histogram and event volume over time plots"
     ]
    },
    {
     "cell_type": "code",
     "collapsed": false,
     "input": [
      "# Now prepare the data for plotting by pivoting on the \n",
      "# feature to create a new column (series) for each value\n",
      "\n",
      "# Only pull out the top 7 syslog event types\n",
      "topN = dataframe['type'].value_counts()[:7].index\n",
      "subset = dataframe[dataframe['type'].isin(topN)]\n",
      "print 'Subset: %d rows %d columns' % subset.shape\n",
      "\n",
      "# We're going to add a new column called value (needed for pivot). This\n",
      "# is a bit dorky, but needed as the new columns that get created should\n",
      "# really have a value in them, also we can use this as our value to sum over.\n",
      "subset['count'] = 1\n",
      "pivot = pd.pivot_table(subset, values='count', rows=subset.index, cols=['type'], fill_value=.01)\n",
      "by = lambda x: lambda y: getattr(y, x)\n",
      "grouped = pivot.groupby([by('hour')]).sum()\n",
      "grouped.plot(kind='bar', stacked=True)\n",
      "grouped.plot()"
     ],
     "language": "python",
     "metadata": {},
     "outputs": [
      {
       "output_type": "stream",
       "stream": "stdout",
       "text": [
        "Subset: 1882 rows 3 columns\n"
       ]
      },
      {
       "metadata": {},
       "output_type": "pyout",
       "prompt_number": 13,
       "text": [
        "<matplotlib.axes.AxesSubplot at 0x10f41b590>"
       ]
      },
      {
       "metadata": {},
       "output_type": "display_data",
       "png": "[encoded data removed]",
       "text": [
        "<matplotlib.figure.Figure at 0x10f369410>"
       ]
      },
      {
       "metadata": {},
       "output_type": "display_data",
       "png": "[encoded data removed]",
       "text": [
        "<matplotlib.figure.Figure at 0x10f41ea50>"
       ]
      }
     ],
     "prompt_number": 13
    },
    {
     "cell_type": "markdown",
     "metadata": {},
     "source": [
      "<div style=\"float: right; margin: 20px 20px 150px 20px\"><img src=\"files/images/spice_weasel.jpg\" width=\"300px\" style=\"margin: 10px\">\n",
      "<div><span style=\"font-size: 9px;\">\u00a9 Some super nice person who's not going to sue me</span></div></div>\n",
      "#### Well besides learning we have lots of kernel syslog messages, kinda boring...<br><br>So, lets take is up a notch with the good 'ol spice weasel! Bam!\n",
      "1. **Compute similarities between all rows within the system log using LSH**\n",
      "    Unlike conventional hash functions the goal of LSH (Locality Sensitive Hashing) is to maximize probability of \"collision\" of similar items rather than avoid collisions.\n",
      "    * [MinHash](http://en.wikipedia.org/wiki/MinHash)\n",
      "    * [Locality Sensitive Hashing](http://en.wikipedia.org/wiki/Locality_sensitive_hashing)\n",
      "    * [Mining of Massive Datasets](http://infolab.stanford.edu/~ullman/mmds/ch3.pdf)\n",
      "2. **Use those similarities as the basis of a Hierarchical Clustering Algorithm**\n",
      "    Single-linkage clustering is one of several methods for agglomerative \n",
      "    hierarchical clustering.\n",
      "    - [Single Linkage Clustering](http://en.wikipedia.org/wiki/Single-linkage_clustering)\n",
      "    - [Hierarchical Clustering](http://en.wikipedia.org/wiki/Hierarchical_clustering)\n",
      "    \n",
      "    Other popular online clustering algorithms\n",
      "    - [DBSCAN](http://en.wikipedia.org/wiki/DBSCAN)\n",
      "    - [OPTICS Algorithms](http://en.wikipedia.org/wiki/OPTICS_algorithm)"
     ]
    },
    {
     "cell_type": "code",
     "collapsed": false,
     "input": [
      "# Even for small syslogs the number of similarity pairs to compute quickly\n",
      "# becomes quite large O(N**2), so for 100k rows that's 10 billion possible\n",
      "# pairs. Using Banded MinHash will drastically reduce the number of \n",
      "# candidates that we have to compute.\n",
      "import data_hacking.lsh_sims as lsh_sims\n",
      "\n",
      "# Note: The parameters here are setup for feeding the results into a Hierarchical\n",
      "#       Clustering algorithm, which needs as many similarities as you can get.\n",
      "#       In general you'd parameters like num_hashes:20, lsh_bands:5 lsh_rows:4  \n",
      "#       Note: lsh_bands*lsh_rows ^must^ equal num_hashes\n",
      "params = {'num_hashes':20, 'lsh_bands':20, 'lsh_rows':1, 'drop_duplicates':True}\n",
      "lsh = lsh_sims.LSHSimilarities(dataframe['features'], mh_params=params)\n",
      "sims = lsh.batch_compute_similarities(distance_metric='jaccard', threshold=.2)"
     ],
     "language": "python",
     "metadata": {},
     "outputs": [
      {
       "output_type": "stream",
       "stream": "stdout",
       "text": [
        "Adding 2235 samples to minhash...\n",
        "Adding 2235 samples to minhash..."
       ]
      },
      {
       "output_type": "stream",
       "stream": "stdout",
       "text": [
        "\n",
        "Computing All Candidate Matches...\n",
        "\tComputing All to All Candidates Matches...\n",
        "\t\tCollapsing Candidate Pairs...\n",
        "40554 (0.81% out of 4995225) pairs returned from MinHash"
       ]
      },
      {
       "output_type": "stream",
       "stream": "stdout",
       "text": [
        "\n",
        "LSH: 8164 matches out of 40554 candidates (adjust parameters if needed)"
       ]
      },
      {
       "output_type": "stream",
       "stream": "stdout",
       "text": [
        "\n"
       ]
      }
     ],
     "prompt_number": 14
    },
    {
     "cell_type": "markdown",
     "metadata": {},
     "source": [
      "#### The LSH Sims python class has two distance metrics\n",
      "\n",
      "1) Jaccard Index: a set based distance metric (overlaps in sets of elements)\n",
      "  \n",
      "   - [Jaccard Index](http://en.wikipedia.org/wiki/Jaccard_index)\n",
      "\n",
      "2) Levenshtein Distance: based on the edit distance of the elements (so order matters).\n",
      "  \n",
      "   - [Levenshtein Distance](http://en.wikipedia.org/wiki/Levenshtein_distance)"
     ]
    },
    {
     "cell_type": "code",
     "collapsed": false,
     "input": [
      "# Lets look at the difference between Jaccard Similarity and Levenshtein Similarity\n",
      "# So here similarity is a normalized measure of inverse distance...\n",
      "print 'Jaccard Index (Sim): %f ' % lsh.jaccard_sim(['a','b','c','d'], ['a','b','d','c'])\n",
      "print 'Levenshtein Distance: %f ' % lsh.levenshtein(['a','b','c','d'], ['a','b','d','c'])\n",
      "print 'Levenshtein (Sim): %f ' % lsh.l_sim(['a','b','c','d'], ['a','b','d','c'])"
     ],
     "language": "python",
     "metadata": {},
     "outputs": [
      {
       "output_type": "stream",
       "stream": "stdout",
       "text": [
        "Jaccard Index (Sim): 1.000000 \n",
        "Levenshtein Distance: 2.000000 \n",
        "Levenshtein (Sim): 0.500000 \n"
       ]
      }
     ],
     "prompt_number": 15
    },
    {
     "cell_type": "code",
     "collapsed": false,
     "input": [
      "# One more example for intuition (also note they don't have to be the same size)\n",
      "print 'Jaccard Index (Sim): %f ' % lsh.jaccard_sim(['a','b','c'], ['a','b','c','x'])\n",
      "print 'Levenshtein Distance: %f ' % lsh.levenshtein(['a','b','c'], ['a','b','c','x'])\n",
      "print 'Levenshtein (Sim): %f ' % lsh.l_sim(['a','b','c'], ['a','b','c','x'])"
     ],
     "language": "python",
     "metadata": {},
     "outputs": [
      {
       "output_type": "stream",
       "stream": "stdout",
       "text": [
        "Jaccard Index (Sim): 0.750000 \n",
        "Levenshtein Distance: 1.000000 \n",
        "Levenshtein (Sim): 0.750000 \n"
       ]
      }
     ],
     "prompt_number": 16
    },
    {
     "cell_type": "code",
     "collapsed": false,
     "input": [
      "# Okay now that we have the similarities between all the rows in our syslog\n",
      "# we can start to investigate the results.\n",
      "sims.sort(reverse=True)\n",
      "print '*** Top sims ***'\n",
      "sims[:10]\n",
      "#sims[-10:]"
     ],
     "language": "python",
     "metadata": {},
     "outputs": [
      {
       "output_type": "stream",
       "stream": "stdout",
       "text": [
        "*** Top sims ***\n"
       ]
      },
      {
       "metadata": {},
       "output_type": "pyout",
       "prompt_number": 17,
       "text": [
        "[(1.0, 774, 1952),\n",
        " (0.9629629629629629, 2198, 2222),\n",
        " (0.9629629629629629, 2190, 2222),\n",
        " (0.9629629629629629, 2190, 2198),\n",
        " (0.9629629629629629, 2184, 2222),\n",
        " (0.9629629629629629, 2184, 2198),\n",
        " (0.9629629629629629, 2184, 2190),\n",
        " (0.9629629629629629, 2169, 2222),\n",
        " (0.9629629629629629, 2169, 2198),\n",
        " (0.9629629629629629, 2169, 2190)]"
       ]
      }
     ],
     "prompt_number": 17
    },
    {
     "cell_type": "code",
     "collapsed": false,
     "input": [
      "print dataframe.iloc[2184]['features']"
     ],
     "language": "python",
     "metadata": {},
     "outputs": [
      {
       "output_type": "stream",
       "stream": "stdout",
       "text": [
        "['Google', 'Chrome', 'Helper[11533]:', 'Process', 'unable', 'to', 'create', 'connection', 'because', 'the', 'sandbox', 'denied', 'the', 'right', 'to', 'lookup', 'com.apple.coreservices.launchservicesd', 'and', 'so', 'this', 'process', 'cannot', 'talk', 'to', 'launchservicesd.', ':', 'LSXPCClient.cp', '#426', '___ZN26LSClientToServerConnection21setupServerConnectionEiPK14__CFDictionary_block_invoke()', 'q=com.apple.main-thread']\n"
       ]
      }
     ],
     "prompt_number": 18
    },
    {
     "cell_type": "code",
     "collapsed": false,
     "input": [
      "print dataframe.iloc[2198]['features']"
     ],
     "language": "python",
     "metadata": {},
     "outputs": [
      {
       "output_type": "stream",
       "stream": "stdout",
       "text": [
        "['Google', 'Chrome', 'Helper[11545]:', 'Process', 'unable', 'to', 'create', 'connection', 'because', 'the', 'sandbox', 'denied', 'the', 'right', 'to', 'lookup', 'com.apple.coreservices.launchservicesd', 'and', 'so', 'this', 'process', 'cannot', 'talk', 'to', 'launchservicesd.', ':', 'LSXPCClient.cp', '#426', '___ZN26LSClientToServerConnection21setupServerConnectionEiPK14__CFDictionary_block_invoke()', 'q=com.apple.main-thread']\n"
       ]
      }
     ],
     "prompt_number": 19
    },
    {
     "cell_type": "code",
     "collapsed": false,
     "input": [
      "# The two feature sets should look quite similar (recall that this\n",
      "# is just our syslog row split on white space and thrown into a list)\n",
      "\n",
      "# So now for any row in our syslog we can see what rows are highly\n",
      "# similar to that row.\n",
      "query_item = ['Google', 'Chrome', 'Helper[11545]:', 'Process', 'unable', 'to', 'create', 'connection', 'because', 'the', 'sandbox', 'denied', 'the', 'right', 'to', 'lookup', 'com.apple.coreservices.launchservicesd', 'and', 'so', 'this', 'process', 'cannot', 'talk', 'to', 'launchservicesd.', ':', 'LSXPCClient.cp', '#426', '___ZN26LSClientToServerConnection21setupServerConnectionEiPK14__CFDictionary_block_invoke()', 'q=com.apple.main-thread']\n",
      "lsh.top_N(query_item,dataframe['label'], 5)\n"
     ],
     "language": "python",
     "metadata": {},
     "outputs": [
      {
       "metadata": {},
       "output_type": "pyout",
       "prompt_number": 20,
       "text": [
        "[{'label': 'Google:Chrome:Helper:Proces:unable:to:create:connec:becaus:the:sandbo:denied:the:right:to:lookup:com.ap:and:so:this:proces:cannot:talk:to:launch:::LSXPCC:#426:___ZN2:q=com.',\n",
        "  'sim': 1.0},\n",
        " {'label': 'Google:Chrome:Helper:Proces:unable:to:create:connec:becaus:the:sandbo:denied:the:right:to:lookup:com.ap:and:so:this:proces:cannot:talk:to:launch:::LSXPCC:#426:___ZN2:q=com.',\n",
        "  'sim': 0.9629629629629629},\n",
        " {'label': 'Google:Chrome:Helper:Proces:unable:to:create:connec:becaus:the:sandbo:denied:the:right:to:lookup:com.ap:and:so:this:proces:cannot:talk:to:launch:::LSXPCC:#426:___ZN2:q=com.',\n",
        "  'sim': 0.9629629629629629},\n",
        " {'label': 'Google:Chrome:Helper:Proces:unable:to:create:connec:becaus:the:sandbo:denied:the:right:to:lookup:com.ap:and:so:this:proces:cannot:talk:to:launch:::LSXPCC:#426:___ZN2:q=com.',\n",
        "  'sim': 0.9629629629629629},\n",
        " {'label': 'Google:Chrome:Helper:Proces:unable:to:create:connec:becaus:the:sandbo:denied:the:right:to:lookup:com.ap:and:so:this:proces:cannot:talk:to:launch:::LSXPCC:#426:___ZN2:q=com.',\n",
        "  'sim': 0.9629629629629629}]"
       ]
      }
     ],
     "prompt_number": 20
    },
    {
     "cell_type": "code",
     "collapsed": false,
     "input": [
      "# Note the query object doesn't have all the original features\n",
      "query_item = ['Google', 'Chrome', 'Process', 'unable', 'to', 'sandbox']\n",
      "lsh.top_N(query_item,dataframe['label'], 5)"
     ],
     "language": "python",
     "metadata": {},
     "outputs": [
      {
       "metadata": {},
       "output_type": "pyout",
       "prompt_number": 21,
       "text": [
        "[{'label': 'Google:Chrome:Helper:Proces:unable:to:create:connec:becaus:the:sandbo:denied:the:right:to:lookup:com.ap:and:so:this:proces:cannot:talk:to:launch',\n",
        "  'sim': 0.2727272727272727},\n",
        " {'label': 'Google:Chrome:Helper:Proces:unable:to:create:connec:becaus:the:sandbo:denied:the:right:to:lookup:com.ap:and:so:this:proces:cannot:talk:to:launch',\n",
        "  'sim': 0.2727272727272727},\n",
        " {'label': 'Google:Chrome:Helper:Proces:unable:to:create:connec:becaus:the:sandbo:denied:the:right:to:lookup:com.ap:and:so:this:proces:cannot:talk:to:launch',\n",
        "  'sim': 0.2727272727272727},\n",
        " {'label': 'Google:Chrome:Helper:Proces:unable:to:create:connec:becaus:the:sandbo:denied:the:right:to:lookup:com.ap:and:so:this:proces:cannot:talk:to:launch',\n",
        "  'sim': 0.2727272727272727},\n",
        " {'label': 'Google:Chrome:Helper:Proces:unable:to:create:connec:becaus:the:sandbo:denied:the:right:to:lookup:com.ap:and:so:this:proces:cannot:talk:to:launch',\n",
        "  'sim': 0.2727272727272727}]"
       ]
      }
     ],
     "prompt_number": 21
    },
    {
     "cell_type": "markdown",
     "metadata": {},
     "source": [
      "<div style=\"float: right; margin: 20px 20px 20px 20px\"><img src=\"files/images/agg.jpg\" style=\"margin: 10px\"></div>\n",
      "### Hierarchical Clustering \n",
      "Now we can use those similarities as the basis of a Hierarchical Clustering Algorithm. Single-linkage clustering is one of several methods for agglomerative hierarchical clustering. The image on the right is an example of how this works. \n",
      "\n",
      "We're using a bottom up method (image is flipped :), you simply sort the similarities and start building your tree from the bottom. If B and C are the most similar you link them, then D/E and so on until you complete the tree. The devil is **definitely** in the details on the implementation of this, so luckily we have a python class that does it for us."
     ]
    },
    {
     "cell_type": "code",
     "collapsed": false,
     "input": [
      "# A simple example for illustration\n",
      "import data_hacking.hcluster as hcluster\n",
      "\n",
      "toy_data = [['a','b','c','d'],['a','b','d'],['a','b','e','d'],['a','b','f'],\n",
      "            ['w','x','y','z'],['x','y','z'],['w','x','q','z','y'],\n",
      "            ['r','s','t'],['u','s','t']]\n",
      "\n",
      "toy_lsh = lsh_sims.LSHSimilarities(toy_data, mh_params=params)\n",
      "toy_sims = toy_lsh.batch_compute_similarities(distance_metric='jaccard', threshold=.2)\n",
      "    \n",
      "# Compute a hierarchical clustering from the similarity list\n",
      "toy_h_clustering = hcluster.HCluster()\n",
      "toy_h_clustering.set_sim_method(toy_lsh.jaccard_sim)\n",
      "toy_h_graph, toy_h_tree = toy_h_clustering.sims_to_hcluster(toy_sims, toy_data)\n",
      "\n",
      "# Plot the hierarchical tree\n",
      "toy_h_clustering.plot_htree(toy_h_tree, prog='dot')\n"
     ],
     "language": "python",
     "metadata": {},
     "outputs": [
      {
       "output_type": "stream",
       "stream": "stdout",
       "text": [
        "Adding 9 samples to minhash...\n",
        "Adding 9 samples to minhash...\n",
        "Computing All Candidate Matches...\n",
        "\tComputing All to All Candidates Matches...\n",
        "\t\tCollapsing Candidate Pairs...\n",
        "10 (12.35% out of 81) pairs returned from MinHash\n",
        "LSH: 10 matches out of 10 candidates (adjust parameters if needed)\n",
        "set(['a', 'b'])\n",
        "set(['y', 'x', 'z'])\n",
        "set(['s', 't'])\n",
        "Computing similarity on 3 exemplars\n",
        "Created exemplar set (3)\n",
        "Sorting 2 exemplar sim\n",
        "Wiring up 0 exemplar sims\n",
        "Computing Maximal Spanning Tree...\n",
        "Adding labels to graph...\n",
        "Root node = Root\n"
       ]
      },
      {
       "metadata": {},
       "output_type": "display_data",
       "png": "[encoded data removed]",
       "text": [
        "<matplotlib.figure.Figure at 0x10f405090>"
       ]
      }
     ],
     "prompt_number": 22
    },
    {
     "cell_type": "code",
     "collapsed": false,
     "input": [
      "# Now we'll do the same thing for our syslog data\n",
      "\n",
      "# Compute a hierarchical clustering from the similarity list\n",
      "h_clustering = hcluster.HCluster()\n",
      "h_clustering.set_sim_method(lsh.jaccard_sim)\n",
      "h_graph, h_tree = h_clustering.sims_to_hcluster(sims, dataframe['features'], \n",
      "                                                dataframe['label'],agg_sim=.2)"
     ],
     "language": "python",
     "metadata": {},
     "outputs": [
      {
       "output_type": "stream",
       "stream": "stdout",
       "text": [
        "set(['Chrome', 'Google', 'Helper'])\n",
        "set([''])\n",
        "set(['', 'AM', '2013-1'])\n",
        "set(['networ', 'change'])\n",
        "set([''])\n",
        "set(['Google', 'http', 'Helper', 'Chrome', 'of', 'known;', 'in', 'out-of', '/', 'will', 'Intern', 'via', 'CFAllo', 'failur', 'not', 'termin', 'result'])\n",
        "set(['digest'])\n",
        "set(['', 'bindin', '0x8', 'image', 'UTI', '-', 'extens', 'Varian', 'flags', 'FileIn', 'fileTy'])\n",
        "set(['', 'TTY=tt', 'sudo[1', 'brifor', ';', 'COMMAN', 'PWD=/U', 'USER=r'])\n",
        "set(['kernel', 'Google', 'notifi', 'Chrome', 'timeou', '(pid', 'He)', 'PM'])\n",
        "set([''])\n",
        "set(['Google'])\n",
        "set(['', 'networ', 'is', 'down', 'not', 'reacha', 'shutti', 'netbio'])\n",
        "set(['shield', 'authw', '0x0(0)', '0x7ffb', 'Window', 'device'])\n",
        "set(['ntpd[1', 's'])\n",
        "set(['to', 'config'])\n",
        "set(['assert', 'failed', '+', '13A603'])\n",
        "set(['', 'en0', 'UserEv', 'Captiv'])\n",
        "set(['kDPPat', 'kernel', 'NFC', 'Initia', 'int=0', '-', 'Credit', 'AppleT', '[src=0', 'dst=0]'])\n",
        "set(['for', 'diag', 'versio', 'to', '/Libra', 'spindu', 'report', 'powers', 'Saved', 'com.ap'])\n",
        "set(['CGXDis', 'postin', 'Window', 'kCGSDi'])\n",
        "set(['Skype[', '=', '<QCPat', '***', '\"(null'])\n",
        "set(['', 'kernel', 'RTC', 'SleepS', '2013/1', 'sleep'])\n",
        "set(['a', 'kernel', 'remote', 'USB', 'Hub', 'may', 'of', '1', '(Port', 'at', 'have', 'issuin', 'device', 'wake', 'The', 'caused', 'by', 'wakeup'])\n",
        "set(['applic', 'forcib', 're-ena', 'update', 'second', 'UI', 'were', 'by', 'Window'])\n",
        "set(['openvp'])\n",
        "set(['com.ap'])\n",
        "set(['', 'and', 'For', 'perfor', 'names', 'font', 'best', 'use', 'CTFont', 'when', 'note', 'only', 'PostSc', 'got', 'callin', 'CoreTe', 'Client', 'using', 'with', 'name', 'this', 'API.', 'called'])\n",
        "set(['login[', 'ttys00'])\n",
        "set(['a', 'to'])\n",
        "set(['status', 'kernel', 'CODE', 'SIGNIN', '(remov', 'VALID)', 'final', 'cs_inv', 'allow', 'page', '0x0,'])\n",
        "set(['kernel', '[', 'PCI', 'config', ']'])\n",
        "set(['such', 'No', 'or', 'file', 'direct'])\n",
        "set(['NSLoca', 'be', 'Domain', '{NSUnd', 'connec', 'appear', 'UserIn', 'NSErro', 'offlin', 'to', 'Intern', 'Code=-', 'Error', '\"The'])\n",
        "set(['KSUpda', '-[KSUp', 'update', 'Google'])\n",
        "set(['CGErro', 'notifi', 'pid_t)', '*const', 'second', 'size_t', 'out', 'from', 'for', 'PID', 'synchr', 'CGSNot', 'bool,', '(kCGSD', 'type', 'Window', 'int,', 'void', 'CGSRea', 'reply', 'Timed', 'const', '1.000', '102', 'wait', 'post_n', '(CID', 'CGSCon'])\n",
        "set(['(reaso', 'kernel', 'full', 'wake', 'ms', '1)'])\n",
        "set(['load', '1Passw', 'object', 'time', 'Databa', '(AGHtm', '(65', '[NSOpe'])\n",
        "set(['Invali', 'Window'])\n",
        "set(['deny', 'file-r'])\n",
        "set(['', 'kernel', 'for', 'Auth', 'en0', 'MAC', 'result', 'succee', 'AUTH', 'MacAut'])\n",
        "set(['on', '_doAut', 'Bailin', 'airpor', 'to', 'auto-j', 'Alread', 'WWN', 'associ'])\n",
        "set(['Quit', '-', 'imagen'])\n",
        "set(['stream', 'parent', '--', '[849', 'StartO', 'starte', ']', 'event', '***'])\n",
        "set(['to', 'apsd[1', 'servic', 'send', 'Failed', 'activa', 'com.ap', 'record'])\n",
        "set(['', 'kernel', '(2)', 'TBT', 'W'])\n",
        "set(['[<CalD', 'failed', 'to', 'Sequen', '[Addin', 'Calend', '0x7fd8', '[com.a', '0>]', 'operat'])\n",
        "set(['a', 'applic', 'Domain', 'helper', 'commun', 'Code=4', 'failed', 'Error', '\"Could', 'with'])\n",
        "set(['Google', '-[Keys'])\n",
        "set(['displa', 'Switch', 'virtua', 'Window', 'on-lin', 'mode', 'device'])\n",
        "set(['exceed', 'ntpd[1', 'PPM', 'tolera', 'freque', 'error', '500'])\n",
        "set(['Viscos'])\n",
        "Computing similarity on 52 exemplars\n",
        "Created exemplar set (52)\n",
        "Sorting 51 exemplar sim\n",
        "Wiring up 5 exemplar sims\n",
        "Computing Maximal Spanning Tree...\n"
       ]
      }
     ],
     "prompt_number": 23
    },
    {
     "cell_type": "code",
     "collapsed": false,
     "input": [
      "# Flipping pylab out of inline mode so we can have a GUI zoom/pan for\n",
      "# our plot, you can do %pylab inline to return to inline plot mode.\n",
      "%pylab osx"
     ],
     "language": "python",
     "metadata": {},
     "outputs": [
      {
       "output_type": "stream",
       "stream": "stdout",
       "text": [
        "Populating the interactive namespace from numpy and matplotlib\n"
       ]
      }
     ],
     "prompt_number": 24
    },
    {
     "cell_type": "code",
     "collapsed": false,
     "input": [
      "# Plot the hierarchical tree\n",
      "\n",
      "# Have some issues with this after doing 'Maverick Upgrade' on my Mac\n",
      "# h_clustering.plot_htree(h_tree, node_size=100,figsize=(20,12))\n",
      "\n",
      "# Go back to inline mode\n",
      "%pylab inline"
     ],
     "language": "python",
     "metadata": {},
     "outputs": [
      {
       "output_type": "stream",
       "stream": "stdout",
       "text": [
        "Adding labels to graph...\n",
        "Root node = 2223_2224_925_933_917_943_928_930_2100_2101_2196_2221\n",
        "Populating the interactive namespace from numpy and matplotlib"
       ]
      },
      {
       "output_type": "stream",
       "stream": "stdout",
       "text": [
        "\n"
       ]
      }
     ],
     "prompt_number": 25
    },
    {
     "cell_type": "code",
     "collapsed": false,
     "input": [
      "# Here's an image for those folks not looking at it interactively"
     ],
     "language": "python",
     "metadata": {},
     "outputs": [],
     "prompt_number": 25
    },
    {
     "cell_type": "markdown",
     "metadata": {},
     "source": [
      "<img src=\"files/images/h_cluster.png\">"
     ]
    },
    {
     "cell_type": "code",
     "collapsed": false,
     "input": [
      "# Even better save the graph out to json format and visualize it with D3 (D3js.org)\n",
      "import networkx.readwrite.json_graph\n",
      "import json\n",
      "graph_json = networkx.readwrite.json_graph.tree_data(h_tree, root='Root')\n",
      "json.dump(graph_json, open('h_tree.json','w'))\n",
      "\n"
     ],
     "language": "python",
     "metadata": {},
     "outputs": [],
     "prompt_number": 26
    },
    {
     "cell_type": "markdown",
     "metadata": {},
     "source": [
      "#### Please note the D3 vis below is embryonic, hoping to make it super cool...\n",
      "To run the visualization in your web browser, here we're using port 9999 instead of standard 8888 because we may have iPython already running on 8888:\n",
      "\n",
      "<pre>\n",
      "> cd data_hacking/fun_with_syslog\n",
      "> python -m SimpleHTTPServer 9999 &\n",
      "</pre>\n",
      "\n",
      "Now point your brower at the html file [http://localhost:9999/syslog_vis.html](http://localhost:9999/syslog_vis.html)"
     ]
    },
    {
     "cell_type": "markdown",
     "metadata": {},
     "source": [
      "<div style=\"float: right; margin: 0px 0px 0px 0px\"><img src=\"files/images/h_cluster_d3.png\">"
     ]
    },
    {
     "cell_type": "markdown",
     "metadata": {},
     "source": [
      "### ToDo\n",
      "Really want to improve the interactive D3 based Hierarchical Tree Visualization [D3 Data Driven Documents](http://d3js.org)\n",
      "\n",
      "### Conclusions\n",
      "We pulled in some syslog data into a Pandas dataframe, made some plots, computed row similarities with 'Banded MinHash' and used single-linkage clustering to build an agglomerative hierarchical cluster. Lots of possibilities from here, you could use just the LSH datastructure or the H-Cluster...\n",
      "\n",
      "  - LogFile Viewer\n",
      "    - Click on a row, filter out everything that's similar\n",
      "    - Click on a row, color code all the other rows based on similarity\n",
      "  - Super fancy D3 zoom in/filter awesomeness..."
     ]
    }
   ],
   "metadata": {}
  }
 ]
}