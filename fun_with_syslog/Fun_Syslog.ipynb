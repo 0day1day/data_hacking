{
 "metadata": {
  "name": ""
 },
 "nbformat": 3,
 "nbformat_minor": 0,
 "worksheets": [
  {
   "cells": [
    {
     "cell_type": "markdown",
     "metadata": {},
     "source": [
      "## Having Fun with Syslog.\n",
      "<div style=\"float: right;\"> <figure style=\"margin:0px 0px 0px 10px; padding:0\">\n",
      "<img src=\"http://www.sharielf.com/gifs/zz032411pony.jpg\" width=\"150px\">\n",
      "<figcaption>Shari Elf: www.sharielf.com</figcaption>\n",
      "</figure></div>\n",
      "In the next exercise we're going look at some syslog data. We'll take it up a notch by computing similarities with 'Banded MinHash' and running a hierarchical clustering algorithm.\n",
      "\n",
      "Systems logs are particularly challenging because they often lack any kind of structure as all. For this exercise we're going to be looking at the /var/log/system.log of a typical Mac OSX Laptop. The first steps will be standard data inspection and plots, after that we'll pull out the big guns!"
     ]
    },
    {
     "cell_type": "code",
     "collapsed": false,
     "input": [
      "# This exercise is mostly for us to understand what kind of data we have and then\n",
      "# run some simple stats on the fields/values in the data. Pandas will be great for that\n",
      "import pandas as pd\n",
      "pd.__version__"
     ],
     "language": "python",
     "metadata": {},
     "outputs": [
      {
       "metadata": {},
       "output_type": "pyout",
       "prompt_number": 35,
       "text": [
        "'0.12.0'"
       ]
      }
     ],
     "prompt_number": 35
    },
    {
     "cell_type": "code",
     "collapsed": false,
     "input": [
      "# Set default figure sizes\n",
      "pylab.rcParams['figure.figsize'] = (16.0, 5.0)"
     ],
     "language": "python",
     "metadata": {},
     "outputs": [],
     "prompt_number": 36
    },
    {
     "cell_type": "code",
     "collapsed": false,
     "input": [
      "# Lets take a peek at our system.log, with iPython you\n",
      "# can execute system commands with '!' (also see %alias)"
     ],
     "language": "python",
     "metadata": {},
     "outputs": [],
     "prompt_number": 37
    },
    {
     "cell_type": "code",
     "collapsed": false,
     "input": [
      "!head /var/log/system.log"
     ],
     "language": "python",
     "metadata": {},
     "outputs": [
      {
       "output_type": "stream",
       "stream": "stdout",
       "text": [
        "Nov 20 00:10:36 Voltron kernel[0]: Wake reason: RTC (Alarm)\r\n",
        "Nov 20 00:10:36 Voltron kernel[0]: RTC: SleepService 2013/11/20 06:10:36, sleep 2013/11/20 05:10:43\r\n",
        "Nov 20 00:10:36 Voltron kernel[0]: AirPort_Brcm43xx::powerChange: System Wake - Full Wake/ Dark Wake / Maintenance wake\r\n",
        "Nov 20 00:10:36 Voltron kernel[0]: Previous Sleep Cause: 5\r\n",
        "Nov 20 00:10:36 Voltron kernel[0]: IOPPF: Sent gpu-internal-plimit-notification last value 0 (rounded time weighted average 0)\r\n",
        "Nov 20 00:10:36 Voltron kernel[0]: IOThunderboltSwitch<0xffffff803668b200>(0x0)::listenerCallback - Thunderbolt HPD packet for route = 0x0 port = 11 unplug = 0\r\n",
        "Nov 20 00:10:36 Voltron kernel[0]: IOThunderboltSwitch<0xffffff803668b200>(0x0)::listenerCallback - Thunderbolt HPD packet for route = 0x0 port = 12 unplug = 0\r\n",
        "Nov 20 00:10:36 Voltron kernel[0]: wlEvent: en0 en0 Link DOWN virtIf = 0\r\n",
        "Nov 20 00:10:36 Voltron kernel[0]: AirPort: Link Down on en0. Reason 8 (Disassociated because station leaving).\r\n",
        "Nov 20 00:10:36 Voltron.local UserEventAgent[11]: Captive: CNPluginHandler en0: Inactive\r\n"
       ]
      }
     ],
     "prompt_number": 38
    },
    {
     "cell_type": "code",
     "collapsed": false,
     "input": [
      "# Okay so weird timestamp, machine name and then random stuff...\n",
      "import dateutil.parser"
     ],
     "language": "python",
     "metadata": {},
     "outputs": [],
     "prompt_number": 39
    },
    {
     "cell_type": "code",
     "collapsed": false,
     "input": [
      "# Helper function to make compact, composite labels for the syslog rows\n",
      "def make_label(features):\n",
      "    return unicode(':'.join([f[:6] for f in features]), 'utf-8').encode('ascii','ignore')\n",
      "\n",
      "# Now process the syslog file, part of the challenge is parsing the darn thing.\n",
      "# Typically each row in a syslog will have a timestamp first and then some random\n",
      "# set of other fields split on whitespace. We're going to carefully pull out the\n",
      "# timestamp but then just treat everything else as bag of tokens (sparse data).\n",
      "date_index = []\n",
      "with open('/var/log/system.log') as syslog:\n",
      "    syslog_rows = syslog.readlines()\n",
      "    syslog_events = []\n",
      "    for row in syslog_rows:\n",
      "        split_list = row.split()\n",
      "        date_string = ' '.join(split_list[:3])\n",
      "        try:\n",
      "            if (not date_string): continue\n",
      "            date = dateutil.parser.parse(date_string)\n",
      "        except ValueError:\n",
      "            continue # Going to skip rows where we can't get a timestamp\n",
      "        features = split_list[4:]\n",
      "        syslog_events.append({'features': features, 'label': make_label(features), 'type': features[0].split('[')[0]})\n",
      "        date_index.append(date)\n",
      "    dataframe = pd.DataFrame(syslog_events, index=date_index)"
     ],
     "language": "python",
     "metadata": {},
     "outputs": [],
     "prompt_number": 40
    },
    {
     "cell_type": "code",
     "collapsed": false,
     "input": [
      "# Make sure our timestamp got pulled/parsed/converted correctly\n",
      "type(dataframe.index[0])"
     ],
     "language": "python",
     "metadata": {},
     "outputs": [
      {
       "metadata": {},
       "output_type": "pyout",
       "prompt_number": 41,
       "text": [
        "pandas.tslib.Timestamp"
       ]
      }
     ],
     "prompt_number": 41
    },
    {
     "cell_type": "code",
     "collapsed": false,
     "input": [
      "dataframe.head(5)\n",
      "\n",
      "# So what do we have? Datetime is our index, features is just the \n",
      "# syslog row split by whitespace and placed into a list. The label\n",
      "# is just the features (truncated) and flattened with : separators.\n",
      "# 'type' is just the syslog identifier right after the datetime and machine.\n",
      "# Note: The parsing of the syslog is more art than science and syslogs\n",
      "#       can vary greatly, but we haven't done any super magic here,\n",
      "#       just basically thrown the row data into some bins..."
     ],
     "language": "python",
     "metadata": {},
     "outputs": [
      {
       "html": [
        "<div style=\"max-height:1000px;max-width:1500px;overflow:auto;\">\n",
        "<table border=\"1\" class=\"dataframe\">\n",
        "  <thead>\n",
        "    <tr style=\"text-align: right;\">\n",
        "      <th></th>\n",
        "      <th>features</th>\n",
        "      <th>label</th>\n",
        "      <th>type</th>\n",
        "    </tr>\n",
        "  </thead>\n",
        "  <tbody>\n",
        "    <tr>\n",
        "      <th>2013-11-20 00:10:36</th>\n",
        "      <td>         [kernel[0]:, Wake, reason:, RTC, (Alarm)]</td>\n",
        "      <td>                     kernel:Wake:reason:RTC:(Alarm</td>\n",
        "      <td> kernel</td>\n",
        "    </tr>\n",
        "    <tr>\n",
        "      <th>2013-11-20 00:10:36</th>\n",
        "      <td> [kernel[0]:, RTC:, SleepService, 2013/11/20, 0...</td>\n",
        "      <td> kernel:RTC::SleepS:2013/1:06:10::sleep:2013/1:...</td>\n",
        "      <td> kernel</td>\n",
        "    </tr>\n",
        "    <tr>\n",
        "      <th>2013-11-20 00:10:36</th>\n",
        "      <td> [kernel[0]:, AirPort_Brcm43xx::powerChange:, S...</td>\n",
        "      <td> kernel:AirPor:System:Wake:-:Full:Wake/:Dark:Wa...</td>\n",
        "      <td> kernel</td>\n",
        "    </tr>\n",
        "    <tr>\n",
        "      <th>2013-11-20 00:10:36</th>\n",
        "      <td>          [kernel[0]:, Previous, Sleep, Cause:, 5]</td>\n",
        "      <td>                      kernel:Previo:Sleep:Cause::5</td>\n",
        "      <td> kernel</td>\n",
        "    </tr>\n",
        "    <tr>\n",
        "      <th>2013-11-20 00:10:36</th>\n",
        "      <td> [kernel[0]:, IOPPF:, Sent, gpu-internal-plimit...</td>\n",
        "      <td> kernel:IOPPF::Sent:gpu-in:last:value:0:(round:...</td>\n",
        "      <td> kernel</td>\n",
        "    </tr>\n",
        "  </tbody>\n",
        "</table>\n",
        "</div>"
       ],
       "metadata": {},
       "output_type": "pyout",
       "prompt_number": 42,
       "text": [
        "                                                              features  \\\n",
        "2013-11-20 00:10:36          [kernel[0]:, Wake, reason:, RTC, (Alarm)]   \n",
        "2013-11-20 00:10:36  [kernel[0]:, RTC:, SleepService, 2013/11/20, 0...   \n",
        "2013-11-20 00:10:36  [kernel[0]:, AirPort_Brcm43xx::powerChange:, S...   \n",
        "2013-11-20 00:10:36           [kernel[0]:, Previous, Sleep, Cause:, 5]   \n",
        "2013-11-20 00:10:36  [kernel[0]:, IOPPF:, Sent, gpu-internal-plimit...   \n",
        "\n",
        "                                                                 label    type  \n",
        "2013-11-20 00:10:36                      kernel:Wake:reason:RTC:(Alarm  kernel  \n",
        "2013-11-20 00:10:36  kernel:RTC::SleepS:2013/1:06:10::sleep:2013/1:...  kernel  \n",
        "2013-11-20 00:10:36  kernel:AirPor:System:Wake:-:Full:Wake/:Dark:Wa...  kernel  \n",
        "2013-11-20 00:10:36                       kernel:Previo:Sleep:Cause::5  kernel  \n",
        "2013-11-20 00:10:36  kernel:IOPPF::Sent:gpu-in:last:value:0:(round:...  kernel  "
       ]
      }
     ],
     "prompt_number": 42
    },
    {
     "cell_type": "code",
     "collapsed": false,
     "input": [
      "dataframe.tail(5)"
     ],
     "language": "python",
     "metadata": {},
     "outputs": [
      {
       "html": [
        "<div style=\"max-height:1000px;max-width:1500px;overflow:auto;\">\n",
        "<table border=\"1\" class=\"dataframe\">\n",
        "  <thead>\n",
        "    <tr style=\"text-align: right;\">\n",
        "      <th></th>\n",
        "      <th>features</th>\n",
        "      <th>label</th>\n",
        "      <th>type</th>\n",
        "    </tr>\n",
        "  </thead>\n",
        "  <tbody>\n",
        "    <tr>\n",
        "      <th>2013-11-20 16:40:38</th>\n",
        "      <td> [kernel[0]:, SMC::smcReadKeyAction, ERROR, TC0...</td>\n",
        "      <td> kernel:SMC::s:ERROR:TC0D:kSMCBa:fKeyHa</td>\n",
        "      <td> kernel</td>\n",
        "    </tr>\n",
        "    <tr>\n",
        "      <th>2013-11-20 16:41:08</th>\n",
        "      <td>         [last, message, repeated, 24, times, ---]</td>\n",
        "      <td>        last:messag:repeat:24:times:---</td>\n",
        "      <td>   last</td>\n",
        "    </tr>\n",
        "    <tr>\n",
        "      <th>2013-11-20 16:41:08</th>\n",
        "      <td> [kernel[0]:, SMC::smcReadKeyAction, ERROR, TC0...</td>\n",
        "      <td> kernel:SMC::s:ERROR:TC0D:kSMCBa:fKeyHa</td>\n",
        "      <td> kernel</td>\n",
        "    </tr>\n",
        "    <tr>\n",
        "      <th>2013-11-20 16:41:38</th>\n",
        "      <td>         [last, message, repeated, 24, times, ---]</td>\n",
        "      <td>        last:messag:repeat:24:times:---</td>\n",
        "      <td>   last</td>\n",
        "    </tr>\n",
        "    <tr>\n",
        "      <th>2013-11-20 16:41:38</th>\n",
        "      <td> [kernel[0]:, SMC::smcReadKeyAction, ERROR, TC0...</td>\n",
        "      <td> kernel:SMC::s:ERROR:TC0D:kSMCBa:fKeyHa</td>\n",
        "      <td> kernel</td>\n",
        "    </tr>\n",
        "  </tbody>\n",
        "</table>\n",
        "</div>"
       ],
       "metadata": {},
       "output_type": "pyout",
       "prompt_number": 43,
       "text": [
        "                                                              features  \\\n",
        "2013-11-20 16:40:38  [kernel[0]:, SMC::smcReadKeyAction, ERROR, TC0...   \n",
        "2013-11-20 16:41:08          [last, message, repeated, 24, times, ---]   \n",
        "2013-11-20 16:41:08  [kernel[0]:, SMC::smcReadKeyAction, ERROR, TC0...   \n",
        "2013-11-20 16:41:38          [last, message, repeated, 24, times, ---]   \n",
        "2013-11-20 16:41:38  [kernel[0]:, SMC::smcReadKeyAction, ERROR, TC0...   \n",
        "\n",
        "                                                      label    type  \n",
        "2013-11-20 16:40:38  kernel:SMC::s:ERROR:TC0D:kSMCBa:fKeyHa  kernel  \n",
        "2013-11-20 16:41:08         last:messag:repeat:24:times:---    last  \n",
        "2013-11-20 16:41:08  kernel:SMC::s:ERROR:TC0D:kSMCBa:fKeyHa  kernel  \n",
        "2013-11-20 16:41:38         last:messag:repeat:24:times:---    last  \n",
        "2013-11-20 16:41:38  kernel:SMC::s:ERROR:TC0D:kSMCBa:fKeyHa  kernel  "
       ]
      }
     ],
     "prompt_number": 43
    },
    {
     "cell_type": "code",
     "collapsed": false,
     "input": [
      "# We can get a count of all the unique values by running value_counts()\n",
      "dataframe['label'].value_counts()\n",
      "\n",
      "# Okay the breakout below gives us a sense for our challenge..."
     ],
     "language": "python",
     "metadata": {},
     "outputs": [
      {
       "metadata": {},
       "output_type": "pyout",
       "prompt_number": 44,
       "text": [
        "kernel:SMC::s:ERROR:TC0D:kSMCBa:fKeyHa                          634\n",
        "last:messag:repeat:24:times:---                                 474\n",
        "kernel:IOThun:-:Thunde:HPD:packet:for:route:=:0x0:port:=:11:unplug:=:0     41\n",
        "digest:digest:init:reques                                        40\n",
        "digest:digest:init:return:domain:VOLTRO:server:VOLTRO:indoma:was::<NULL>     40\n",
        "digest:digest:uid=0                                              40\n",
        "Window:device:authw:0x0(0):shield:0x7ffb                         32\n",
        "kernel:IOThun:-:Thunde:HPD:packet:for:route:=:0x0:port:=:12:unplug:=:0     30\n",
        "Things:networ:reacha:has:change:not:reacha                       28\n",
        "last:messag:repeat:1:time:---                                    28\n",
        "config:networ:change:DNS*:Proxy                                  22\n",
        "kernel:wlEven:en0:en0:Link:UP:virtIf:=:0                         21\n",
        "kernel:flow_d:(0)::discon:group:1                                21\n",
        "kernel:AirPor:Link:Down:on:en0.:Reason:8:(Disas:becaus:statio:leavin     21\n",
        "kernel:AirPor:System:Wake:-:Full:Wake/:Dark:Wake:/:Mainte:wake     21\n",
        "...\n",
        "kernel:full:wake:(reaso:1):108:ms                               1\n",
        "DiskIm:UI:Agent[:Could:not:find:image:named:'backg              1\n",
        "sandbo:([4730:netbio:deny:mach-l:com.ap                         1\n",
        "Previe:view:servic:marsha:for:<NSRem:0x7f93:failed:to:forget:access:connec:due:to:Error:Domain:Code=4:\"Could:commun:with:a:helper:applic:(The:connec:was:invali:from:this:proces:UserIn:{NSDeb:connec:was:invali:from:this:proces    1\n",
        "kernel:RTC::SleepS:2013/1:13:17::sleep:2013/1:12:17:            1\n",
        "sandbo:([4722:netbio:deny:mach-l:com.ap                         1\n",
        "sandbo:([4720:netbio:deny:mach-l:com.ap                         1\n",
        "DiskIm:UI:Agent[:***:WARNIN:Method:userSp:in:class:NSWind:is:deprec:on:10.7:and:later.:It:should:not:be:used:in:new:applic:Use:conver:instea    1\n",
        "sudo[4:brifor:::TTY=tt:;:PWD=/U:;:USER=r:;:COMMAN:instal:afrrul    1\n",
        "kernel:RTC::SleepS:2013/1:07:11::sleep:2013/1:06:11:            1\n",
        "kernel:RTC::SleepS:2013/1:14:17::sleep:2013/1:13:18:            1\n",
        "sandbo:([4732:netbio:deny:mach-l:com.ap                         1\n",
        "Google:-[KSCh:perfor:KSChec:checki:2:ticket                     1\n",
        "Previe:Layout:still:needs:update:after:callin:-[IKIm:layout:IKImag:or:one:of:its:superc:may:have:overri:-layou:withou:callin:super.:Or,:someth:may:have:dirtie:layout:in:the:middle:of:updati:it.:Both:are:progra:errors:in:Cocoa:Autola:The:former:is:pretty:likely:to:arise:if:some:pre-Co:Autola:class:had:a:method:called:layout:but:it:should:be:fixed.    1\n",
        "Window:CGXDis:[40404:postin:kCGSDi                              1\n",
        "Length: 246, dtype: int64"
       ]
      }
     ],
     "prompt_number": 44
    },
    {
     "cell_type": "code",
     "collapsed": false,
     "input": [
      "# Realize that we don't want the 'last message' events\n",
      "dataframe = dataframe[dataframe['type'] != 'last']"
     ],
     "language": "python",
     "metadata": {},
     "outputs": [],
     "prompt_number": 45
    },
    {
     "cell_type": "markdown",
     "metadata": {},
     "source": [
      "### Lets do standard histogram and event volume over time plots"
     ]
    },
    {
     "cell_type": "code",
     "collapsed": false,
     "input": [
      "# Now prepare the data for plotting by pivoting on the \n",
      "# feature to create a new column (series) for each value\n",
      "\n",
      "# Only pull out the top 7 syslog event types\n",
      "topN = dataframe['type'].value_counts()[:7].index\n",
      "subset = dataframe[dataframe['type'].isin(topN)]\n",
      "print 'Subset: %d rows %d columns' % subset.shape\n",
      "\n",
      "# We're going to add a new column called value (needed for pivot). This\n",
      "# is a bit dorky, but needed as the new columns that get created should\n",
      "# really have a value in them, also we can use this as our value to sum over.\n",
      "subset['count'] = 1\n",
      "pivot = pd.pivot_table(subset, values='count', rows=subset.index, cols=['type'], fill_value=.01)\n",
      "by = lambda x: lambda y: getattr(y, x)\n",
      "grouped = pivot.groupby([by('hour')]).sum()\n",
      "grouped.plot(kind='bar', stacked=True)\n",
      "grouped.plot()"
     ],
     "language": "python",
     "metadata": {},
     "outputs": [
      {
       "output_type": "stream",
       "stream": "stdout",
       "text": [
        "Subset: 1631 rows 3 columns\n"
       ]
      },
      {
       "metadata": {},
       "output_type": "pyout",
       "prompt_number": 46,
       "text": [
        "<matplotlib.axes.AxesSubplot at 0x10a64ecd0>"
       ]
      },
      {
       "metadata": {},
       "output_type": "display_data",
       "png": "[encoded data removed]",
       "text": [
        "<matplotlib.figure.Figure at 0x10a58b450>"
       ]
      },
      {
       "metadata": {},
       "output_type": "display_data",
       "png": "[encoded data removed]",
       "text": [
        "<matplotlib.figure.Figure at 0x10a58b3d0>"
       ]
      }
     ],
     "prompt_number": 46
    },
    {
     "cell_type": "markdown",
     "metadata": {},
     "source": [
      "<div style=\"float: right; margin: 20px 20px 150px 20px\"><img src=\"files/images/spice_weasel.jpg\" width=\"300px\" style=\"margin: 10px\">\n",
      "<div><span style=\"font-size: 9px;\">\u00a9 Some super nice person who's not going to sue me</span></div></div>\n",
      "#### Well besides learning we have lots of kernel syslog messages, kinda boring...<br><br>So, lets take is up a notch with the good 'ol spice weasel! Bam!\n",
      "1. **Compute similarities between all rows within the system log using LSH**\n",
      "    Unlike conventional hash functions the goal of LSH (Locality Sensitive Hashing) is to maximize probability of \"collision\" of similar items rather than avoid collisions.\n",
      "    * [MinHash](http://en.wikipedia.org/wiki/MinHash)\n",
      "    * [Locality Sensitive Hashing](http://en.wikipedia.org/wiki/Locality_sensitive_hashing)\n",
      "    * [Mining of Massive Datasets](http://infolab.stanford.edu/~ullman/mmds/ch3.pdf)\n",
      "2. **Use those similarities as the basis of a Hierarchical Clustering Algorithm**\n",
      "    Single-linkage clustering is one of several methods for agglomerative \n",
      "    hierarchical clustering.\n",
      "    - [Single Linkage Clustering](http://en.wikipedia.org/wiki/Single-linkage_clustering)\n",
      "    - [Hierarchical Clustering](http://en.wikipedia.org/wiki/Hierarchical_clustering)\n",
      "    \n",
      "    Other popular online clustering algorithms\n",
      "    - [DBSCAN](http://en.wikipedia.org/wiki/DBSCAN)\n",
      "    - [OPTICS Algorithms](http://en.wikipedia.org/wiki/OPTICS_algorithm)"
     ]
    },
    {
     "cell_type": "code",
     "collapsed": false,
     "input": [
      "# Even for small syslogs the number of similarity pairs to compute quickly\n",
      "# becomes quite large O(N**2), so for 100k rows that's 10 billion possible\n",
      "# pairs. Using Banded MinHash will drastically reduce the number of \n",
      "# candidates that we have to compute.\n",
      "import data_hacking.lsh_sims as lsh_sims\n",
      "\n",
      "# Note: The parameters here are setup for feeding the results into a Hierarchical\n",
      "#       Clustering algorithm, which needs as many similarities as you can get.\n",
      "#       In general you'd parameters like num_hashes:20, lsh_bands:5 lsh_rows:4  \n",
      "#       Note: lsh_bands*lsh_rows ^must^ equal num_hashes\n",
      "params = {'num_hashes':20, 'lsh_bands':20, 'lsh_rows':1, 'drop_duplicates':True}\n",
      "lsh = lsh_sims.LSHSimilarities(dataframe['features'], mh_params=params)\n",
      "sims = lsh.batch_compute_similarities(distance_metric='jaccard', threshold=.2)"
     ],
     "language": "python",
     "metadata": {},
     "outputs": [
      {
       "output_type": "stream",
       "stream": "stdout",
       "text": [
        "Adding 1871 samples to minhash...\n",
        "Computing All Candidate Matches..."
       ]
      },
      {
       "output_type": "stream",
       "stream": "stdout",
       "text": [
        "\n",
        "\tComputing All to All Candidates Matches...\n",
        "\t\tCollapsing Candidate Pairs...\n",
        "10551 (0.30% out of 3500641) pairs returned from MinHash"
       ]
      },
      {
       "output_type": "stream",
       "stream": "stdout",
       "text": [
        "\n",
        "LSH: 2098 matches out of 10551 candidates (adjust parameters if needed)"
       ]
      },
      {
       "output_type": "stream",
       "stream": "stdout",
       "text": [
        "\n"
       ]
      }
     ],
     "prompt_number": 47
    },
    {
     "cell_type": "markdown",
     "metadata": {},
     "source": [
      "#### The LSH Sims python class has two distance metrics\n",
      "\n",
      "1) Jaccard Index: a set based distance metric (overlaps in sets of elements)\n",
      "  \n",
      "   - [Jaccard Index](http://en.wikipedia.org/wiki/Jaccard_index)\n",
      "\n",
      "2) Levenshtein Distance: based on the edit distance of the elements (so order matters).\n",
      "  \n",
      "   - [Levenshtein Distance](http://en.wikipedia.org/wiki/Levenshtein_distance)"
     ]
    },
    {
     "cell_type": "code",
     "collapsed": false,
     "input": [
      "# Lets look at the difference between Jaccard Similarity and Levenshtein Similarity\n",
      "# So here similarity is a normalized measure of inverse distance...\n",
      "print 'Jaccard Index (Sim): %f ' % lsh.jaccard_sim(['a','b','c','d'], ['a','b','d','c'])\n",
      "print 'Levenshtein Distance: %f ' % lsh.levenshtein(['a','b','c','d'], ['a','b','d','c'])\n",
      "print 'Levenshtein (Sim): %f ' % lsh.l_sim(['a','b','c','d'], ['a','b','d','c'])"
     ],
     "language": "python",
     "metadata": {},
     "outputs": [
      {
       "output_type": "stream",
       "stream": "stdout",
       "text": [
        "Jaccard Index (Sim): 1.000000 \n",
        "Levenshtein Distance: 2.000000 \n",
        "Levenshtein (Sim): 0.500000 \n"
       ]
      }
     ],
     "prompt_number": 48
    },
    {
     "cell_type": "code",
     "collapsed": false,
     "input": [
      "# One more example for intuition (also note they don't have to be the same size)\n",
      "print 'Jaccard Index (Sim): %f ' % lsh.jaccard_sim(['a','b','c'], ['a','b','c','x'])\n",
      "print 'Levenshtein Distance: %f ' % lsh.levenshtein(['a','b','c'], ['a','b','c','x'])\n",
      "print 'Levenshtein (Sim): %f ' % lsh.l_sim(['a','b','c'], ['a','b','c','x'])"
     ],
     "language": "python",
     "metadata": {},
     "outputs": [
      {
       "output_type": "stream",
       "stream": "stdout",
       "text": [
        "Jaccard Index (Sim): 0.750000 \n",
        "Levenshtein Distance: 1.000000 \n",
        "Levenshtein (Sim): 0.750000 \n"
       ]
      }
     ],
     "prompt_number": 49
    },
    {
     "cell_type": "code",
     "collapsed": false,
     "input": [
      "# Okay now that we have the similarities between all the rows in our syslog\n",
      "# we can start to investigate the results.\n",
      "sims.sort(reverse=True)\n",
      "print '*** Top sims ***'\n",
      "sims[:10]\n",
      "#sims[-10:]"
     ],
     "language": "python",
     "metadata": {},
     "outputs": [
      {
       "output_type": "stream",
       "stream": "stdout",
       "text": [
        "*** Top sims ***\n"
       ]
      },
      {
       "metadata": {},
       "output_type": "pyout",
       "prompt_number": 50,
       "text": [
        "[(1.0, 459, 1120),\n",
        " (0.9629629629629629, 1775, 1842),\n",
        " (0.9629629629629629, 1725, 1842),\n",
        " (0.9629629629629629, 1725, 1775),\n",
        " (0.9629629629629629, 1706, 1842),\n",
        " (0.9629629629629629, 1706, 1775),\n",
        " (0.9629629629629629, 1706, 1725),\n",
        " (0.9629629629629629, 1694, 1842),\n",
        " (0.9629629629629629, 1694, 1775),\n",
        " (0.9629629629629629, 1694, 1725)]"
       ]
      }
     ],
     "prompt_number": 50
    },
    {
     "cell_type": "code",
     "collapsed": false,
     "input": [
      "print dataframe.iloc[1775]['features']"
     ],
     "language": "python",
     "metadata": {},
     "outputs": [
      {
       "output_type": "stream",
       "stream": "stdout",
       "text": [
        "['Google', 'Chrome', 'Helper[49481]:', 'Process', 'unable', 'to', 'create', 'connection', 'because', 'the', 'sandbox', 'denied', 'the', 'right', 'to', 'lookup', 'com.apple.coreservices.launchservicesd', 'and', 'so', 'this', 'process', 'cannot', 'talk', 'to', 'launchservicesd.', ':', 'LSXPCClient.cp', '#426', '___ZN26LSClientToServerConnection21setupServerConnectionEiPK14__CFDictionary_block_invoke()', 'q=com.apple.main-thread']\n"
       ]
      }
     ],
     "prompt_number": 51
    },
    {
     "cell_type": "code",
     "collapsed": false,
     "input": [
      "print dataframe.iloc[1842]['features']"
     ],
     "language": "python",
     "metadata": {},
     "outputs": [
      {
       "output_type": "stream",
       "stream": "stdout",
       "text": [
        "['Google', 'Chrome', 'Helper[49583]:', 'Process', 'unable', 'to', 'create', 'connection', 'because', 'the', 'sandbox', 'denied', 'the', 'right', 'to', 'lookup', 'com.apple.coreservices.launchservicesd', 'and', 'so', 'this', 'process', 'cannot', 'talk', 'to', 'launchservicesd.', ':', 'LSXPCClient.cp', '#426', '___ZN26LSClientToServerConnection21setupServerConnectionEiPK14__CFDictionary_block_invoke()', 'q=com.apple.main-thread']\n"
       ]
      }
     ],
     "prompt_number": 52
    },
    {
     "cell_type": "code",
     "collapsed": false,
     "input": [
      "# The two feature sets should look quite similar (recall that this\n",
      "# is just our syslog row split on white space and thrown into a list)\n",
      "\n",
      "# So now for any row in our syslog we can see what rows are highly\n",
      "# similar to that row.\n",
      "query_item = ['Google', 'Chrome', 'Helper[11545]:', 'Process', 'unable', 'to', 'create', 'connection', 'because', 'the', 'sandbox', 'denied', 'the', 'right', 'to', 'lookup', 'com.apple.coreservices.launchservicesd', 'and', 'so', 'this', 'process', 'cannot', 'talk', 'to', 'launchservicesd.', ':', 'LSXPCClient.cp', '#426', '___ZN26LSClientToServerConnection21setupServerConnectionEiPK14__CFDictionary_block_invoke()', 'q=com.apple.main-thread']\n",
      "lsh.top_N(query_item,dataframe['label'], 5)\n"
     ],
     "language": "python",
     "metadata": {},
     "outputs": [
      {
       "metadata": {},
       "output_type": "pyout",
       "prompt_number": 53,
       "text": [
        "[{'label': 'Google:Chrome:Helper:Proces:unable:to:create:connec:becaus:the:sandbo:denied:the:right:to:lookup:com.ap:and:so:this:proces:cannot:talk:to:launch:::LSXPCC:#426:___ZN2:q=com.',\n",
        "  'sim': 0.9629629629629629},\n",
        " {'label': 'Google:Chrome:Helper:Proces:unable:to:create:connec:becaus:the:sandbo:denied:the:right:to:lookup:com.ap:and:so:this:proces:cannot:talk:to:launch:::LSXPCC:#426:___ZN2:q=com.',\n",
        "  'sim': 0.9629629629629629},\n",
        " {'label': 'Google:Chrome:Helper:Proces:unable:to:create:connec:becaus:the:sandbo:denied:the:right:to:lookup:com.ap:and:so:this:proces:cannot:talk:to:launch:::LSXPCC:#426:___ZN2:q=com.',\n",
        "  'sim': 0.9629629629629629},\n",
        " {'label': 'Google:Chrome:Helper:Proces:unable:to:create:connec:becaus:the:sandbo:denied:the:right:to:lookup:com.ap:and:so:this:proces:cannot:talk:to:launch:::LSXPCC:#426:___ZN2:q=com.',\n",
        "  'sim': 0.9629629629629629},\n",
        " {'label': 'Google:Chrome:Helper:Proces:unable:to:create:connec:becaus:the:sandbo:denied:the:right:to:lookup:com.ap:and:so:this:proces:cannot:talk:to:launch:::LSXPCC:#426:___ZN2:q=com.',\n",
        "  'sim': 0.9629629629629629}]"
       ]
      }
     ],
     "prompt_number": 53
    },
    {
     "cell_type": "code",
     "collapsed": false,
     "input": [
      "# Note the query object doesn't have all the original features\n",
      "query_item = ['Google', 'Chrome', 'Process', 'unable', 'to', 'sandbox']\n",
      "lsh.top_N(query_item,dataframe['label'], 5)"
     ],
     "language": "python",
     "metadata": {},
     "outputs": [
      {
       "metadata": {},
       "output_type": "pyout",
       "prompt_number": 54,
       "text": [
        "[{'label': 'Google:Chrome:Helper:Proces:unable:to:create:connec:becaus:the:sandbo:denied:the:right:to:lookup:com.ap:and:so:this:proces:cannot:talk:to:launch',\n",
        "  'sim': 0.2727272727272727},\n",
        " {'label': 'Google:Chrome:Helper:Proces:unable:to:create:connec:becaus:the:sandbo:denied:the:right:to:lookup:com.ap:and:so:this:proces:cannot:talk:to:launch',\n",
        "  'sim': 0.2727272727272727},\n",
        " {'label': 'Google:Chrome:Helper:Proces:unable:to:create:connec:becaus:the:sandbo:denied:the:right:to:lookup:com.ap:and:so:this:proces:cannot:talk:to:launch',\n",
        "  'sim': 0.2727272727272727},\n",
        " {'label': 'Google:Chrome:Helper:Proces:unable:to:create:connec:becaus:the:sandbo:denied:the:right:to:lookup:com.ap:and:so:this:proces:cannot:talk:to:launch',\n",
        "  'sim': 0.2727272727272727},\n",
        " {'label': 'Google:Chrome:Helper:Proces:unable:to:create:connec:becaus:the:sandbo:denied:the:right:to:lookup:com.ap:and:so:this:proces:cannot:talk:to:launch',\n",
        "  'sim': 0.2727272727272727}]"
       ]
      }
     ],
     "prompt_number": 54
    },
    {
     "cell_type": "markdown",
     "metadata": {},
     "source": [
      "<div style=\"float: right; margin: 20px 20px 20px 20px\"><img src=\"files/images/agg.jpg\" style=\"margin: 10px\"></div>\n",
      "### Hierarchical Clustering \n",
      "Now we can use those similarities as the basis of a Hierarchical Clustering Algorithm. Single-linkage clustering is one of several methods for agglomerative hierarchical clustering. The image on the right is an example of how this works. \n",
      "\n",
      "We're using a bottom up method (image is flipped :), you simply sort the similarities and start building your tree from the bottom. If B and C are the most similar you link them, then D/E and so on until you complete the tree. The devil is **definitely** in the details on the implementation of this, so luckily we have a python class that does it for us."
     ]
    },
    {
     "cell_type": "code",
     "collapsed": false,
     "input": [
      "# A simple example for illustration\n",
      "import data_hacking.hcluster as hcluster\n",
      "\n",
      "toy_data = [['a','b','c','d'],['a','b','d'],['a','b','e','d'],['a','b','f'],\n",
      "            ['w','x','y','z'],['x','y','z'],['w','x','q','z','y'],\n",
      "            ['r','s','t'],['u','s','t']]\n",
      "\n",
      "toy_lsh = lsh_sims.LSHSimilarities(toy_data, mh_params=params)\n",
      "toy_sims = toy_lsh.batch_compute_similarities(distance_metric='jaccard', threshold=.2)\n",
      "    \n",
      "# Compute a hierarchical clustering from the similarity list\n",
      "toy_h_clustering = hcluster.HCluster(toy_data)\n",
      "toy_h_clustering.set_sim_method(toy_lsh.jaccard_sim)\n",
      "toy_h_graph, toy_h_tree = toy_h_clustering.sims_to_hcluster(toy_sims)\n",
      "\n",
      "# Plot the hierarchical tree\n",
      "toy_h_clustering.plot_htree(toy_h_tree, prog='dot')\n"
     ],
     "language": "python",
     "metadata": {},
     "outputs": [
      {
       "output_type": "stream",
       "stream": "stdout",
       "text": [
        "Adding 9 samples to minhash...\n",
        "Computing All Candidate Matches...\n",
        "\tComputing All to All Candidates Matches...\n",
        "\t\tCollapsing Candidate Pairs...\n",
        "10 (12.35% out of 81) pairs returned from MinHash\n",
        "LSH: 10 matches out of 10 candidates (adjust parameters if needed)\n",
        "set(['a', 'b'])\n",
        "set(['y', 'x', 'z'])\n",
        "set(['s', 't'])\n",
        "Computing similarity on 3 exemplars\n",
        "Created exemplar set (3)\n",
        "Sorting 2 exemplar sim\n",
        "Wiring up 0 exemplar sims\n",
        "Computing Maximal Spanning Tree...\n",
        "Adding labels to graph...\n",
        "Root node = Root\n"
       ]
      },
      {
       "metadata": {},
       "output_type": "display_data",
       "png": "[encoded data removed]",
       "text": [
        "<matplotlib.figure.Figure at 0x10a656110>"
       ]
      }
     ],
     "prompt_number": 55
    },
    {
     "cell_type": "code",
     "collapsed": false,
     "input": [
      "# Now we'll do the same thing for our syslog data\n",
      "\n",
      "# Compute a hierarchical clustering from the similarity list\n",
      "h_clustering = hcluster.HCluster(dataframe['features'])\n",
      "h_clustering.set_sim_method(lsh.jaccard_sim)\n",
      "h_graph, h_tree = h_clustering.sims_to_hcluster(sims, dataframe['label'],agg_sim=.2)"
     ],
     "language": "python",
     "metadata": {},
     "outputs": [
      {
       "output_type": "stream",
       "stream": "stdout",
       "text": [
        "set(['Chrome', 'Google', 'Helper'])\n",
        "set([''])\n",
        "set(['digest'])\n",
        "set(['UserEv', 'Captiv'])\n",
        "set([''])\n",
        "set(['shield', 'authw', '0x0(0)', '0x7ffb', 'Window', 'device'])\n",
        "set(['', 'networ', 'is', 'down', 'not', 'reacha', 'shutti', 'netbio'])\n",
        "set(['Google'])\n",
        "set(['Google', 'http', 'Helper', 'Chrome', 'of', 'known;', 'in', 'out-of', '/', 'will', 'Intern', 'via', 'CFAllo', 'failur', 'not', 'termin', 'result'])\n",
        "set(['CGXDis', 'postin', 'Window', 'kCGSDi'])\n",
        "set(['networ', 'change'])\n",
        "set(['assert', 'failed', '+', '13A603'])\n",
        "set(['', 'kernel', 'RTC', 'SleepS', '18', '2013/1', 'sleep'])\n",
        "set(['(threa', 'usbmux'])\n",
        "set(['sandbo', 'deny', 'mach-l', 'com.ap', 'netbio'])\n",
        "set(['server', 'name', 'down?', 'netbio'])\n",
        "set(['and', 'on', 'later.', 'used', '10.7', 'be', 'is', 'WARNIN', 'It', 'should', 'deprec', 'Method', '***', 'applic', 'in', 'not', 'new', 'class', 'conver'])\n",
        "set(['', '<Displ', 'Extra', 'Menu', 'is', 'System', '0x7ffb', 'retain', 'over'])\n",
        "set(['Window'])\n",
        "set(['', 'kernel', 'for', 'Auth', 'en0', 'MAC', 'result', 'succee', 'AUTH', 'MacAut'])\n",
        "set(['Will', 'Thrott', '(com.a', 'respaw', 'start', 'second', 'in', 'com.ap'])\n",
        "set(['for', 'diag', 'versio', 'to', '/Libra', 'spindu', 'report', 'powers', 'Saved', 'com.ap'])\n",
        "set(['', 'Removi', 'log', 'spindu', '/', 'file', 'excess'])\n",
        "set(['login[', 'ttys00'])\n",
        "set(['(reaso', 'kernel', 'full', 'wake', 'ms', '1)'])\n",
        "set(['status', 'kernel', 'CODE', 'SIGNIN', '(remov', 'VALID)', 'page', 'cs_inv', 'allow', 'final', '0x0,'])\n",
        "set(['KSUpda', '-[KSUp', 'update', 'Google'])\n",
        "set(['', 'Calend', '[Accou', '[com.a', '\"The', 'connec', 'appear', 'UserIn', 'failed', 'CalDAV', 'to', 'be', 'offlin', 'Error', 'with', 'NSLoca', 'Domain', 'NSErro', 'refres', 'Intern', 'Code=-', 'error', '{NSUnd', 'Accoun'])\n",
        "set(['[<CalD', 'failed', 'to', 'Sequen', '[Addin', 'Calend', '0x7fd8', '[com.a', '0>]', 'operat'])\n",
        "set(['a', 'kernel', 'remote', 'USB', 'Hub', 'may', 'of', '(Port', 'at', 'have', 'issuin', 'device', 'wake', 'The', 'caused', 'HubDev', 'by', 'wakeup'])\n",
        "set(['', 'sudo[4', 'TTY=tt', 'psycop', 'brifor', 'instal', ';', 'COMMAN', 'PWD=/U', 'USER=r'])\n",
        "set(['on', '_doAut', 'Bailin', 'airpor', 'to', 'auto-j', 'Alread', 'associ'])\n",
        "set(['be', 'comple', 'couldn', '(com.a', 'to', 'regist', '-', 'secd[2', 'failed', '2', 'operat', 'Key', 'error', 'not', 'The', 'availa', 'call)', 'Public', 'before'])\n",
        "set(['', 'and', 'For', 'perfor', 'names', 'font', 'best', 'use', 'CTFont', 'when', 'note', 'only', 'PostSc', 'got', 'callin', 'CoreTe', 'Client', 'Grande', 'using', 'with', 'name', 'this', '\"Lucid', 'API.', 'called'])\n",
        "set(['', 'LASSes', '\"Scree', 'be', 'pid', 'forwar', 'in', 'tried', 'Applic', '\"C', '47', 'Assist', 'to', '0x7f98', 'denyin', '@', 'refs=5', 'but', '\"LSApp', 'q=LSSe', 'SetFro', 'asn', '#1481', 'Networ', 'brough', '0x', 'launch', 'queue', 'pid=47', '100005', 'so', '(', 'fPermi', 'App', \"isn't\"])\n",
        "set(['applic', 'psn', 'Networ', 'err=-1', '[cps/s', 'Failed', 'securi', 'Assist', 'to', 'Window', '0x0-0x', 'settin', 'front', 'the', 'Captiv'])\n",
        "set(['and', 'a', 'couldn', 'conten', 'receiv', '<dicti', 'Detail', 'messag', 'parse', 'NSFile', '0x7f88', 'fileco', '2,', '{', '=', 'it.', 'count'])\n",
        "set(['to', 'hostna', 'config', 'settin'])\n",
        "set(['old', 'loginw', 'magsaf', '1', 'state', '2', 'new', 'change'])\n",
        "set(['Window', 'handle'])\n",
        "set(['connec', 'receiv', 'event', 'Bogus', 'by', 'com.ap', 'listen'])\n",
        "set(['Google', '-[Keys'])\n",
        "set(['CoreSe'])\n",
        "set(['', 'bindin', '0x8', '-', 'image', 'UTI', 'html,', 'extens', 'Varian', 'flags', 'FileIn', 'fileTy', 'public'])\n",
        "set(['a', 'This', 'is', 'It', 'an', 'will', 'to', 'in', 'error.'])\n",
        "set(['forget', 'helper', 'connec', '(The', 'UserIn', 'commun', 'invali', 'due', 'access', 'failed', 'marsha', '<NSRem', '\"Could', 'was', 'applic', 'to', '{NSDeb', 'proces', 'Error', 'from', 'with', 'a', 'Domain', 'for', 'this', 'Code=4', 'servic', 'view'])\n",
        "set(['0xe800', 'Handle', 'for', 'WiFi', 'prefli', 'failed', 'device', 'Ignori', 'com.ap'])\n",
        "Computing similarity on 47 exemplars\n",
        "Created exemplar set (47)\n",
        "Sorting 46 exemplar sim\n",
        "Wiring up 4 exemplar sims\n",
        "Computing Maximal Spanning Tree...\n"
       ]
      }
     ],
     "prompt_number": 56
    },
    {
     "cell_type": "code",
     "collapsed": false,
     "input": [
      "# Flipping pylab out of inline mode so we can have a GUI zoom/pan for\n",
      "# our plot, you can do %pylab inline to return to inline plot mode.\n",
      "%pylab osx"
     ],
     "language": "python",
     "metadata": {},
     "outputs": [
      {
       "output_type": "stream",
       "stream": "stdout",
       "text": [
        "Populating the interactive namespace from numpy and matplotlib\n"
       ]
      }
     ],
     "prompt_number": 57
    },
    {
     "cell_type": "code",
     "collapsed": false,
     "input": [
      "# Plot the hierarchical tree\n",
      "\n",
      "# Have some issues with this after doing 'Maverick Upgrade' on my Mac\n",
      "# h_clustering.plot_htree(h_tree, node_size=100,figsize=(20,12))\n",
      "\n",
      "# Go back to inline mode\n",
      "%pylab inline"
     ],
     "language": "python",
     "metadata": {},
     "outputs": [
      {
       "output_type": "stream",
       "stream": "stdout",
       "text": [
        "Populating the interactive namespace from numpy and matplotlib\n"
       ]
      }
     ],
     "prompt_number": 58
    },
    {
     "cell_type": "code",
     "collapsed": false,
     "input": [
      "# Here's an image for those folks not looking at it interactively"
     ],
     "language": "python",
     "metadata": {},
     "outputs": [],
     "prompt_number": 59
    },
    {
     "cell_type": "markdown",
     "metadata": {},
     "source": [
      "<img src=\"files/images/h_cluster.png\">"
     ]
    },
    {
     "cell_type": "code",
     "collapsed": false,
     "input": [
      "# Even better save the graph out to json format and visualize it with D3 (D3js.org)\n",
      "import networkx.readwrite.json_graph\n",
      "import json\n",
      "graph_json = networkx.readwrite.json_graph.tree_data(h_tree, root='Root')\n",
      "json.dump(graph_json, open('h_tree.json','w'))\n",
      "\n"
     ],
     "language": "python",
     "metadata": {},
     "outputs": [],
     "prompt_number": 60
    },
    {
     "cell_type": "markdown",
     "metadata": {},
     "source": [
      "#### Please note the D3 vis below is embryonic, hoping to make it super cool...\n",
      "To run the visualization in your web browser, here we're using port 9999 instead of standard 8888 because we may have iPython already running on 8888:\n",
      "\n",
      "<pre>\n",
      "> cd data_hacking/fun_with_syslog\n",
      "> python -m SimpleHTTPServer 9999 &\n",
      "</pre>\n",
      "\n",
      "Now point your brower at the html file [http://localhost:9999/syslog_vis.html](http://localhost:9999/syslog_vis.html)"
     ]
    },
    {
     "cell_type": "markdown",
     "metadata": {},
     "source": [
      "<div style=\"float: right; margin: 0px 0px 0px 0px\"><img src=\"files/images/h_cluster_d3.png\">"
     ]
    },
    {
     "cell_type": "markdown",
     "metadata": {},
     "source": [
      "### ToDo\n",
      "Really want to improve the interactive D3 based Hierarchical Tree Visualization [D3 Data Driven Documents](http://d3js.org)\n",
      "\n",
      "### Conclusions\n",
      "We pulled in some syslog data into a Pandas dataframe, made some plots, computed row similarities with 'Banded MinHash' and used single-linkage clustering to build an agglomerative hierarchical cluster. Lots of possibilities from here, you could use just the LSH datastructure or the H-Cluster...\n",
      "\n",
      "  - LogFile Viewer\n",
      "    - Click on a row, filter out everything that's similar\n",
      "    - Click on a row, color code all the other rows based on similarity\n",
      "  - Super fancy D3 zoom in/filter awesomeness..."
     ]
    }
   ],
   "metadata": {}
  }
 ]
}